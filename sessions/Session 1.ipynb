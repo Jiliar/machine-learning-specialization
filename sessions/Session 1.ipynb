{
 "cells": [
  {
   "cell_type": "markdown",
   "id": "813719b2-b763-4021-8c6c-0369c10d3ed1",
   "metadata": {},
   "source": [
    "## Sessión 1"
   ]
  },
  {
   "cell_type": "code",
   "execution_count": 94,
   "id": "507a33ff-c278-4b54-a6d7-fbc3b1d6c33a",
   "metadata": {},
   "outputs": [],
   "source": [
    "numero_años = 15"
   ]
  },
  {
   "cell_type": "code",
   "execution_count": 7,
   "id": "2e777a39-fc93-4ca1-8250-34a821fc5c6a",
   "metadata": {},
   "outputs": [
    {
     "data": {
      "text/plain": [
       "int"
      ]
     },
     "execution_count": 7,
     "metadata": {},
     "output_type": "execute_result"
    }
   ],
   "source": [
    "type(numero_años)"
   ]
  },
  {
   "cell_type": "code",
   "execution_count": 9,
   "id": "d2f2789c-0210-4250-ab1e-e59ff88e1bb2",
   "metadata": {},
   "outputs": [
    {
     "name": "stdin",
     "output_type": "stream",
     "text": [
      "Ingrese su nombre: Jiliar\n"
     ]
    },
    {
     "name": "stdout",
     "output_type": "stream",
     "text": [
      "Hola Jiliar , esto es una cadena 12345\n",
      "Hola Jiliar, tienes 15 años\n",
      "Hola Jiliar, tienes 15 años\n"
     ]
    }
   ],
   "source": [
    "entrada = input(\"Ingrese su nombre:\")\n",
    "print(\"Hola\",entrada,\", esto es una cadena\", 12345)\n",
    "print(f\"Hola {entrada}, tienes {numero_años} años\")\n",
    "print(\"Hola {}, tienes {} años\".format(entrada, numero_años))"
   ]
  },
  {
   "cell_type": "code",
   "execution_count": 11,
   "id": "b4c43630-4a4b-4187-bbcd-3621a3227086",
   "metadata": {},
   "outputs": [
    {
     "name": "stdin",
     "output_type": "stream",
     "text": [
      "What is your name? Jiliar\n",
      "What year were you born? 1990\n"
     ]
    },
    {
     "name": "stdout",
     "output_type": "stream",
     "text": [
      "Hello, Jiliar! You are 34 years old.\n"
     ]
    }
   ],
   "source": [
    "# prompt: Genera un script donde pida un nombre y la fecha de nacimiento y realice un saludo mencionando el nombre y la edad.\n",
    "# Get the user'name.\n",
    "name = input(\"What is your name?\")\n",
    "#get the user's birthday.\n",
    "birth_year = int(input(\"What year were you born?\"))\n",
    "#Calculate the user's age.\n",
    "age = 2024 - birth_year\n",
    "#Print greeting\n",
    "print(f\"Hello, {name}! You are {age} years old.\")"
   ]
  },
  {
   "cell_type": "markdown",
   "id": "c9969710-7cc5-4b8f-8ab7-6bb36aa43ba5",
   "metadata": {},
   "source": [
    "### Comentarios"
   ]
  },
  {
   "cell_type": "markdown",
   "id": "2e759a18-a65d-43e5-9a4c-7769fc3e031a",
   "metadata": {},
   "source": [
    "Python nos permite agregar comentarios para documentar nuestro código. Los comentarios no seran tenidos en cuenta por el interprete.\n",
    "Se pueden tener comentarios de una única línea utilizando el simbolo #"
   ]
  },
  {
   "cell_type": "code",
   "execution_count": 18,
   "id": "ff77776e-8a56-4d31-8705-2715f9806e19",
   "metadata": {},
   "outputs": [],
   "source": [
    "# Este es un comentario de Python."
   ]
  },
  {
   "cell_type": "markdown",
   "id": "7728ddaf-68dd-4c9e-bde5-3b73f24a0da2",
   "metadata": {},
   "source": [
    "Tambien se posible crear comentarios de múltiples líneas utilizando tres comillas simples ''' o tres comillas dobles \"\"\". Esto puede crear saltos de lineas."
   ]
  },
  {
   "cell_type": "code",
   "execution_count": 25,
   "id": "c64e69e5-bca5-438a-b2f4-94860d2658a4",
   "metadata": {},
   "outputs": [
    {
     "name": "stdout",
     "output_type": "stream",
     "text": [
      " Podemos crear comentarios multilineas con comillas simples. \n",
      " Podemos crear comentarios multilineas con comillas dobles. \n"
     ]
    }
   ],
   "source": [
    "print(''' Podemos crear comentarios multilineas con comillas simples. ''')\n",
    "print(\"\"\" Podemos crear comentarios multilineas con comillas dobles. \"\"\")"
   ]
  },
  {
   "cell_type": "markdown",
   "id": "fad5ba6d-6c64-4386-a299-caac559eba82",
   "metadata": {},
   "source": [
    "## Definición de Funciones"
   ]
  },
  {
   "cell_type": "code",
   "execution_count": 30,
   "id": "b526d4ce-d064-45a9-b4a3-c5153f45d16d",
   "metadata": {},
   "outputs": [],
   "source": [
    "def function_test():\n",
    "    pass"
   ]
  },
  {
   "cell_type": "markdown",
   "id": "888bec00-f9e6-4f66-9730-27da13273d86",
   "metadata": {},
   "source": [
    "### CamelCase y snake_case"
   ]
  },
  {
   "cell_type": "markdown",
   "id": "6e0befa5-7578-4a76-b00e-f2f2e6aed47e",
   "metadata": {},
   "source": [
    "Python combina los estilos ```snake_case``` y ```CamelCase``` en su sintaxis."
   ]
  },
  {
   "cell_type": "markdown",
   "id": "001c98f2-39ab-475f-aef5-e0f883760505",
   "metadata": {},
   "source": [
    "+ *snake_case*: letras_minusculas_separadas_por_underscore ```my_variable```, ```my_function```, ```my_module```.\n",
    "+ *CamelCase*: Primera letra de cada palabra Mayuscúla ```ClassName```, ```methodName```, ```myVariable```.\n",
    "+ *Constantes*: TODO_EN_MAYUSCULA ```PI=3.1415```, ```ALL_UPPERCASE = True```"
   ]
  },
  {
   "cell_type": "markdown",
   "id": "03706de6-2c83-44af-a8fb-7ab7dc21220b",
   "metadata": {},
   "source": [
    "###### PEP 8 – Style Guide for Python Code\n",
    "[PEP 8 – Style Guide for Python Code\n",
    "(https://peps.python.org/pep-0008/m)\n"
   ]
  },
  {
   "cell_type": "markdown",
   "id": "8dc1af01-e2f5-45d8-8872-d86f04e003cc",
   "metadata": {},
   "source": [
    "### Tipos de Datos"
   ]
  },
  {
   "cell_type": "markdown",
   "id": "23147d55-570c-4bfa-a82b-7af3855a1baf",
   "metadata": {},
   "source": [
    "+ Numeric: It could be: Integer, Float, Complex No.\n",
    "+ Dictionary\n",
    "+ Boolean\n",
    "+ Set\n",
    "+ Sequence Type: It could be: String, List, Tuple"
   ]
  },
  {
   "cell_type": "markdown",
   "id": "fd8bd8c5-4311-4688-88ce-7faa64cf030e",
   "metadata": {},
   "source": [
    "### Examples:"
   ]
  },
  {
   "cell_type": "code",
   "execution_count": 56,
   "id": "1961620d-70df-4ec4-b16c-099c9ae2ba33",
   "metadata": {},
   "outputs": [
    {
     "name": "stdout",
     "output_type": "stream",
     "text": [
      "print(type(\"Una Cadena\"))\n",
      "<class 'str'>\n",
      "print(type(2.33))\n",
      "<class 'float'>\n",
      "print(type(111))\n",
      "<class 'int'>\n",
      "print(type(True))\n",
      "<class 'bool'>\n",
      "print(type({'key_1':0}))\n",
      "<class 'dict'>\n",
      "print(type([1,2,3,4]))\n",
      "<class 'list'>\n",
      "print(type({1,2,3,4}))\n",
      "<class 'set'>\n",
      "print(type((1,2)))\n",
      "<class 'tuple'>\n"
     ]
    }
   ],
   "source": [
    "print(\"\"\"print(type(\"Una Cadena\"))\"\"\")\n",
    "print(type(\"Una Cadena\"))\n",
    "print(\"\"\"print(type(2.33))\"\"\")\n",
    "print(type(2.33))\n",
    "print(\"\"\"print(type(111))\"\"\")\n",
    "print(type(111))\n",
    "print(\"\"\"print(type(True))\"\"\")\n",
    "print(type(True))\n",
    "print(\"\"\"print(type({'key_1':0}))\"\"\")\n",
    "print(type({'key_1':0}))\n",
    "print(\"\"\"print(type([1,2,3,4]))\"\"\")\n",
    "print(type([1,2,3,4]))\n",
    "print(\"\"\"print(type({1,2,3,4}))\"\"\")\n",
    "print(type({1,2,3,4}))\n",
    "print(\"\"\"print(type((1,2)))\"\"\")\n",
    "print(type((1,2)))"
   ]
  },
  {
   "cell_type": "markdown",
   "id": "4ab6c0c2-55e6-4ba6-bd9b-afbdec254422",
   "metadata": {},
   "source": [
    "##### Conjuntos:"
   ]
  },
  {
   "cell_type": "code",
   "execution_count": 64,
   "id": "dc69a9c7-2c27-4a85-9a7b-cd4ba24df3cd",
   "metadata": {},
   "outputs": [
    {
     "data": {
      "text/plain": [
       "{1, 2, 3, 5, 6}"
      ]
     },
     "execution_count": 64,
     "metadata": {},
     "output_type": "execute_result"
    }
   ],
   "source": [
    "set([1,2,3,5,6,6,6,6,6])"
   ]
  },
  {
   "cell_type": "markdown",
   "id": "f3aab941-53bb-4081-8618-fbb5fc792164",
   "metadata": {},
   "source": [
    "##### Listas:"
   ]
  },
  {
   "cell_type": "code",
   "execution_count": 66,
   "id": "c55d98bf-ba83-4451-9997-aa98362d89b1",
   "metadata": {},
   "outputs": [
    {
     "data": {
      "text/plain": [
       "[1, 2, 3, 5, 6, 6, 6, 6, 6]"
      ]
     },
     "execution_count": 66,
     "metadata": {},
     "output_type": "execute_result"
    }
   ],
   "source": [
    "[1,2,3,5,6,6,6,6,6]"
   ]
  },
  {
   "cell_type": "markdown",
   "id": "712b0b9b-25f7-4442-9c5b-c2894ae67535",
   "metadata": {},
   "source": [
    "#### Tuplas:"
   ]
  },
  {
   "cell_type": "code",
   "execution_count": 70,
   "id": "0f068ee9-96e0-4304-a305-f7424a18b92c",
   "metadata": {},
   "outputs": [
    {
     "data": {
      "text/plain": [
       "(1, 2, 3, 5, 6, 6, 6, 6, 6)"
      ]
     },
     "execution_count": 70,
     "metadata": {},
     "output_type": "execute_result"
    }
   ],
   "source": [
    "(1,2,3,5,6,6,6,6,6)"
   ]
  },
  {
   "cell_type": "markdown",
   "id": "ac32a61a-efaa-4a9d-a290-d28d296bff70",
   "metadata": {},
   "source": [
    "#### Variables:"
   ]
  },
  {
   "cell_type": "code",
   "execution_count": 77,
   "id": "6e2e1e93-9a9a-4832-bd4f-8ca9d2f34ca1",
   "metadata": {},
   "outputs": [
    {
     "name": "stdout",
     "output_type": "stream",
     "text": [
      "123 <class 'int'>\n",
      "True <class 'bool'>\n",
      "Cadena <class 'str'>\n"
     ]
    }
   ],
   "source": [
    "mensaje = 123\n",
    "print(mensaje, type(mensaje))\n",
    "mensaje = True\n",
    "print(mensaje, type(mensaje))\n",
    "mensaje = \"Cadena\"\n",
    "print(mensaje, type(mensaje))"
   ]
  },
  {
   "cell_type": "markdown",
   "id": "7ecb53b9-83f0-43a8-82ff-0fd903c9e81f",
   "metadata": {},
   "source": [
    "#### Palabras reservadas"
   ]
  },
  {
   "cell_type": "markdown",
   "id": "409ae16f-c6d7-43ed-ad53-6f1cfac7fdfb",
   "metadata": {},
   "source": [
    "|   |   |   |   |   |\n",
    "|---|---|---|---|---|\n",
    "| and | del | from | not| while |\n",
    "| as | elif | global | or | white |\n",
    "| assert | else | if | pass | yield |\n",
    "| break | except | import | print |  |\n",
    "| class | exec | in | raise |  |\n",
    "| continue | finally | is | return |  |\n",
    "| def | for | lambda | try |  |   |"
   ]
  },
  {
   "cell_type": "markdown",
   "id": "37a84784-2b04-40ac-9888-78b30b3f8d26",
   "metadata": {},
   "source": [
    "**Fuertemente tipado:** No permite realizar operaciones entre tipos de datos incompatibles"
   ]
  },
  {
   "cell_type": "code",
   "execution_count": 91,
   "id": "3e5ea36f-bcb9-42d4-88ab-23a1a065ba76",
   "metadata": {},
   "outputs": [
    {
     "ename": "TypeError",
     "evalue": "can only concatenate str (not \"list\") to str",
     "output_type": "error",
     "traceback": [
      "\u001b[1;31m---------------------------------------------------------------------------\u001b[0m",
      "\u001b[1;31mTypeError\u001b[0m                                 Traceback (most recent call last)",
      "Cell \u001b[1;32mIn[91], line 3\u001b[0m\n\u001b[0;32m      1\u001b[0m a \u001b[38;5;241m=\u001b[39m \u001b[38;5;124m'\u001b[39m\u001b[38;5;124m[\u001b[39m\u001b[38;5;124m\"\u001b[39m\u001b[38;5;124m5\u001b[39m\u001b[38;5;124m\"\u001b[39m\u001b[38;5;124m,\u001b[39m\u001b[38;5;124m\"\u001b[39m\u001b[38;5;124m4\u001b[39m\u001b[38;5;124m\"\u001b[39m\u001b[38;5;124m]\u001b[39m\u001b[38;5;124m'\u001b[39m\n\u001b[0;32m      2\u001b[0m b \u001b[38;5;241m=\u001b[39m [\u001b[38;5;124m\"\u001b[39m\u001b[38;5;124m7\u001b[39m\u001b[38;5;124m\"\u001b[39m, \u001b[38;5;241m4\u001b[39m]\n\u001b[1;32m----> 3\u001b[0m \u001b[38;5;28mprint\u001b[39m(\u001b[43ma\u001b[49m\u001b[43m \u001b[49m\u001b[38;5;241;43m+\u001b[39;49m\u001b[43m \u001b[49m\u001b[43mb\u001b[49m)\n",
      "\u001b[1;31mTypeError\u001b[0m: can only concatenate str (not \"list\") to str"
     ]
    }
   ],
   "source": [
    "a = '[\"5\",\"4\"]'\n",
    "b = [\"7\", 4]\n",
    "print(a + b)"
   ]
  },
  {
   "cell_type": "markdown",
   "id": "bf4adb6f-dffd-43ff-bd57-605bb941e939",
   "metadata": {},
   "source": [
    "## Anotaciones"
   ]
  },
  {
   "cell_type": "markdown",
   "id": "950bd8f7-7906-4f6f-bbed-002f3ac88a7b",
   "metadata": {},
   "source": [
    "A pesar de ser un lenguaje de tipado dinámico, Python soporta (de forma opcional) un sistema de tipos estáticos usando *anotaciones*. para esto usamos ```<variable> : <tipo de dato> = <valor>```"
   ]
  },
  {
   "cell_type": "code",
   "execution_count": null,
   "id": "487c0cbe-2b8d-4a0a-9265-0fdca7f3a3ba",
   "metadata": {},
   "outputs": [],
   "source": [
    "a : int = 10\n",
    "b : float = 3.14\n",
    "c : bool = False\n",
    "d : str = 'Hola Mundo'"
   ]
  },
  {
   "cell_type": "markdown",
   "id": "e0f1f0ad-93b3-49c1-9497-37cc302f24d9",
   "metadata": {},
   "source": [
    "Debido a que el tipado estático es opcioinal el interprete no generá un error si una variable cambia su tipo en tiempo de ejecución."
   ]
  },
  {
   "cell_type": "code",
   "execution_count": 106,
   "id": "f551f37f-b055-47a7-97bb-9cf17759f072",
   "metadata": {},
   "outputs": [
    {
     "name": "stdout",
     "output_type": "stream",
     "text": [
      "5 <class 'int'>\n",
      "Hola Mundo <class 'str'>\n"
     ]
    }
   ],
   "source": [
    "a : int = 5\n",
    "print(a, type(a))\n",
    "a = \"Hola Mundo\" #Esto no genera error durante la ejecución.\n",
    "print(a, type(a))"
   ]
  },
  {
   "cell_type": "markdown",
   "id": "70eaf1d2-02b6-4f91-805e-e7a7c67cbf93",
   "metadata": {},
   "source": [
    "#### Conversión entre tipos de datos"
   ]
  },
  {
   "cell_type": "markdown",
   "id": "e9af2532-9fab-48eb-bad1-b92b6bc357d1",
   "metadata": {},
   "source": [
    "Se pueden realizar conversiones entre diferentes tipos de datos utilizando las funciones incorporadas de Python."
   ]
  },
  {
   "cell_type": "code",
   "execution_count": 112,
   "id": "d15be70e-1640-480c-bad1-d0e245ce129e",
   "metadata": {},
   "outputs": [
    {
     "name": "stdin",
     "output_type": "stream",
     "text": [
      "Ingrese un número:  4\n"
     ]
    },
    {
     "name": "stdout",
     "output_type": "stream",
     "text": [
      "4 <class 'str'>\n",
      "4.0 <class 'float'>\n",
      "4 <class 'int'>\n",
      "True <class 'bool'>\n"
     ]
    }
   ],
   "source": [
    "entrada = input(\"Ingrese un número: \")\n",
    "print(entrada, type(entrada))\n",
    "entrada = float(entrada)\n",
    "print(entrada, type(entrada))\n",
    "entrada = int(entrada)\n",
    "print(entrada, type(entrada))\n",
    "entrada = bool(entrada)\n",
    "print(entrada, type(entrada))"
   ]
  },
  {
   "cell_type": "markdown",
   "id": "d02383fc-d3fe-4b0e-a61a-9a7bf7573c92",
   "metadata": {},
   "source": [
    "#### Expresiones aritméticas"
   ]
  },
  {
   "cell_type": "markdown",
   "id": "94c3a90c-e712-4cfe-bbfb-9d86a0aa1428",
   "metadata": {},
   "source": [
    "Python cuenta con la siguiente sintaxis para realizar operaciones aritméticas"
   ]
  },
  {
   "cell_type": "code",
   "execution_count": 124,
   "id": "211bc2d8-7a9b-4b0a-9f12-03a8d92dddec",
   "metadata": {},
   "outputs": [
    {
     "name": "stdout",
     "output_type": "stream",
     "text": [
      "suma:  12\n",
      "resta:  -8\n",
      "multiplicacion:  20\n",
      "division:  0.2\n",
      "division_entera:  0\n",
      "potencia:  100\n",
      "radicacion:  3.1622776601683795\n",
      "modulo:  0\n"
     ]
    }
   ],
   "source": [
    "a : int = 2\n",
    "b : int = 10\n",
    "suma = a + b\n",
    "print('suma: ',suma)\n",
    "resta = a - b\n",
    "print('resta: ',resta)\n",
    "multiplicacion = a * b\n",
    "print('multiplicacion: ',multiplicacion)\n",
    "division = a / b\n",
    "print('division: ',division)\n",
    "division_entera = a // b\n",
    "print('division_entera: ',division_entera)\n",
    "potencia = b ** a\n",
    "print('potencia: ',potencia)\n",
    "radicacion = b ** (1/a)\n",
    "print('radicacion: ',radicacion)\n",
    "modulo = b % a\n",
    "print('modulo: ',modulo)"
   ]
  },
  {
   "cell_type": "markdown",
   "id": "318d9cf2-ce0a-4072-a3cc-c8af68e6eac6",
   "metadata": {},
   "source": [
    "#### Expresiones de asignación\n"
   ]
  },
  {
   "cell_type": "code",
   "execution_count": 131,
   "id": "05f38df7-d1d0-40e2-9408-f3232e45a70e",
   "metadata": {},
   "outputs": [
    {
     "name": "stdout",
     "output_type": "stream",
     "text": [
      "x = 125 125\n",
      "x += 3 128\n",
      "x -= 3 125\n",
      "x *= 3 375\n",
      "x /= 3 125.0\n",
      "x %= 3 2.0\n",
      "x //= 3 0.0\n",
      "x **= 3 0.0\n"
     ]
    }
   ],
   "source": [
    "x = 125 # x = 125\n",
    "print(\"x = 125\", x)\n",
    "x += 3 # x = x + 3\n",
    "print('x += 3', x)\n",
    "x -= 3 # x =  x - 3\n",
    "print('x -= 3', x)\n",
    "x *= 3 # x =  x * 3\n",
    "print('x *= 3', x)\n",
    "x /= 3 # x =  x / 3\n",
    "print('x /= 3', x)\n",
    "x %= 3 # x =  x % 3\n",
    "print('x %= 3', x)\n",
    "x //= 3 # x =  x // 3\n",
    "print('x //= 3', x)\n",
    "x **= 3 # x =  x ** 3\n",
    "print('x **= 3', x)"
   ]
  },
  {
   "cell_type": "markdown",
   "id": "ad113933-40fd-4055-9eac-8a26c01616bc",
   "metadata": {},
   "source": [
    "#### Formulas"
   ]
  },
  {
   "cell_type": "markdown",
   "id": "0e043617-3c87-46ca-82ee-607e4538cbd2",
   "metadata": {},
   "source": [
    "$frac{(4+1)^2/3}$\\]"
   ]
  },
  {
   "cell_type": "code",
   "execution_count": 166,
   "id": "be903ba1-6f82-41d8-963d-a95edb181069",
   "metadata": {},
   "outputs": [
    {
     "name": "stdout",
     "output_type": "stream",
     "text": [
      "8.333333333333334\n"
     ]
    }
   ],
   "source": [
    "x = (4 + 1)**2 / 3\n",
    "print(x)"
   ]
  },
  {
   "cell_type": "markdown",
   "id": "eaa37b45-37b3-4446-bc09-bc2d65362c73",
   "metadata": {},
   "source": [
    "#### Falsy Values"
   ]
  },
  {
   "cell_type": "code",
   "execution_count": null,
   "id": "1d29c727-301a-479a-9bed-12aee0771fc8",
   "metadata": {},
   "outputs": [],
   "source": [
    "falsy_values = (0, False, None, '', [], {})"
   ]
  }
 ],
 "metadata": {
  "kernelspec": {
   "display_name": "Python 3 (ipykernel)",
   "language": "python",
   "name": "python3"
  },
  "language_info": {
   "codemirror_mode": {
    "name": "ipython",
    "version": 3
   },
   "file_extension": ".py",
   "mimetype": "text/x-python",
   "name": "python",
   "nbconvert_exporter": "python",
   "pygments_lexer": "ipython3",
   "version": "3.12.4"
  }
 },
 "nbformat": 4,
 "nbformat_minor": 5
}
