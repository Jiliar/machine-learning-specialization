{
 "cells": [
  {
   "cell_type": "markdown",
   "id": "f65db9ba-9890-4930-8d32-58fadd1027cf",
   "metadata": {},
   "source": [
    "## Sessión 2"
   ]
  },
  {
   "cell_type": "markdown",
   "id": "49b21dfe-8216-49c5-b658-dadeb2c908b3",
   "metadata": {},
   "source": [
    "### Identación"
   ]
  },
  {
   "cell_type": "markdown",
   "id": "99082ad5-d987-4945-b877-14aed932e83b",
   "metadata": {},
   "source": [
    "En Python, la identación es de caracter obligatorio y se refiere al número de espacios al principio de una línea de código. Esta nos permite separar los bloques de código y mantener una mejor estructura y legibilidad de nuestros programas."
   ]
  },
  {
   "cell_type": "code",
   "execution_count": 3,
   "id": "becd8c64-8ff2-41d3-a053-7127a76ba64f",
   "metadata": {},
   "outputs": [
    {
     "name": "stdout",
     "output_type": "stream",
     "text": [
      "5 es mayor que 2\n"
     ]
    }
   ],
   "source": [
    "if 5 > 2:\n",
    "    print(\"5 es mayor que 2\")"
   ]
  },
  {
   "cell_type": "markdown",
   "id": "e99b2b28-516c-41c9-87f6-115772c32535",
   "metadata": {},
   "source": [
    "Si no se realiza la identación correctamente python genera un error."
   ]
  },
  {
   "cell_type": "code",
   "execution_count": 6,
   "id": "9c884ab6-4a74-4605-b5cd-d01c6384442e",
   "metadata": {},
   "outputs": [
    {
     "ename": "IndentationError",
     "evalue": "expected an indented block after 'if' statement on line 1 (1452404002.py, line 2)",
     "output_type": "error",
     "traceback": [
      "\u001b[1;36m  Cell \u001b[1;32mIn[6], line 2\u001b[1;36m\u001b[0m\n\u001b[1;33m    print(\"5 es mayor que 2\")\u001b[0m\n\u001b[1;37m    ^\u001b[0m\n\u001b[1;31mIndentationError\u001b[0m\u001b[1;31m:\u001b[0m expected an indented block after 'if' statement on line 1\n"
     ]
    }
   ],
   "source": [
    "if 5 > 2:\n",
    "print(\"5 es mayor que 2\")"
   ]
  },
  {
   "cell_type": "markdown",
   "id": "cf731825-009d-4341-b29d-a294da830a8a",
   "metadata": {},
   "source": [
    "Se debe garantizar la misma cantidad de espacioes en un bloque de código de otra forma Python generará un error"
   ]
  },
  {
   "cell_type": "markdown",
   "id": "11103ab9-6158-47db-a5e5-b1c584ad2cf4",
   "metadata": {},
   "source": [
    "### Tipos de condicionales"
   ]
  },
  {
   "cell_type": "markdown",
   "id": "00c1c70b-879c-417e-9428-2d659bda9c9a",
   "metadata": {},
   "source": [
    "Python nos permite crear condicionales de 3 tipos:\n",
    "+ ```<If Statement>```\n",
    "+ ```<If Else Statement>```\n",
    "+ ```<Nested If>``` "
   ]
  },
  {
   "cell_type": "markdown",
   "id": "aeafbfbb-f2e2-42cf-b256-20bc47f64566",
   "metadata": {},
   "source": [
    "**Ejemplo** ```<If Statement>```: Determinar si hay sobrecosto por equipaje demasiado pesado"
   ]
  },
  {
   "cell_type": "code",
   "execution_count": 15,
   "id": "46c9d9e8-e6e2-4b11-9f10-e252c3ee882d",
   "metadata": {},
   "outputs": [
    {
     "name": "stdin",
     "output_type": "stream",
     "text": [
      "¿Cuantos kilos lleva de equipaje? 60\n"
     ]
    },
    {
     "name": "stdout",
     "output_type": "stream",
     "text": [
      "Se debe pagar un sobrecosto del 10% por llevar equipaje pesado.\n",
      "continue a la taquilla\n"
     ]
    }
   ],
   "source": [
    "peso = float(input('¿Cuantos kilos lleva de equipaje?'))\n",
    "if peso > 50:\n",
    "    print('Se debe pagar un sobrecosto del 10% por llevar equipaje pesado.')\n",
    "print('continue a la taquilla')"
   ]
  },
  {
   "cell_type": "markdown",
   "id": "b7c30c5b-2ce8-455c-90c4-c4771083b19c",
   "metadata": {},
   "source": [
    "**Ejemplo** ```<If Else Statement>```: Encontrar el valor absoluto de un número:"
   ]
  },
  {
   "cell_type": "code",
   "execution_count": 39,
   "id": "e620233b-14b1-4d34-9818-dfa984871e66",
   "metadata": {},
   "outputs": [
    {
     "name": "stdin",
     "output_type": "stream",
     "text": [
      "Ingrese un número 20\n"
     ]
    },
    {
     "name": "stdout",
     "output_type": "stream",
     "text": [
      "|20| = 20\n"
     ]
    }
   ],
   "source": [
    "a = int(input('Ingrese un número'))\n",
    "if a >= 0:\n",
    "    print(f'|{a}| = {a}')\n",
    "else:\n",
    "    print(f'|{a}| = {-a}')"
   ]
  },
  {
   "cell_type": "markdown",
   "id": "6b317b41-d33d-4ddd-950f-fc3a1c4d18a7",
   "metadata": {},
   "source": [
    "Si la expresión es corta, es posible escribir condicionales de tipo ```<If Else Statement>``` utilizando una contracción:"
   ]
  },
  {
   "cell_type": "code",
   "execution_count": 37,
   "id": "8c09eb83-0476-4940-bf6f-6625255ece5b",
   "metadata": {},
   "outputs": [
    {
     "name": "stdin",
     "output_type": "stream",
     "text": [
      "Por favor ingrese un número 5\n"
     ]
    },
    {
     "name": "stdout",
     "output_type": "stream",
     "text": [
      "|5| = 5\n"
     ]
    }
   ],
   "source": [
    "a = int(input('Por favor ingrese un número'))\n",
    "print(f'|{a}| = {a}' if a >= 0 else f'|{a}| = {-a}')"
   ]
  },
  {
   "cell_type": "markdown",
   "id": "fd8f2400-f96d-43e3-9acd-e339f0bee5c8",
   "metadata": {},
   "source": [
    "**Ejemplo** ```<Nested If>``` : Encontrar el mayor de dos números:"
   ]
  },
  {
   "cell_type": "code",
   "execution_count": 45,
   "id": "617b8d05-894a-4ec7-bcf1-d4848ad8276c",
   "metadata": {},
   "outputs": [
    {
     "name": "stdout",
     "output_type": "stream",
     "text": [
      "El mayor es 3 y además -12 es negativo\n"
     ]
    }
   ],
   "source": [
    "a = -12\n",
    "b = 3\n",
    "if(a > b and a + b > 0):\n",
    "    print(f'El mayor es {b}')\n",
    "elif (a+b<=0):\n",
    "    print(f'El mayor es {b} y además {a} es negativo')\n",
    "elif (a > b):\n",
    "    print(f'El mayor es {a}')\n",
    "else: \n",
    "    print(f'Los número son iguales')"
   ]
  },
  {
   "cell_type": "markdown",
   "id": "35b4db76-9e5e-4ba6-a33d-0023cbcc8204",
   "metadata": {},
   "source": [
    "### Ejercicio 1: Determinar el cuadrante"
   ]
  },
  {
   "cell_type": "markdown",
   "id": "c3976476-e252-4eac-a62a-8ec9a97e0d15",
   "metadata": {},
   "source": [
    "Suponga que despues de realizar una encuesta sobre la visión política y económica a diferentes ciudadanos, se obtienen dos valores que varian entre -5 y 50.  El primero, eje horizontal, hace referencia a la tendencia política y el segundo a su visión económica. Construya un programa que al leer estás dos puntuaciones determine en que cuadrante se encuentra la persona teniendo en como referencia el siguiente grafico:"
   ]
  },
  {
   "cell_type": "markdown",
   "id": "1286c5cb-fd0e-4060-8f4c-74b5a4dd1d0c",
   "metadata": {},
   "source": [
    "![Political Chart](https://upload.wikimedia.org/wikipedia/commons/c/cc/Political_chart_ES_yLR.svg)>))"
   ]
  },
  {
   "cell_type": "markdown",
   "id": "be946b42-9ba7-4e65-963a-3e5ee029830d",
   "metadata": {},
   "source": [
    "**Fuente:**  https://commons.wikimedia.org/wiki/File:Political_chart_ES_yLR.svg"
   ]
  },
  {
   "cell_type": "code",
   "execution_count": 132,
   "id": "5d9b8ccb-b798-48d1-a874-2df37fc0413c",
   "metadata": {},
   "outputs": [
    {
     "name": "stdin",
     "output_type": "stream",
     "text": [
      "Por favor ingrese la puntuación obtenida de la forma (politica, economia) 12,g\n"
     ]
    },
    {
     "name": "stdout",
     "output_type": "stream",
     "text": [
      "Ocurrió una excepción: invalid literal for int() with base 10: 'g'\n"
     ]
    }
   ],
   "source": [
    "def has_error(value, type):\n",
    "    flag : bool = False\n",
    "    if not( -5 <= int(value) <= 50 ) :\n",
    "        print(f'puntuación <{type}> incorrecta: \"Fuera del Rango\" {value}')\n",
    "        flag = True\n",
    "    if int(value) == 0:\n",
    "        print(f'puntuación <{type}> incorrecta: \"Invalida\" {value}')\n",
    "        flag = True\n",
    "    return flag\n",
    "\n",
    "def determine_quadrant(politic, economy):\n",
    "    if  int(politic) < 0 and int(economy) > 0:\n",
    "        print('Izquierda Autoritaria')\n",
    "    elif int(politic) > 0  and int(economy) > 0:\n",
    "        print('Derecha Autoritaria')\n",
    "    elif int(politic) < 0 and int(economy) < 0:\n",
    "        print('Izquierda Libertaria')\n",
    "    else:\n",
    "        print('Derecha Libertaria')\n",
    "\n",
    "def clean_input(string):\n",
    "    return string.strip().replace('(','').replace(')','').split(',')\n",
    "\n",
    "try:\n",
    "    string = input('Por favor ingrese la puntuación obtenida de la forma (politica, economia)')\n",
    "    data = clean_input(string)\n",
    "    if not has_error(data[0], 'politica') and not has_error(data[1], 'economica'):\n",
    "        determine_quadrant(data[0], data[1])\n",
    "except ValueError as e:\n",
    "    print(\"Ocurrió una excepción:\", e)"
   ]
  },
  {
   "cell_type": "markdown",
   "id": "b17a2871-fa42-426d-98ca-27f3e66abf22",
   "metadata": {},
   "source": [
    "# Explicación de la solución propuesta:\n",
    "El código seleccionado define tres funciones que son parte de un programa para evaluar puntuaciones políticas y económicas. Aquí tienes una explicación paso a paso de cada función:\r\n",
    "\r\n",
    "1. **Definición de la función: `def has_error(value, type):`**\r\n",
    "   - Esta función verifica si la puntuación proporcionada (`value`) está dentro de un rango válido y si es válida (no cero).\r\n",
    "   - Toma dos parámetros: `value` (la puntuación a verificar) y `type` (una cadena que indica si la puntuación es política o económica).\r\n",
    "\r\n",
    "2. **Inicialización de la bandera: `flag : bool = False`**\r\n",
    "   - Se inicializa una variable booleana `flag` en `False`. Esta se utilizará para indicar si se encuentra un error.\r\n",
    "\r\n",
    "3. **Verificación de rango: `if not( -5 <= int(value) <= 50 ):`**\r\n",
    "   - Esta condición verifica si el valor entero de `value` está fuera del rango de -5 a 50. Si lo está, se imprime un mensaje de error y se establece `flag` en `True`.\r\n",
    "\r\n",
    "4. **Verificación de cero: `if int(value) == 0:`**\r\n",
    "   - Esta condición verifica si el valor entero de `value` es cero. Si lo es, se imprime un mensaje de error y se establece `flag` en `True`.\r\n",
    "\r\n",
    "5. **Instrucción de retorno: `return flag`**\r\n",
    "   - La función devuelve el `flag`, que será `True` si se encontraron errores y `False` en caso contrario.\r\n",
    "\r\n",
    "6. **Definición de la función: `def determine_quadrant(politic, economy):`**\r\n",
    "   - Esta función determina el cuadrante político basado en las puntuaciones políticas y económicas proporcionadas.\r\n",
    "   - Toma dos parámetros: `politic` y `economy`.\r\n",
    "\r\n",
    "7. **Condiciones del cuadrante:**\r\n",
    "   - La función utiliza una serie de declaraciones `if`, `elif` y `else` para evaluar las puntuaciones:\r\n",
    "     - Si `politic` es negativo y `economy` es positivo, imprime \"Izquierda Autoritaria\".\r\n",
    "     - Si ambos son positivos, imprime \"Derecha Autoritaria\".\r\n",
    "     - Si ambos son negativos, imprime \"Izquierda Libertaria\".\r\n",
    "     - De lo contrario, imprime \"Derecha Libertaria\".\r\n",
    "\r\n",
    "8. **Definición de la función: `def clean_input(string):`**\r\n",
    "   - Esta función limpia y procesa la cadena de entrada.\r\n",
    "   - Toma un solo parámetro `string`.\r\n",
    "\r\n",
    "9. **Procesamiento de la cadena: `return string.strip().replace('(','').replace(')','').split(',')`**\r\n",
    "   - La función elimina cualquier espacio en blanco al principio o al final de la cadena, quita los paréntesis y divide la cadena por comas en una lista de valores.\r\n",
    "\r\n",
    "En resumen, el código seleccionado define funciones para validar las puntuaciones de entrada, determinar el cuadrante político basado en esas puntuaciones y limpiar la cadena de entrada para un procesamiento posterior."
   ]
  },
  {
   "cell_type": "markdown",
   "id": "231f0294-de9a-4ed3-8af6-d51af7547038",
   "metadata": {},
   "source": [
    "### Ejercicio 2: Calcular el IMC"
   ]
  },
  {
   "cell_type": "markdown",
   "id": "6ec0902a-6a0d-424a-9967-31718364702d",
   "metadata": {},
   "source": [
    "Asuma que el riesgo de que una persona sufra problemas del corazón depende de su edad y de su índice de masa corporal (IMC) "
   ]
  },
  {
   "cell_type": "markdown",
   "id": "fc36644d-ac04-4c7a-ae9e-629c534c260c",
   "metadata": {},
   "source": [
    "|   | $$ \\text{Edad} < 45 $$ | $$ \\text{Edad} \\geq 45 $$ |\n",
    "|---|---|---|\n",
    "| $$ \\text{IMC} < 22 $$ | $$ \\text{Bajo} $$ | $$ \\text{Medio} $$ |\n",
    "| $$ \\text{IMC} \\geq 45 $$ | $$ \\text{Medio} $$ | $$ \\text{Alto} $$ |"
   ]
  },
  {
   "cell_type": "markdown",
   "id": "7c4c7c7a-d492-4dec-abdd-f720841b9078",
   "metadata": {},
   "source": [
    "El índice de masa corporal (IMC) es el cociente entre el peso del individuo en kilos y el cuadrado de su altura en metros. Escriba un programa que reciba como entrada la altura, el peso y la edad de una persona, y entregue su IMC y su nivel actual de riesgo."
   ]
  },
  {
   "cell_type": "code",
   "execution_count": 144,
   "id": "205d9ada-bc0f-4e7e-b2d9-6d32d416f749",
   "metadata": {},
   "outputs": [
    {
     "name": "stdin",
     "output_type": "stream",
     "text": [
      "Por favor ingrese altura, peso y edad del individuo de laforma (altura [mts], peso [kg], edad[años]) 169,81,34\n"
     ]
    },
    {
     "name": "stdout",
     "output_type": "stream",
     "text": [
      " IMC: 0.0028360351528307834 , Age 34 : Riesgo problemas cardiacos [Bajo]\n"
     ]
    }
   ],
   "source": [
    "def has_error(value, type):\n",
    "    if int(value) < 0:\n",
    "        print(f'valor <{type}> incorrecto: \"El número es negativo\" {value}')\n",
    "        return True\n",
    "    return False\n",
    "\n",
    "def determine_heart_risk(height, weight, age):\n",
    "    imc = weight / height ** 2\n",
    "    if  int(imc) < 22 and int(age) < 45:\n",
    "        print(f' IMC: {imc} , Age {age} : Riesgo problemas cardiacos [Bajo]')\n",
    "    elif int(imc) < 22  and int(age) >= 45:\n",
    "        print(f' IMC: {imc} , Age {age} : Riesgo problemas cardiacos [Medio]')\n",
    "    elif int(imc) >= 45 and int(age) < 45:\n",
    "        print(f' IMC: {imc} , Age {age} : Riesgo problemas cardiacos [Medio]')\n",
    "    elif int(imc) >= 45 and int(age) >= 45:\n",
    "       print(f' IMC: {imc} , Age {age} : Riesgo problemas cardiacos [Alto]')\n",
    "\n",
    "try:\n",
    "    string = input('Por favor ingrese altura, peso y edad del individuo de laforma (altura [mts], peso [kg], edad[años])')\n",
    "    data = clean_input(string)\n",
    "    if not has_error(data[0], 'altura') and not has_error(data[1], 'peso') and not has_error(data[2], 'edad'):\n",
    "        determine_heart_risk(int(data[0]), int(data[1]), int(data[2]))\n",
    "except ValueError as e:\n",
    "    print(\"Ocurrió una excepción:\", e)"
   ]
  },
  {
   "cell_type": "markdown",
   "id": "4fdd9726-b19d-43cf-9a92-83c1ecaaad5d",
   "metadata": {},
   "source": [
    "# Explicación de la solución propuesta:\n",
    "\n",
    "El código seleccionado define una función llamada `has_error` que verifica si un valor dado es negativo. Aquí tienes una explicación paso a paso:\n",
    "\n",
    "1. `def has_error(value, type):` - Esta línea define una función llamada `has_error` que toma dos parámetros: `value` (el número a verificar) y `type` (una cadena que representa el tipo de valor, por ejemplo, altura, peso o edad).\n",
    "\n",
    "2. `if int(value) < 0:` - Esta línea verifica si la conversión a entero de `value` es menor que 0, lo que indica que el valor es negativo.\n",
    "\n",
    "3. `print(f'valor <{type}> incorrecto: \"El número es negativo\" {value}')` - Si el valor es negativo, esta línea imprime un mensaje de error indicando que el valor es incorrecto y especifica que es negativo.\n",
    "\n",
    "4. `return True` - La función devuelve `True` si el valor es negativo, indicando que ha ocurrido un error.\n",
    "\n",
    "5. `return False` - Si el valor no es negativo, la función llega a esta línea y devuelve `False`, indicando que no hay error.\n",
    "\n",
    "En resumen, la función `has_error` se utiliza para validar los valores de entrada verificando si son negativos y proporcionando retroalimentación si lo son."
   ]
  },
  {
   "cell_type": "code",
   "execution_count": null,
   "id": "12990ed5-9b0b-496c-b986-c5fa35c05cce",
   "metadata": {},
   "outputs": [],
   "source": []
  }
 ],
 "metadata": {
  "kernelspec": {
   "display_name": "Python 3 (ipykernel)",
   "language": "python",
   "name": "python3"
  },
  "language_info": {
   "codemirror_mode": {
    "name": "ipython",
    "version": 3
   },
   "file_extension": ".py",
   "mimetype": "text/x-python",
   "name": "python",
   "nbconvert_exporter": "python",
   "pygments_lexer": "ipython3",
   "version": "3.12.4"
  }
 },
 "nbformat": 4,
 "nbformat_minor": 5
}
