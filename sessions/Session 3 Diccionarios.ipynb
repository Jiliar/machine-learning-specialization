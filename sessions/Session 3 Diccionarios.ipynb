{
 "cells": [
  {
   "cell_type": "markdown",
   "id": "621733c8-aef5-4689-b867-7dcaaf2d08ba",
   "metadata": {},
   "source": [
    "## Sessión 3"
   ]
  },
  {
   "cell_type": "markdown",
   "id": "b6645359-14cc-4239-b27f-2033cd3c08d3",
   "metadata": {},
   "source": [
    "### Datos de tipo string y diccionarios"
   ]
  },
  {
   "cell_type": "markdown",
   "id": "e8126d09-db8a-4f12-8bfe-f75c527f36cb",
   "metadata": {},
   "source": [
    "Entre las estructuras más usuarles e importantes del lenguaje python se encuentran los diccionarios y de manera muy comunmente utilizada las estructuras tipo string. Veamos un poco de su usabilidad en este lenguaje."
   ]
  },
  {
   "cell_type": "markdown",
   "id": "ec4e7f0a-898c-4168-93d4-d59e328b5304",
   "metadata": {},
   "source": [
    "### Diccionarios"
   ]
  },
  {
   "cell_type": "markdown",
   "id": "5951d9d9-49b0-4811-9676-6d7827aa3641",
   "metadata": {},
   "source": [
    "Los diccionarios son las estructuras de datos no lineales (pueden considerarse el equivalente de una tabla hash en otros lenguajes). Un diccionario consta de llaves, valores y una función que los relaciona y le asigna un valor a cada llave:"
   ]
  },
  {
   "cell_type": "code",
   "execution_count": 11,
   "id": "8e52a584-d50d-400f-8a1f-756bf79f872b",
   "metadata": {},
   "outputs": [
    {
     "name": "stdout",
     "output_type": "stream",
     "text": [
      "{'Nombre': 'Pedro', 'Apellido': 'Perez', 'Edad': 35, 'Cargo': 'Medico', 'Datos': ['A+', 'Colombiano', 5000]}\n",
      "Pedro\n",
      "['A+', 'Colombiano', 5000]\n"
     ]
    }
   ],
   "source": [
    "dic = {\n",
    "    'Nombre':'Pedro',\n",
    "    'Apellido':'Perez',\n",
    "    'Edad':35,\n",
    "    'Cargo':'Medico',\n",
    "    'Datos':['A+', 'Colombiano', 5000]\n",
    "}\n",
    "\n",
    "print(dic)\n",
    "print(dic['Nombre'])\n",
    "print(dic['Datos'])"
   ]
  },
  {
   "cell_type": "markdown",
   "id": "0d96fbb9-204a-4bd3-808f-00f0e89b6b99",
   "metadata": {},
   "source": [
    "Cada ítem debe tener una llave única."
   ]
  },
  {
   "cell_type": "code",
   "execution_count": 20,
   "id": "666f09cb-b857-4c48-84b7-700a5012cf7d",
   "metadata": {},
   "outputs": [
    {
     "name": "stdout",
     "output_type": "stream",
     "text": [
      "{'Nombre': 'Pedro', 'Apellido': 'Perez', 'Edad': 35, 'Cargo': 'Mesero', 'Datos': ['A+', 'Colombiano', 5000]}\n",
      "Mesero\n"
     ]
    }
   ],
   "source": [
    "dic = {\n",
    "    'Nombre':'Pedro',\n",
    "    'Apellido':'Perez',\n",
    "    'Edad':35,\n",
    "    'Cargo':'Medico',\n",
    "    'Cargo':'Mesero',\n",
    "    'Datos':['A+', 'Colombiano', 5000]\n",
    "}\n",
    "print(dic)\n",
    "print(dic['Cargo'])"
   ]
  },
  {
   "cell_type": "markdown",
   "id": "fe448b49-13c8-41f2-bc45-4bdbc5a53641",
   "metadata": {},
   "source": [
    "Para saber cuales son las llaves de un diccionario se puede usar el metodo ```dic.keys()```"
   ]
  },
  {
   "cell_type": "code",
   "execution_count": 25,
   "id": "f09dce2c-b689-4f89-a3af-76b9072a37b2",
   "metadata": {},
   "outputs": [
    {
     "name": "stdout",
     "output_type": "stream",
     "text": [
      "dict_keys(['Nombre', 'Apellido', 'Edad', 'Cargo', 'Datos']) <class 'dict_keys'>\n"
     ]
    }
   ],
   "source": [
    "llaves = dic.keys()\n",
    "print(llaves, type(llaves))"
   ]
  },
  {
   "cell_type": "markdown",
   "id": "ce40aefc-8156-4eb8-a93c-cbc77676d8e7",
   "metadata": {},
   "source": [
    "Se puede generar una lista con las llaves uilizando ```list()```"
   ]
  },
  {
   "cell_type": "code",
   "execution_count": 31,
   "id": "a1ed653f-6243-4a70-a336-d5e91051449d",
   "metadata": {},
   "outputs": [
    {
     "name": "stdout",
     "output_type": "stream",
     "text": [
      "['Nombre', 'Apellido', 'Edad', 'Cargo', 'Datos'] <class 'list'>\n"
     ]
    }
   ],
   "source": [
    "list_data = list(llaves)\n",
    "print(list_data, type(list_data))"
   ]
  },
  {
   "cell_type": "markdown",
   "id": "c72fa6f2-45be-4d1a-bdb8-341ca5abedcb",
   "metadata": {},
   "source": [
    "También es posible obtener una lista con los valores del diccionario."
   ]
  },
  {
   "cell_type": "code",
   "execution_count": 38,
   "id": "bdfae974-3df0-4d68-848f-d79238b85895",
   "metadata": {},
   "outputs": [
    {
     "name": "stdout",
     "output_type": "stream",
     "text": [
      "dict_values(['Pedro', 'Perez', 35, 'Mesero', ['A+', 'Colombiano', 5000]]) <class 'dict_values'>\n",
      "['Pedro', 'Perez', 35, 'Mesero', ['A+', 'Colombiano', 5000]]\n"
     ]
    }
   ],
   "source": [
    "valores = dic.values()\n",
    "print(valores, type(valores))\n",
    "print(list(valores))"
   ]
  },
  {
   "cell_type": "markdown",
   "id": "6b34b694-52ae-42fc-9479-1bf7395fe8f4",
   "metadata": {},
   "source": [
    "Se puede generar una lista de tuplas de cada item."
   ]
  },
  {
   "cell_type": "code",
   "execution_count": 43,
   "id": "b71b4c90-dd3f-4428-9146-fc1a6271e55e",
   "metadata": {},
   "outputs": [
    {
     "name": "stdout",
     "output_type": "stream",
     "text": [
      "[('Nombre', 'Pedro'), ('Apellido', 'Perez'), ('Edad', 35), ('Cargo', 'Mesero'), ('Datos', ['A+', 'Colombiano', 5000])]\n",
      "('Nombre', 'Pedro')\n",
      "('Apellido', 'Perez')\n",
      "('Edad', 35)\n",
      "('Cargo', 'Mesero')\n",
      "('Datos', ['A+', 'Colombiano', 5000])\n"
     ]
    }
   ],
   "source": [
    "print(list(dic.items()))\n",
    "for i in dic.items():\n",
    "    print(i)"
   ]
  },
  {
   "cell_type": "markdown",
   "id": "f7012700-9260-421b-be05-e2f0a2f7e0ef",
   "metadata": {},
   "source": [
    "### Agregar elementos"
   ]
  },
  {
   "cell_type": "markdown",
   "id": "627810b9-b2ce-4e70-a841-d052c8d89672",
   "metadata": {},
   "source": [
    "Para agregar elementos solo se necesita indicar la llave."
   ]
  },
  {
   "cell_type": "code",
   "execution_count": 51,
   "id": "5077c6cb-f25f-4699-9fb3-0c94c78d617f",
   "metadata": {},
   "outputs": [
    {
     "name": "stdout",
     "output_type": "stream",
     "text": [
      "{'Nombre': 'Pedro', 'Apellido': 'Perez', 'Edad': 35, 'Cargo': 'Mesero', 'Datos': ['A+', 'Colombiano', 5000], 'Antiguedad': {'Años': 10, 'Meses': 4, 'Días': 3}}\n"
     ]
    }
   ],
   "source": [
    "dic['Antiguedad'] = {'Años': 10, 'Meses': 4, 'Días': 3}\n",
    "print(dic)"
   ]
  },
  {
   "cell_type": "markdown",
   "id": "4e3cc0c9-255d-44c2-b5f6-54e9ee7ed435",
   "metadata": {},
   "source": [
    "### Actualizar elementos"
   ]
  },
  {
   "cell_type": "markdown",
   "id": "4e0d56e2-3cd8-4bdf-be79-3e230de07ee8",
   "metadata": {},
   "source": [
    "Para cambiar valores en un diccionario se puede usar el metodo ```update()```"
   ]
  },
  {
   "cell_type": "code",
   "execution_count": 59,
   "id": "f5363df7-5ac3-4513-b035-f40d4f519e0b",
   "metadata": {},
   "outputs": [
    {
     "name": "stdout",
     "output_type": "stream",
     "text": [
      "{'Nombre': 'Pedro', 'Apellido': 'Perez', 'Edad': 36, 'Cargo': 'Developer', 'Datos': ['A+', 'Colombiano', 5000], 'Antiguedad': {'Años': 10, 'Meses': 4, 'Días': 3}}\n"
     ]
    }
   ],
   "source": [
    "dic.update({'Edad': 36, 'Cargo': 'Developer'})\n",
    "print(dic)"
   ]
  },
  {
   "cell_type": "markdown",
   "id": "fc6aedce-9dcb-4796-ba07-d5547b23450a",
   "metadata": {},
   "source": [
    "### Metodos para Diccionarios"
   ]
  },
  {
   "cell_type": "markdown",
   "id": "51af82d1-1d47-4956-8fd0-0499019ed449",
   "metadata": {},
   "source": [
    "| Metodo | Descripción |\n",
    "|---|---|\n",
    "| ```clear()``` | Remueve todos los elementos de un diccionario |\n",
    "| ```copy()``` | Retorna una copia del diccionario |\n",
    "| ```fromkeys()``` | Retorna un diccionar con las llave especificada y su valor |\n",
    "| ```get()``` | Retorna el valor de una llave especifica |\n",
    "| ```items()``` | Retorna una lista que continene una tupla por cada item (llave / valor) |\n",
    "| ```keys()``` | Retorna una lista que contiene las llaves del diccionario |\n",
    "| ```pop()``` | Remueve el elemento con la llave especificada |\n",
    "| ```popitem()``` | Remueve el ultimo item(llave-valor) insertado.|\n",
    "| ```setdefault()``` | Retorna el valor de la llave especificada. Si la llave no existe : inserta la llave, con el valor especificado. |\n",
    "| ```update()``` | Actualiza el diccionario con la(s) llave(s) especificada(s). |\n",
    "| ```values()``` | Retorna una lista de todos los valores en el diccionario |"
   ]
  }
 ],
 "metadata": {
  "kernelspec": {
   "display_name": "Python 3 (ipykernel)",
   "language": "python",
   "name": "python3"
  },
  "language_info": {
   "codemirror_mode": {
    "name": "ipython",
    "version": 3
   },
   "file_extension": ".py",
   "mimetype": "text/x-python",
   "name": "python",
   "nbconvert_exporter": "python",
   "pygments_lexer": "ipython3",
   "version": "3.12.4"
  }
 },
 "nbformat": 4,
 "nbformat_minor": 5
}
