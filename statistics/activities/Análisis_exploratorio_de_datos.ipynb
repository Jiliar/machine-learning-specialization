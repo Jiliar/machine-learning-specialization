{
 "cells": [
  {
   "cell_type": "markdown",
   "metadata": {
    "id": "22zXjFMRkUkJ"
   },
   "source": [
    "<img src = \"https://universidadean.edu.co/sites/default/files/noticias/galeria/Logo-Universidad-Ean-fondo-negro-Galeria_1.jpg\" alt = \"Encabezado MLDS\" width = \"30%\">  </img>\n"
   ]
  },
  {
   "cell_type": "markdown",
   "metadata": {
    "id": "_kGiUp-aXlZU"
   },
   "source": [
    "# **Entendimiento de los datos**\n",
    "---\n",
    "\n",
    "El desarrollo de las actividades de esta guía le permitirá poner en práctica herramientas de organización y visualización de datos. A través de la construcción de diferentes gráficas y el cálculo de medidas descriptivas como la media, la mediana, la moda, la varianza y la desviación estándar, será posible obtener una visión general de las características principales de los datos, permitiendo identificar patrones y tendencias.\n",
    "\n",
    "Se trabajará sobre la base de datos *Titanic*, que contiene datos relacionados con los pasajeros y tripulantes a bordo del RMS Titanic, un transatlántico británico que naufragó en el año 1912.\n",
    "\n",
    "\n",
    "| Variable | Definición\t| Valores |\n",
    "| --- | --- | --- |\n",
    "| survived \\| alive | \tSobreviviente  | \t[0\\|no] = No, [1\\|yes] = Sí |\n",
    "| pclass \\| class\t| Clase del tiquete | \t1 = [1\\|First], 2 = [2\\|Second], 3 = [3\\|Third]\n",
    "| sex \t| Sexo \t| 'male', 'female' |\n",
    "| Age |\tEdad en años \t| |\n",
    "| sibsp |\tNúmero de hermanos / cónyuge abordo del Titanic \t| |\n",
    "| parch |\tNúmero de padres / hijos abordo del Titanic \t| |\n",
    "| fare \t| Costo del ticket | |\n",
    "| embarked |\tPuerto de embarque |\tC = Cherbourg, Q = Queenstown, S = Southampton |\n",
    "| who |\tSi es hombre, mujer o niño. | 'man', 'woman', 'child'  |\n",
    "| adult_male \t| Si es un hombre mayor de edad. | True, False\t|\n",
    "| deck |\tIdentificación de la cubierta/cabina.| 'A', 'B', 'C', 'D', 'E', 'F', 'G' |\n",
    "| alone |\tSi había embarcado solo.| True, False |"
   ]
  },
  {
   "cell_type": "markdown",
   "metadata": {
    "id": "Lz6RiA6hiuMU"
   },
   "source": [
    "Ejecute la siguiente celda para importar las librerías necesarias. Si se requiere de librerías adicionales puede anexarlas a la celda."
   ]
  },
  {
   "cell_type": "code",
   "execution_count": 1,
   "metadata": {
    "executionInfo": {
     "elapsed": 4404,
     "status": "ok",
     "timestamp": 1728249217299,
     "user": {
      "displayName": "Jiliar Silgado Cardona",
      "userId": "03196006654862566865"
     },
     "user_tz": 300
    },
    "id": "UeHIJwQs9Ew1"
   },
   "outputs": [],
   "source": [
    "# Importar librerías (EJECUTE ESTA CELDA)\n",
    "import numpy as np\n",
    "import pandas as pd\n",
    "import seaborn as sns\n",
    "import matplotlib as mpl\n",
    "import matplotlib.pyplot as plt\n",
    "%matplotlib inline"
   ]
  },
  {
   "cell_type": "code",
   "execution_count": 2,
   "metadata": {
    "colab": {
     "base_uri": "https://localhost:8080/"
    },
    "executionInfo": {
     "elapsed": 363,
     "status": "ok",
     "timestamp": 1728249219702,
     "user": {
      "displayName": "Jiliar Silgado Cardona",
      "userId": "03196006654862566865"
     },
     "user_tz": 300
    },
    "id": "hMRTRILm9Hu8",
    "outputId": "fb59b8d0-ece6-4579-bb75-df5a0bcedc7a"
   },
   "outputs": [
    {
     "name": "stdout",
     "output_type": "stream",
     "text": [
      "Python 3.12.4\n",
      "Pandas 2.2.2\n",
      "NumPy 1.26.4\n",
      "Seaborn 0.13.2\n",
      "Matplotlib 3.8.4\n"
     ]
    }
   ],
   "source": [
    "#VERIFICACIÓN DE VERSIONES\n",
    "!python --version\n",
    "print('Pandas', pd.__version__)\n",
    "print('NumPy', np.__version__)\n",
    "print('Seaborn', sns.__version__)\n",
    "print('Matplotlib', mpl.__version__)"
   ]
  },
  {
   "cell_type": "markdown",
   "metadata": {
    "id": "SyVY0vdCjm1R"
   },
   "source": [
    "Este material fue realizado con las siguientes versiones:\n",
    "\n",
    "- Python 3.10.12\n",
    "\n",
    "- Pandas: 2.0.3\n",
    "\n",
    "- Numpy: 1.25.2\n",
    "\n",
    "- Seaborn: 0.13.1\n",
    "\n",
    "- Matplotlib: 3.7.1"
   ]
  },
  {
   "cell_type": "markdown",
   "metadata": {
    "id": "yTZz0dZ_FgaX"
   },
   "source": [
    "Para cargar los datos ejecute la siguiente celda."
   ]
  },
  {
   "cell_type": "code",
   "execution_count": 4,
   "metadata": {
    "colab": {
     "base_uri": "https://localhost:8080/",
     "height": 206
    },
    "executionInfo": {
     "elapsed": 1229,
     "status": "ok",
     "timestamp": 1728249224730,
     "user": {
      "displayName": "Jiliar Silgado Cardona",
      "userId": "03196006654862566865"
     },
     "user_tz": 300
    },
    "id": "LthIBm52CVKG",
    "outputId": "b4455235-8dfe-4242-ee7f-795832acd74c"
   },
   "outputs": [
    {
     "data": {
      "text/html": [
       "<div>\n",
       "<style scoped>\n",
       "    .dataframe tbody tr th:only-of-type {\n",
       "        vertical-align: middle;\n",
       "    }\n",
       "\n",
       "    .dataframe tbody tr th {\n",
       "        vertical-align: top;\n",
       "    }\n",
       "\n",
       "    .dataframe thead th {\n",
       "        text-align: right;\n",
       "    }\n",
       "</style>\n",
       "<table border=\"1\" class=\"dataframe\">\n",
       "  <thead>\n",
       "    <tr style=\"text-align: right;\">\n",
       "      <th></th>\n",
       "      <th>survived</th>\n",
       "      <th>pclass</th>\n",
       "      <th>sex</th>\n",
       "      <th>age</th>\n",
       "      <th>sibsp</th>\n",
       "      <th>parch</th>\n",
       "      <th>fare</th>\n",
       "      <th>embarked</th>\n",
       "      <th>class</th>\n",
       "      <th>who</th>\n",
       "      <th>adult_male</th>\n",
       "      <th>deck</th>\n",
       "      <th>embark_town</th>\n",
       "      <th>alive</th>\n",
       "      <th>alone</th>\n",
       "    </tr>\n",
       "  </thead>\n",
       "  <tbody>\n",
       "    <tr>\n",
       "      <th>0</th>\n",
       "      <td>0</td>\n",
       "      <td>3</td>\n",
       "      <td>male</td>\n",
       "      <td>22.0</td>\n",
       "      <td>1</td>\n",
       "      <td>0</td>\n",
       "      <td>7.2500</td>\n",
       "      <td>S</td>\n",
       "      <td>Third</td>\n",
       "      <td>man</td>\n",
       "      <td>True</td>\n",
       "      <td>NaN</td>\n",
       "      <td>Southampton</td>\n",
       "      <td>no</td>\n",
       "      <td>False</td>\n",
       "    </tr>\n",
       "    <tr>\n",
       "      <th>1</th>\n",
       "      <td>1</td>\n",
       "      <td>1</td>\n",
       "      <td>female</td>\n",
       "      <td>38.0</td>\n",
       "      <td>1</td>\n",
       "      <td>0</td>\n",
       "      <td>71.2833</td>\n",
       "      <td>C</td>\n",
       "      <td>First</td>\n",
       "      <td>woman</td>\n",
       "      <td>False</td>\n",
       "      <td>C</td>\n",
       "      <td>Cherbourg</td>\n",
       "      <td>yes</td>\n",
       "      <td>False</td>\n",
       "    </tr>\n",
       "    <tr>\n",
       "      <th>2</th>\n",
       "      <td>1</td>\n",
       "      <td>3</td>\n",
       "      <td>female</td>\n",
       "      <td>26.0</td>\n",
       "      <td>0</td>\n",
       "      <td>0</td>\n",
       "      <td>7.9250</td>\n",
       "      <td>S</td>\n",
       "      <td>Third</td>\n",
       "      <td>woman</td>\n",
       "      <td>False</td>\n",
       "      <td>NaN</td>\n",
       "      <td>Southampton</td>\n",
       "      <td>yes</td>\n",
       "      <td>True</td>\n",
       "    </tr>\n",
       "    <tr>\n",
       "      <th>3</th>\n",
       "      <td>1</td>\n",
       "      <td>1</td>\n",
       "      <td>female</td>\n",
       "      <td>35.0</td>\n",
       "      <td>1</td>\n",
       "      <td>0</td>\n",
       "      <td>53.1000</td>\n",
       "      <td>S</td>\n",
       "      <td>First</td>\n",
       "      <td>woman</td>\n",
       "      <td>False</td>\n",
       "      <td>C</td>\n",
       "      <td>Southampton</td>\n",
       "      <td>yes</td>\n",
       "      <td>False</td>\n",
       "    </tr>\n",
       "    <tr>\n",
       "      <th>4</th>\n",
       "      <td>0</td>\n",
       "      <td>3</td>\n",
       "      <td>male</td>\n",
       "      <td>35.0</td>\n",
       "      <td>0</td>\n",
       "      <td>0</td>\n",
       "      <td>8.0500</td>\n",
       "      <td>S</td>\n",
       "      <td>Third</td>\n",
       "      <td>man</td>\n",
       "      <td>True</td>\n",
       "      <td>NaN</td>\n",
       "      <td>Southampton</td>\n",
       "      <td>no</td>\n",
       "      <td>True</td>\n",
       "    </tr>\n",
       "  </tbody>\n",
       "</table>\n",
       "</div>"
      ],
      "text/plain": [
       "   survived  pclass     sex   age  sibsp  parch     fare embarked  class  \\\n",
       "0         0       3    male  22.0      1      0   7.2500        S  Third   \n",
       "1         1       1  female  38.0      1      0  71.2833        C  First   \n",
       "2         1       3  female  26.0      0      0   7.9250        S  Third   \n",
       "3         1       1  female  35.0      1      0  53.1000        S  First   \n",
       "4         0       3    male  35.0      0      0   8.0500        S  Third   \n",
       "\n",
       "     who  adult_male deck  embark_town alive  alone  \n",
       "0    man        True  NaN  Southampton    no  False  \n",
       "1  woman       False    C    Cherbourg   yes  False  \n",
       "2  woman       False  NaN  Southampton   yes   True  \n",
       "3  woman       False    C  Southampton   yes  False  \n",
       "4    man        True  NaN  Southampton    no   True  "
      ]
     },
     "execution_count": 4,
     "metadata": {},
     "output_type": "execute_result"
    }
   ],
   "source": [
    "#df1 = sns.load_dataset('titanic', data_home='./')\n",
    "df1 = sns.load_dataset(\"titanic\")\n",
    "df1.head()"
   ]
  },
  {
   "cell_type": "markdown",
   "metadata": {
    "id": "6ZNWRALlSrzz"
   },
   "source": [
    "**Nombres de los integrantes del grupo (Completar)**"
   ]
  },
  {
   "cell_type": "markdown",
   "metadata": {
    "id": "is3esgp0XlZ9"
   },
   "source": [
    "## ⚛️**1. Entendimiento de los datos**\n",
    "---\n",
    "> Haga una exploración de las variables con el método **`.info()`**.   \n",
    "En esta parte se requiere hacer una revisión de la base de datos donde se muestre entre otras cosas:  \n",
    "\n",
    "1.  Número total de variables que contiene la base de datos.  \n",
    "\n",
    "2. Escribir las variables que tienen datos faltantes, además, proporcionar el porcentaje total de valores faltantes en la base de datos.\n",
    "3. Clasificar las variables en cualitativas y numéricas.  \n",
    "\n",
    "4. Consultar y proponer una metodología de *imputación* de datos para la variable *age*, indique la conveniencia o no de aplicar una metodología de este tipo.  \n",
    "\n",
    "**`Nota:`** Sobre el punto 4, no es necesario relizar el proceso de imputación, solo explicar la propuesta de imputación.\n"
   ]
  },
  {
   "cell_type": "markdown",
   "metadata": {
    "id": "JScN3CosjFTX"
   },
   "source": [
    "## **✅ Exploración de los datos**"
   ]
  },
  {
   "cell_type": "markdown",
   "metadata": {
    "id": "fFLy033SmjSY"
   },
   "source": [
    "### **⭕️ Introducción a la Fase de Exploración de Datos**\n",
    "\n",
    "En esta fase inicial del análisis de datos, se realiza una exploración preliminar del conjunto de datos para comprender su estructura y características básicas. Esta etapa es crucial para identificar los aspectos fundamentales del dataset y preparar el terreno para un análisis más profundo.\n",
    "\n",
    "Durante la exploración, se utilizan diversas instrucciones para obtener una visión general del conjunto de datos:\n",
    "\n",
    "- **`df1.info()`**: Proporciona un resumen conciso de la información del DataFrame, incluyendo el número de entradas no nulas y los tipos de datos de cada columna.\n",
    "- **`print(df1.shape)`**: Muestra las dimensiones del DataFrame, es decir, el número de filas y columnas.\n",
    "- **`print(df1.head())`**: Muestra las primeras filas del DataFrame, facilitando una vista rápida de los datos.\n",
    "- **`print(df1.tail())`**: Muestra las últimas filas del DataFrame, útil para verificar el final del dataset.\n",
    "- **`print(total_size)`**: Indica el tamaño total del DataFrame en términos de número de filas.\n",
    "- **`print(df1.shape)`**: Indica la dimensión del Dataframe (filas, columnas).\n",
    "- **`print(df1.memory_usage(deep=True))`**: Proporciona el uso de memoria por columna, permitiendo identificar el consumo de recursos.\n",
    "- **`print(df1.columns)`**: Lista los nombres de todas las columnas en el DataFrame.\n",
    "\n",
    "Estas instrucciones ofrecen una visión general del conjunto de datos, ayudando a detectar posibles problemas como datos faltantes, tipos de datos incorrectos o inconsistencias. Esta exploración es un primer paso esencial para un análisis de datos eficaz."
   ]
  },
  {
   "cell_type": "markdown",
   "metadata": {
    "id": "7_QO7IHVm_VN"
   },
   "source": [
    "#### **⭕️ Información general del DataFrame**"
   ]
  },
  {
   "cell_type": "code",
   "execution_count": 5,
   "metadata": {
    "colab": {
     "base_uri": "https://localhost:8080/"
    },
    "executionInfo": {
     "elapsed": 603,
     "status": "ok",
     "timestamp": 1726435175671,
     "user": {
      "displayName": "Jiliar Silgado Cardona",
      "userId": "03196006654862566865"
     },
     "user_tz": 300
    },
    "id": "f2yh8ucbYfaR",
    "outputId": "f17dffd7-7f0b-41d2-ec52-ecd5d6877834"
   },
   "outputs": [
    {
     "name": "stdout",
     "output_type": "stream",
     "text": [
      "Información general del DataFrame:\n",
      "\n",
      "<class 'pandas.core.frame.DataFrame'>\n",
      "RangeIndex: 891 entries, 0 to 890\n",
      "Data columns (total 15 columns):\n",
      " #   Column       Non-Null Count  Dtype   \n",
      "---  ------       --------------  -----   \n",
      " 0   survived     891 non-null    int64   \n",
      " 1   pclass       891 non-null    int64   \n",
      " 2   sex          891 non-null    object  \n",
      " 3   age          714 non-null    float64 \n",
      " 4   sibsp        891 non-null    int64   \n",
      " 5   parch        891 non-null    int64   \n",
      " 6   fare         891 non-null    float64 \n",
      " 7   embarked     889 non-null    object  \n",
      " 8   class        891 non-null    category\n",
      " 9   who          891 non-null    object  \n",
      " 10  adult_male   891 non-null    bool    \n",
      " 11  deck         203 non-null    category\n",
      " 12  embark_town  889 non-null    object  \n",
      " 13  alive        891 non-null    object  \n",
      " 14  alone        891 non-null    bool    \n",
      "dtypes: bool(2), category(2), float64(2), int64(4), object(5)\n",
      "memory usage: 80.7+ KB\n"
     ]
    }
   ],
   "source": [
    "# Información de Dataframe\n",
    "print(\"Información general del DataFrame:\\n\")\n",
    "df1.info()"
   ]
  },
  {
   "cell_type": "markdown",
   "metadata": {
    "id": "j3bbqpb1kBBW"
   },
   "source": [
    "### **⭕️ Diccionario de datos**\n",
    "\n",
    "De acuerdo a la información anterior se construye un diccionario de datos.\n",
    "\n",
    "Este diccionario de datos proporciona una descripción detallada de las columnas contenidas en el archivo `titanic.csv`, que contiene información sobre los pasajeros del Titanic. Cada columna se detalla con su tipo de dato (`Dtype`), una breve descripción del tipo de dato (`Descripción Dtype`), el tamaño en bytes ocupado por el tipo de dato (`Tamaño en Bytes`), y una descripción de los datos representados en esa columna.\n",
    "\n",
    "El propósito de este diccionario es facilitar la comprensión de la estructura del conjunto de datos y ayudar en el análisis y la manipulación de la información.\n",
    "\n",
    "A continuación, se presenta una tabla con la información relevante para cada columna:\n",
    "\n",
    "**Descripción de las Columnas en** `titanic.csv`\n",
    "\n",
    "| Column        | Dtype    | Descripción Dtype                      | Tamaño en Bytes | Descripción                                                                                                                                                   |\n",
    "|---------------|----------|----------------------------------------|-----------------|---------------------------------------------------------------------------------------------------------------------------------------------------------------|\n",
    "| `survived`    | int64    | Entero de 64 bits                      | 8 bytes         | Indica si el pasajero sobrevivió (1) o no (0).                                                                                                                 |\n",
    "| `pclass`      | int64    | Entero de 64 bits                      | 8 bytes         | Clase del billete del pasajero (1, 2, o 3).                                                                                                                    |\n",
    "| `sex`         | object   | Texto (variable tamaño)                | Variable        | Sexo del pasajero (masculino o femenino).                                                                                                                       |\n",
    "| `age`         | float64  | Flotante de 64 bits                    | 8 bytes         | Edad del pasajero en años. Algunos valores están faltantes.                                                                                                    |\n",
    "| `sibsp`       | int64    | Entero de 64 bits                      | 8 bytes         | Número de hermanos o cónyuges a bordo.                                                                                                                         |\n",
    "| `parch`       | int64    | Entero de 64 bits                      | 8 bytes         | Número de padres o hijos a bordo.                                                                                                                               |\n",
    "| `fare`        | float64  | Flotante de 64 bits                    | 8 bytes         | Tarifa pagada por el billete.                                                                                                                                   |\n",
    "| `embarked`    | object   | Texto (variable tamaño)                | Variable        | Puerto de embarque del pasajero (C = Cherbourg; Q = Queenstown; S = Southampton).                                                                               |\n",
    "| `class`       | category | Categoría con tamaño optimizado        | Variable        | Clase del pasajero en forma de categoría (1, 2, o 3).                                                                                                          |\n",
    "| `who`         | object   | Texto (variable tamaño)                | Variable        | Descripción del pasajero como \"man\", \"woman\" o \"child\".                                                                                                        |\n",
    "| `adult_male`  | bool     | Booleano (1 bit, 1 byte)               | 1 byte          | Indica si el pasajero es un adulto masculino (True) o no (False).                                                                                             |\n",
    "| `deck`        | category | Categoría con tamaño optimizado        | Variable        | Deck del barco en el que viajaba el pasajero. Algunos valores están faltantes.                                                                               |\n",
    "| `embark_town` | object   | Texto (variable tamaño)                | Variable        | Ciudad donde el pasajero embarcó (Cherbourg, Queenstown, o Southampton).                                                                                      |\n",
    "| `alive`       | object   | Texto (variable tamaño)                | Variable        | Indica si el pasajero está vivo (Yes) o muerto (No).                                                                                                           |\n",
    "| `alone`       | bool     | Booleano (1 bit, 1 byte)               | 1 byte          | Indica si el pasajero viajaba solo (True) o acompañado (False).                                                                                              |"
   ]
  },
  {
   "cell_type": "markdown",
   "metadata": {
    "id": "skkktthVnN1t"
   },
   "source": [
    "#### **⭕️ Primeras filas del DataFrame**"
   ]
  },
  {
   "cell_type": "code",
   "execution_count": 6,
   "metadata": {
    "colab": {
     "base_uri": "https://localhost:8080/"
    },
    "executionInfo": {
     "elapsed": 294,
     "status": "ok",
     "timestamp": 1726436148361,
     "user": {
      "displayName": "Jiliar Silgado Cardona",
      "userId": "03196006654862566865"
     },
     "user_tz": 300
    },
    "id": "Fk06RJ8bjSxW",
    "outputId": "06a72b01-810b-47fd-a1ed-0a2b973b65fc"
   },
   "outputs": [
    {
     "name": "stdout",
     "output_type": "stream",
     "text": [
      "   survived  pclass     sex   age  sibsp  parch     fare embarked  class  \\\n",
      "0         0       3    male  22.0      1      0   7.2500        S  Third   \n",
      "1         1       1  female  38.0      1      0  71.2833        C  First   \n",
      "2         1       3  female  26.0      0      0   7.9250        S  Third   \n",
      "3         1       1  female  35.0      1      0  53.1000        S  First   \n",
      "4         0       3    male  35.0      0      0   8.0500        S  Third   \n",
      "\n",
      "     who  adult_male deck  embark_town alive  alone  \n",
      "0    man        True  NaN  Southampton    no  False  \n",
      "1  woman       False    C    Cherbourg   yes  False  \n",
      "2  woman       False  NaN  Southampton   yes   True  \n",
      "3  woman       False    C  Southampton   yes  False  \n",
      "4    man        True  NaN  Southampton    no   True  \n"
     ]
    }
   ],
   "source": [
    "# Primeros registros\n",
    "print(df1.head())"
   ]
  },
  {
   "cell_type": "markdown",
   "metadata": {
    "id": "3YOy7lB3nXn-"
   },
   "source": [
    "#### **⭕️ Últimas filas del DataFrame**"
   ]
  },
  {
   "cell_type": "code",
   "execution_count": 7,
   "metadata": {
    "colab": {
     "base_uri": "https://localhost:8080/"
    },
    "executionInfo": {
     "elapsed": 509,
     "status": "ok",
     "timestamp": 1726436230875,
     "user": {
      "displayName": "Jiliar Silgado Cardona",
      "userId": "03196006654862566865"
     },
     "user_tz": 300
    },
    "id": "I2c_rim9nepO",
    "outputId": "b396b9b6-d985-4df2-e871-1f8aad0a8ebd"
   },
   "outputs": [
    {
     "name": "stdout",
     "output_type": "stream",
     "text": [
      "     survived  pclass     sex   age  sibsp  parch   fare embarked   class  \\\n",
      "886         0       2    male  27.0      0      0  13.00        S  Second   \n",
      "887         1       1  female  19.0      0      0  30.00        S   First   \n",
      "888         0       3  female   NaN      1      2  23.45        S   Third   \n",
      "889         1       1    male  26.0      0      0  30.00        C   First   \n",
      "890         0       3    male  32.0      0      0   7.75        Q   Third   \n",
      "\n",
      "       who  adult_male deck  embark_town alive  alone  \n",
      "886    man        True  NaN  Southampton    no   True  \n",
      "887  woman       False    B  Southampton   yes   True  \n",
      "888  woman       False  NaN  Southampton    no  False  \n",
      "889    man        True    C    Cherbourg   yes   True  \n",
      "890    man        True  NaN   Queenstown    no   True  \n"
     ]
    }
   ],
   "source": [
    "# ultimos registros\n",
    "print(df1.tail())"
   ]
  },
  {
   "cell_type": "markdown",
   "metadata": {
    "id": "g-hQBilwnnyl"
   },
   "source": [
    "#### **⭕️ Tamaño total del DataFrame en términos de número de filas**"
   ]
  },
  {
   "cell_type": "code",
   "execution_count": 8,
   "metadata": {
    "colab": {
     "base_uri": "https://localhost:8080/"
    },
    "executionInfo": {
     "elapsed": 598,
     "status": "ok",
     "timestamp": 1726436338216,
     "user": {
      "displayName": "Jiliar Silgado Cardona",
      "userId": "03196006654862566865"
     },
     "user_tz": 300
    },
    "id": "OGNPE5Q3nz5H",
    "outputId": "04066726-9f57-4452-f5ae-3745e58c902f"
   },
   "outputs": [
    {
     "name": "stdout",
     "output_type": "stream",
     "text": [
      "Tamaño (Número de Filas): 891\n"
     ]
    }
   ],
   "source": [
    "# total de registros\n",
    "total_size = len(df1)\n",
    "print(f'Tamaño (Número de Filas): {total_size}')"
   ]
  },
  {
   "cell_type": "markdown",
   "metadata": {
    "id": "oxAPYZ8NoQuK"
   },
   "source": [
    "#### **⭕️ Dimensión del Dataframe (Filas x Columnas)**"
   ]
  },
  {
   "cell_type": "code",
   "execution_count": 9,
   "metadata": {
    "colab": {
     "base_uri": "https://localhost:8080/"
    },
    "executionInfo": {
     "elapsed": 397,
     "status": "ok",
     "timestamp": 1726436452159,
     "user": {
      "displayName": "Jiliar Silgado Cardona",
      "userId": "03196006654862566865"
     },
     "user_tz": 300
    },
    "id": "lo22eM8toW2H",
    "outputId": "5bf3e2eb-7628-46ba-a28b-c027dfc8cc4d"
   },
   "outputs": [
    {
     "name": "stdout",
     "output_type": "stream",
     "text": [
      "\n",
      "Dimensión del conjunto de datos (filas, columnas):\n",
      "(891, 15)\n"
     ]
    }
   ],
   "source": [
    "# dimensión del conjunto de datos (filas, columnas)\n",
    "print(\"\\nDimensión del conjunto de datos (filas, columnas):\")\n",
    "print(df1.shape)"
   ]
  },
  {
   "cell_type": "markdown",
   "metadata": {
    "id": "CO3F2HVookQH"
   },
   "source": [
    "#### **⭕️ Uso de memoria por columna**"
   ]
  },
  {
   "cell_type": "code",
   "execution_count": 10,
   "metadata": {
    "colab": {
     "base_uri": "https://localhost:8080/"
    },
    "executionInfo": {
     "elapsed": 295,
     "status": "ok",
     "timestamp": 1726436567403,
     "user": {
      "displayName": "Jiliar Silgado Cardona",
      "userId": "03196006654862566865"
     },
     "user_tz": 300
    },
    "id": "L18nV5KKouIn",
    "outputId": "568ed948-69cc-45cb-e656-0eedf5389661"
   },
   "outputs": [
    {
     "name": "stdout",
     "output_type": "stream",
     "text": [
      "Memoria utilizada por el DataFrame (bytes):\n",
      "\n",
      "Index            132\n",
      "survived        7128\n",
      "pclass          7128\n",
      "sex            47851\n",
      "age             7128\n",
      "sibsp           7128\n",
      "parch           7128\n",
      "fare            7128\n",
      "embarked       44514\n",
      "class           1162\n",
      "who            47040\n",
      "adult_male       891\n",
      "deck            1541\n",
      "embark_town    52991\n",
      "alive          45783\n",
      "alone            891\n",
      "dtype: int64\n"
     ]
    }
   ],
   "source": [
    "# mostrar el tamaño de la memoria utilizada por el DataFrame\n",
    "print(\"Memoria utilizada por el DataFrame (bytes):\\n\")\n",
    "print(df1.memory_usage(deep=True))"
   ]
  },
  {
   "cell_type": "markdown",
   "metadata": {
    "id": "RxO7FfG2o9DH"
   },
   "source": [
    "#### **⭕️ Columnas (Variables) en Dataframe**"
   ]
  },
  {
   "cell_type": "code",
   "execution_count": 11,
   "metadata": {
    "colab": {
     "base_uri": "https://localhost:8080/"
    },
    "executionInfo": {
     "elapsed": 347,
     "status": "ok",
     "timestamp": 1726436632209,
     "user": {
      "displayName": "Jiliar Silgado Cardona",
      "userId": "03196006654862566865"
     },
     "user_tz": 300
    },
    "id": "5EJP7korpC3K",
    "outputId": "6cd9fb9f-463e-4731-8bc3-062c66fee2f5"
   },
   "outputs": [
    {
     "name": "stdout",
     "output_type": "stream",
     "text": [
      "\n",
      "Nombres de las columnas:\n",
      "Index(['survived', 'pclass', 'sex', 'age', 'sibsp', 'parch', 'fare',\n",
      "       'embarked', 'class', 'who', 'adult_male', 'deck', 'embark_town',\n",
      "       'alive', 'alone'],\n",
      "      dtype='object')\n"
     ]
    }
   ],
   "source": [
    "# nombres de las columnas\n",
    "print(\"\\nNombres de las columnas:\")\n",
    "print(df1.columns)"
   ]
  },
  {
   "cell_type": "markdown",
   "metadata": {
    "id": "ZKzB1Iraqhxb"
   },
   "source": [
    ":## **✅ 1. Número Total de Variables**"
   ]
  },
  {
   "cell_type": "code",
   "execution_count": 12,
   "metadata": {
    "colab": {
     "base_uri": "https://localhost:8080/"
    },
    "executionInfo": {
     "elapsed": 290,
     "status": "ok",
     "timestamp": 1726437043057,
     "user": {
      "displayName": "Jiliar Silgado Cardona",
      "userId": "03196006654862566865"
     },
     "user_tz": 300
    },
    "id": "mDAxgCVpY1Rk",
    "outputId": "c1393058-a6eb-4d65-8d9f-c0cda0bcc4c8"
   },
   "outputs": [
    {
     "name": "stdout",
     "output_type": "stream",
     "text": [
      "Número de variables (columnas): 15\n"
     ]
    }
   ],
   "source": [
    "# Número total de variables que contiene la base de datos.\n",
    "num_columnas = df1.shape[1]\n",
    "print(f'Número de variables (columnas): {num_columnas}')"
   ]
  },
  {
   "cell_type": "markdown",
   "metadata": {
    "id": "HvDfc3OAsMQy"
   },
   "source": [
    "⭕️ En el conjunto de datos `titanic.csv`, se identifican un total de **15 variables**. Estas variables abarcan una variedad de tipos de datos y proporcionan información diversa sobre los pasajeros del Titanic.\n",
    "\n",
    "La cantidad de variables en el dataset refleja la riqueza de la información disponible y es fundamental para realizar un análisis exhaustivo.\n",
    "\n",
    "\n",
    "\n",
    "#### **📅 Número de Variables en el Dataset**\n",
    "\n",
    "| Descripción                  | Cantidad |\n",
    "|------------------------------|----------|\n",
    "| Total de Variables en el Dataset | 15       |\n",
    "\n"
   ]
  },
  {
   "cell_type": "markdown",
   "metadata": {
    "id": "3H4ila9equ-V"
   },
   "source": [
    "## **✅ 2. Variables con datos faltantes, Porcentaje total de valores faltantes en la base de datos.**"
   ]
  },
  {
   "cell_type": "code",
   "execution_count": 13,
   "metadata": {
    "colab": {
     "base_uri": "https://localhost:8080/"
    },
    "executionInfo": {
     "elapsed": 581,
     "status": "ok",
     "timestamp": 1726433982668,
     "user": {
      "displayName": "Jiliar Silgado Cardona",
      "userId": "03196006654862566865"
     },
     "user_tz": 300
    },
    "id": "kh-rQgcVZJZr",
    "outputId": "16e3ddd8-da05-427e-9c9a-539172666137"
   },
   "outputs": [
    {
     "name": "stdout",
     "output_type": "stream",
     "text": [
      "\n",
      "Cant. valores faltantes por columna:\n",
      "{\n",
      "    \"age\": 177,\n",
      "    \"embarked\": 2,\n",
      "    \"deck\": 688,\n",
      "    \"embark_town\": 2\n",
      "}\n",
      "\n",
      "% valores faltantes por columna:\n",
      "{\n",
      "    \"age\": \"19.87%\",\n",
      "    \"embarked\": \"0.22%\",\n",
      "    \"deck\": \"77.22%\",\n",
      "    \"embark_town\": \"0.22%\"\n",
      "}\n",
      "\n",
      "Porcentaje total de valores faltantes en la base de datos: 6.50%\n",
      "Porcentaje total de valores en la base de datos: 93.50%\n"
     ]
    }
   ],
   "source": [
    "import json\n",
    "\n",
    "# Escribir las variables que tienen datos faltantes, además, proporcionar el porcentaje total de valores faltantes en la base de datos.\n",
    "# Paso 1: Encontrar columnas con valores faltantes\n",
    "faltantes_por_columna = df1.isnull().sum()\n",
    "\n",
    "# Paso 2: Filtrar columnas que tienen valores faltantes\n",
    "data1 = faltantes_por_columna[faltantes_por_columna > 0]\n",
    "variables_con_faltantes = data1.to_dict()\n",
    "\n",
    "print('\\nCant. valores faltantes por columna:',\n",
    "      json.dumps(variables_con_faltantes, indent=4),\n",
    "      sep=\"\\n\")\n",
    "\n",
    "# Paso 3: Calcular el porcentaje de valores faltantes por columna\n",
    "data = (data1 / len(df1)) * 100\n",
    "data = data.to_dict()\n",
    "porcentaje_faltantes_por_columna = {key: f'{value:.2f}%' for key, value in data.items()}\n",
    "\n",
    "# Paso 4: Calcular el porcentaje total de valores faltantes en el DataFrame\n",
    "porcentaje_total_faltantes = (df1.isnull().sum().sum() / df1.size) * 100\n",
    "porcentaje_total_no_faltantes = (df1.notnull().sum().sum() / df1.size) * 100\n",
    "\n",
    "# Resultados\n",
    "print('\\n% valores faltantes por columna:', f'{json.dumps(porcentaje_faltantes_por_columna, indent=4)}', sep=\"\\n\")\n",
    "\n",
    "print(f\"\\nPorcentaje total de valores faltantes en la base de datos: {porcentaje_total_faltantes:.2f}%\")\n",
    "print(f\"Porcentaje total de valores en la base de datos: {porcentaje_total_no_faltantes:.2f}%\")"
   ]
  },
  {
   "cell_type": "markdown",
   "metadata": {
    "id": "m4faKhccpePG"
   },
   "source": [
    "### **⭕️ Información de Valores Faltantes**\n",
    "\n",
    "En el análisis del conjunto de datos, es crucial identificar y comprender los valores faltantes para asegurar una interpretación precisa y una manipulación adecuada de los datos. A continuación, se presenta un resumen detallado de los valores faltantes en el dataset `titanic.csv`.\n",
    "\n",
    "1. **Cantidad de Valores Faltantes por Columna**: Esta tabla muestra el número total de valores faltantes en cada columna del dataset. Identificar estas columnas permite priorizar las técnicas de imputación y decidir cómo manejar los datos faltantes.\n",
    "\n",
    "2. **Porcentaje de Valores Faltantes por Columna**: Aquí se detalla el porcentaje de valores faltantes respecto al total de datos en cada columna. Este porcentaje proporciona una visión clara del impacto de los valores faltantes en cada variable y ayuda a evaluar la gravedad del problema.\n",
    "\n",
    "3. **Porcentaje Total de Valores Faltantes en la Base de Datos**: Esta tabla resume el porcentaje total de valores faltantes en el conjunto de datos en comparación con el total de datos disponibles. Esto ayuda a entender la magnitud del problema a nivel global.\n",
    "\n",
    "4. **Porcentaje Total de Valores en la Base de Datos**: Presenta el porcentaje total de valores presentes en el dataset, brindando una perspectiva complementaria sobre la integridad de los datos.\n",
    "\n",
    "Estas métricas son esenciales para tomar decisiones informadas sobre el tratamiento de los datos faltantes y para garantizar la calidad del análisis subsecuente.\n",
    "\n",
    "\n",
    "#### **📅 Cantidad de Valores Faltantes por Columna**\n",
    "\n",
    "| Columna        | Cantidad de Valores Faltantes |\n",
    "|----------------|-------------------------------|\n",
    "| `age`          | 177                           |\n",
    "| `embarked`     | 2                             |\n",
    "| `deck`         | 688                           |\n",
    "| `embark_town`  | 2                             |\n",
    "\n",
    "---\n",
    "\n",
    "#### **📅 Porcentaje de Valores Faltantes por Columna**\n",
    "\n",
    "| Columna        | % Valores Faltantes |\n",
    "|----------------|---------------------|\n",
    "| `age`          | 19.87%              |\n",
    "| `embarked`     | 0.22%               |\n",
    "| `deck`         | 77.22%              |\n",
    "| `embark_town`  | 0.22%               |\n",
    "\n",
    "---\n",
    "\n",
    "#### **📅 Porcentaje Total de Valores Faltantes en la Base de Datos**\n",
    "\n",
    "| Descripción                                | Porcentaje |\n",
    "|--------------------------------------------|------------|\n",
    "| Total de Valores Faltantes                 | 6.50%      |\n",
    "| Total de Valores No Faltantes (completos)  | 93.50%     |\n",
    "\n",
    "---\n",
    "\n",
    "#### **📅 Porcentaje Total de Valores en la Base de Datos**\n",
    "\n",
    "| Descripción                                | Porcentaje |\n",
    "|--------------------------------------------|------------|\n",
    "| Porcentaje Total de Valores en la Base     | 100.00%    |\n",
    "\n"
   ]
  },
  {
   "cell_type": "markdown",
   "metadata": {
    "id": "9O3LikQvrBWT"
   },
   "source": [
    "## **✅ 3. Clasificación de variables en cualitativas y numéricas.**"
   ]
  },
  {
   "cell_type": "code",
   "execution_count": 14,
   "metadata": {
    "colab": {
     "base_uri": "https://localhost:8080/"
    },
    "executionInfo": {
     "elapsed": 587,
     "status": "ok",
     "timestamp": 1726442967732,
     "user": {
      "displayName": "Jiliar Silgado Cardona",
      "userId": "03196006654862566865"
     },
     "user_tz": 300
    },
    "id": "6DsneOucfiT9",
    "outputId": "02a51b19-173f-47e5-c263-41a134ac0b68"
   },
   "outputs": [
    {
     "name": "stdout",
     "output_type": "stream",
     "text": [
      "Variables numéricas:\n",
      "['survived', 'pclass', 'age', 'sibsp', 'parch', 'fare']\n",
      "Variables cualitativas:\n",
      "['sex', 'embarked', 'class', 'who', 'adult_male', 'deck', 'embark_town', 'alive', 'alone']\n"
     ]
    }
   ],
   "source": [
    "# Clasificar las variables numéricas y cualitativas en un DataFrame\n",
    "variables_numericas = df1.select_dtypes(include=['int64', 'float64']).columns.tolist()\n",
    "variables_cualitativas = df1.select_dtypes(include=['object', 'category', 'bool']).columns.tolist()\n",
    "\n",
    "print(\"Variables numéricas:\", variables_numericas, sep=\"\\n\")\n",
    "print(\"Variables cualitativas:\", variables_cualitativas, sep=\"\\n\")"
   ]
  },
  {
   "cell_type": "markdown",
   "metadata": {
    "id": "ck9mIkQnrOuL"
   },
   "source": [
    "### **⭕️ Tipos de Variables del Dataset**\n",
    "\n",
    "En el análisis del conjunto de datos `titanic.csv`, es fundamental clasificar las variables en numéricas y cualitativas para entender mejor la estructura de los datos y realizar un análisis adecuado. A continuación se presenta la clasificación de las variables:\n",
    "\n",
    "\n",
    "### **📅 Variables Numéricas**\n",
    "\n",
    "| Variable | Descripción                             |\n",
    "|----------|-----------------------------------------|\n",
    "| `survived` | Indicador de supervivencia (0 o 1)      |\n",
    "| `pclass`   | Clase del billete (1, 2 o 3)            |\n",
    "| `age`      | Edad del pasajero en años               |\n",
    "| `sibsp`    | Número de hermanos o cónyuges a bordo   |\n",
    "| `parch`    | Número de padres o hijos a bordo        |\n",
    "| `fare`     | Tarifa pagada por el billete            |\n",
    "\n",
    "---\n",
    "\n",
    "### **📅 Variables Cualitativas**\n",
    "\n",
    "| Variable       | Descripción                                      |\n",
    "|----------------|--------------------------------------------------|\n",
    "| `sex`          | Sexo del pasajero (masculino o femenino)        |\n",
    "| `embarked`     | Puerto de embarque (C = Cherbourg; Q = Queenstown; S = Southampton) |\n",
    "| `class`        | Clase del pasajero en forma de categoría        |\n",
    "| `who`          | Descripción del pasajero (\"man\", \"woman\" o \"child\") |\n",
    "| `adult_male`   | Indica si el pasajero es un adulto masculino (True o False) |\n",
    "| `deck`         | Deck del barco en el que viajaba el pasajero    |\n",
    "| `embark_town`  | Ciudad donde el pasajero embarcó (Cherbourg, Queenstown, o Southampton) |\n",
    "| `alive`        | Indica si el pasajero está vivo (Yes) o muerto (No) |\n",
    "| `alone`        | Indica si el pasajero viajaba solo (True) o acompañado (False) |"
   ]
  },
  {
   "cell_type": "markdown",
   "metadata": {
    "id": "sJFV8_sevaO4"
   },
   "source": [
    "## **✅ 4. Metodología de Imputación de datos para variable `age`**"
   ]
  },
  {
   "cell_type": "markdown",
   "metadata": {
    "id": "CIT_Q5sQgzlG"
   },
   "source": [
    "⭕️ La imputación de datos es el proceso de reemplazar los valores faltantes en un conjunto de datos.\n",
    "\n",
    "Para la variable `age` del DataFrame, hay varias metodologías de imputación que puedes considerar, por ejemplo:\n",
    "\n",
    "| Tipo Imputación           | Conveniencia                                                                                                                                                                                                      |\n",
    "|---------------------------|-------------------------------------------------------------------------------------------------------------------------------------------------------------------------------------------------------------------|\n",
    "| Media                     | Es aproximadamente simétrica y no tiene valores atípicos significativos. Sin embargo, puede ser sensible a los valores atípicos.                                                                                  |\n",
    "| Mediana                   | Generalmente preferida cuando la variable tiene una distribución sesgada o contiene valores atípicos, ya que es menos sensible a ellos.                                                                           |\n",
    "| Moda                      | Puede ser útil si hay una edad que ocurre con mucha frecuencia y es representativa de la mayoría.                                                                                                                 |\n",
    "| Regresión                 | Tiene una fuerte relación con otras variables en el conjunto de datos. Sin embargo, puede ser más complejo y es susceptible a la calidad del modelo de regresión.                                                 |\n",
    "| K-Nearest Neighbors (KNN) | Puede ser efectiva si la variable está correlacionada con otras variables en el DataFrame y se desea una imputación basada en similitudes. Es más compleja y puede ser más lenta para grandes conjuntos de datos. |\n",
    "\n",
    "\n",
    "La elección de la metodología depende de la naturaleza de los datos y el impacto potencial en el análisis o modelo.\n",
    "\n",
    "Para este ejemplo se explorara imputación por media, mediana y algoritmo de k vecinos más cercanos y se evaluara con Simetria y Curtosis cual seria la metodología de imputación mas recomendada.\n",
    "\n",
    "Para tener en cuenta:\n",
    "\n",
    "**✔️Asimetría:** Mide el grado de inclinación o sesgo de la distribución de datos. Una asimetría de 0 indica una distribución simétrica. Valores positivos indican una inclinación hacia la derecha (cola larga a la derecha), y valores negativos indican una inclinación hacia la izquierda (cola larga a la izquierda).\n",
    "\n",
    "**✔️Curtosis:** Mide la altura y el ancho de las colas de la distribución en comparación con una distribución normal. Curtosis alta indica colas más pesadas y un pico más alto, mientras que curtosis baja indica colas más ligeras y un pico más plano."
   ]
  },
  {
   "cell_type": "code",
   "execution_count": 18,
   "metadata": {
    "id": "ABmWsptXC0Af"
   },
   "outputs": [],
   "source": [
    "# Prueba de Simetria y Curtosis\n",
    "from scipy.stats import skew, kurtosis\n",
    "\n",
    "# Función para calcular asimetría y curtosis\n",
    "def asimetria_curtosis(df, key, type):\n",
    "  age_skew = skew(df[key].dropna())\n",
    "  age_kurtosis = kurtosis(df[key].dropna())\n",
    "  print(f\"\\nImputación por {type}:\")\n",
    "  print(f\"Asimetría : {age_skew:.2f}\")\n",
    "  print(f\"Curtosis: {age_kurtosis:.2f}\")"
   ]
  },
  {
   "cell_type": "code",
   "execution_count": 28,
   "metadata": {
    "colab": {
     "base_uri": "https://localhost:8080/"
    },
    "executionInfo": {
     "elapsed": 446,
     "status": "ok",
     "timestamp": 1726444912813,
     "user": {
      "displayName": "Jiliar Silgado Cardona",
      "userId": "03196006654862566865"
     },
     "user_tz": 300
    },
    "id": "_ZTY-29-gFT9",
    "outputId": "da1e7d95-4dc4-4a54-e750-46bc17096b57"
   },
   "outputs": [
    {
     "name": "stdout",
     "output_type": "stream",
     "text": [
      "Media: 29.69911764705882\n",
      "Cantidad de Valores: 89\n",
      "Valores: [0.42, 0.67, 0.75, 0.83, 0.92, 1.0, 2.0, 3.0, 4.0, 5.0, 6.0, 7.0, 8.0, 9.0, 10.0, 11.0, 12.0, 13.0, 14.0, 14.5, 15.0, 16.0, 17.0, 18.0, 19.0, 20.0, 20.5, 21.0, 22.0, 23.0, 23.5, 24.0, 24.5, 25.0, 26.0, 27.0, 28.0, 28.5, 29.0, 29.69911764705882, 30.0, 30.5, 31.0, 32.0, 32.5, 33.0, 34.0, 34.5, 35.0, 36.0, 36.5, 37.0, 38.0, 39.0, 40.0, 40.5, 41.0, 42.0, 43.0, 44.0, 45.0, 45.5, 46.0, 47.0, 48.0, 49.0, 50.0, 51.0, 52.0, 53.0, 54.0, 55.0, 55.5, 56.0, 57.0, 58.0, 59.0, 60.0, 61.0, 62.0, 63.0, 64.0, 65.0, 66.0, 70.0, 70.5, 71.0, 74.0, 80.0]\n",
      "\n",
      "Imputación por Media:\n",
      "Asimetría : 0.43\n",
      "Curtosis: 0.95\n"
     ]
    }
   ],
   "source": [
    "import warnings\n",
    "warnings.filterwarnings(\"ignore\")\n",
    "# Imputación por Media\n",
    "df_media = sns.load_dataset(\"titanic\")\n",
    "age_media = df_media['age'].mean()\n",
    "df_media['age'].fillna(age_media, inplace=True)\n",
    "\n",
    "values = df_media['age'].unique()\n",
    "print(f'Media: {age_media}')\n",
    "print(f'Cantidad de Valores: { str(len(values)) }')\n",
    "print(f'Valores: {sorted(values)}')\n",
    "\n",
    "asimetria_curtosis(df_media, 'age', 'Media')"
   ]
  },
  {
   "cell_type": "code",
   "execution_count": 29,
   "metadata": {
    "colab": {
     "base_uri": "https://localhost:8080/"
    },
    "executionInfo": {
     "elapsed": 282,
     "status": "ok",
     "timestamp": 1726444894316,
     "user": {
      "displayName": "Jiliar Silgado Cardona",
      "userId": "03196006654862566865"
     },
     "user_tz": 300
    },
    "id": "snigGxddDnBa",
    "outputId": "aaf42e80-cff6-44c5-9e12-b6c53185061b"
   },
   "outputs": [
    {
     "name": "stdout",
     "output_type": "stream",
     "text": [
      "Mediana: 28.0\n",
      "Cantidad de Valores: 88\n",
      "Valores: [0.42, 0.67, 0.75, 0.83, 0.92, 1.0, 2.0, 3.0, 4.0, 5.0, 6.0, 7.0, 8.0, 9.0, 10.0, 11.0, 12.0, 13.0, 14.0, 14.5, 15.0, 16.0, 17.0, 18.0, 19.0, 20.0, 20.5, 21.0, 22.0, 23.0, 23.5, 24.0, 24.5, 25.0, 26.0, 27.0, 28.0, 28.5, 29.0, 30.0, 30.5, 31.0, 32.0, 32.5, 33.0, 34.0, 34.5, 35.0, 36.0, 36.5, 37.0, 38.0, 39.0, 40.0, 40.5, 41.0, 42.0, 43.0, 44.0, 45.0, 45.5, 46.0, 47.0, 48.0, 49.0, 50.0, 51.0, 52.0, 53.0, 54.0, 55.0, 55.5, 56.0, 57.0, 58.0, 59.0, 60.0, 61.0, 62.0, 63.0, 64.0, 65.0, 66.0, 70.0, 70.5, 71.0, 74.0, 80.0]\n",
      "\n",
      "Imputación por Mediana:\n",
      "Asimetría : 0.51\n",
      "Curtosis: 0.98\n"
     ]
    }
   ],
   "source": [
    "# Imputación por Mediana\n",
    "df_mediana = sns.load_dataset(\"titanic\")\n",
    "age_mediana = df_mediana['age'].median()\n",
    "df_mediana['age'].fillna(age_mediana, inplace=True)\n",
    "\n",
    "values = df_mediana['age'].unique()\n",
    "print(f'Mediana: {age_mediana}')\n",
    "print(f'Cantidad de Valores: { str(len(values)) }')\n",
    "print(f'Valores: {sorted(values)}')\n",
    "\n",
    "asimetria_curtosis(df_mediana, 'age', 'Mediana')"
   ]
  },
  {
   "cell_type": "code",
   "execution_count": 30,
   "metadata": {
    "colab": {
     "base_uri": "https://localhost:8080/"
    },
    "executionInfo": {
     "elapsed": 342,
     "status": "ok",
     "timestamp": 1726445219208,
     "user": {
      "displayName": "Jiliar Silgado Cardona",
      "userId": "03196006654862566865"
     },
     "user_tz": 300
    },
    "id": "t8HLJQweEvyp",
    "outputId": "d12e2073-84fe-4119-8a6d-49a6e0e769f9"
   },
   "outputs": [
    {
     "name": "stdout",
     "output_type": "stream",
     "text": [
      "\n",
      "K-Nearest Neighbors (KNN):\n",
      "Cantidad de Valores: 89\n",
      "Valores: [0.42, 0.67, 0.75, 0.83, 0.92, 1.0, 2.0, 3.0, 4.0, 5.0, 6.0, 7.0, 8.0, 9.0, 10.0, 11.0, 12.0, 13.0, 14.0, 14.5, 15.0, 16.0, 17.0, 18.0, 19.0, 20.0, 20.5, 21.0, 22.0, 23.0, 23.5, 24.0, 24.5, 25.0, 26.0, 27.0, 28.0, 28.5, 29.0, 29.69911764705882, 30.0, 30.5, 31.0, 32.0, 32.5, 33.0, 34.0, 34.5, 35.0, 36.0, 36.5, 37.0, 38.0, 39.0, 40.0, 40.5, 41.0, 42.0, 43.0, 44.0, 45.0, 45.5, 46.0, 47.0, 48.0, 49.0, 50.0, 51.0, 52.0, 53.0, 54.0, 55.0, 55.5, 56.0, 57.0, 58.0, 59.0, 60.0, 61.0, 62.0, 63.0, 64.0, 65.0, 66.0, 70.0, 70.5, 71.0, 74.0, 80.0]\n",
      "\n",
      "Imputación por KNN:\n",
      "Asimetría : 0.43\n",
      "Curtosis: 0.95\n"
     ]
    }
   ],
   "source": [
    "#Imputación por K-Nearest Neighbors (KNN)\n",
    "\n",
    "from sklearn.impute import KNNImputer\n",
    "df_knn = sns.load_dataset(\"titanic\")\n",
    "\n",
    "imputer = KNNImputer(n_neighbors=5)\n",
    "df_knn[['age']] = imputer.fit_transform(df_knn[['age']])\n",
    "\n",
    "values = df_knn['age'].unique()\n",
    "print(f'\\nK-Nearest Neighbors (KNN):')\n",
    "print(f'Cantidad de Valores: { str(len(values)) }')\n",
    "print(f'Valores: {sorted(values)}')\n",
    "\n",
    "asimetria_curtosis(df_knn, 'age', 'KNN')"
   ]
  },
  {
   "cell_type": "markdown",
   "metadata": {
    "id": "02wLzdT0JTi8"
   },
   "source": [
    "###📅 **Comparación de Métodos de Imputación**\n",
    "\n",
    "| Método de Imputación | Asimetría (Skewness) | Curtosis  |\n",
    "|----------------------|-----------------------|-----------|\n",
    "| Imputación por Media | 0.43                  | 0.95      |\n",
    "| Imputación por Mediana | 0.51                  | 0.98      |\n",
    "| Imputación por KNN   | 0.43                  | 0.95      |\n",
    "\n",
    "\n",
    "🟢 *De acuerdo con la tabla, la imputación por Media y la imputación por KNN muestran el menor sesgo*. Ambos métodos tienen:\n",
    "\n",
    "**✔️Asimetría (0.43):** Este valor es menor en comparación con la imputación por Mediana (0.51), indicando que las distribuciones imputadas con estos métodos tienen una asimetría más cercana a la simetría. Esto sugiere que los datos imputados son menos sesgados y más equilibrados en torno a la media.\n",
    "\n",
    "**✔️Curtosis (0.95):** La curtosis para ambos métodos es menor que la de la imputación por Mediana (0.98). Esto significa que la distribución de los datos imputados es menos picuda y tiene colas menos largas en comparación con la imputación por Mediana."
   ]
  },
  {
   "cell_type": "markdown",
   "metadata": {
    "id": "k1sQlZL6Magl"
   },
   "source": [
    "## **⚛️2. Distribución de la tarifa**\n",
    "---\n",
    "\n",
    "1. Represente gráficamente la distribución de la tarifa del tiquete de ingreso de los pasajeros a bordo del *Titanic* por medio de un **histograma**.\n",
    "2. Realice un análisis del histograma obtenido haciendo comentarios sobre la forma, dispersión de los datos y existencia de datos atípicos.\n",
    "\n",
    "**`Nota:`** Tenga en cuenta que la gráfica debe tener como mínimo los siguientes elementos:  \n",
    "- Título o encabezado\n",
    "- Figura o gráfica\n",
    "- Fuente de los datos\n",
    "- Leyendas (si se requiere)  \n"
   ]
  },
  {
   "cell_type": "markdown",
   "metadata": {
    "id": "K9_0E3RqOTj4"
   },
   "source": [
    "## **✅ 1. Representación grafica (Histograma)**"
   ]
  },
  {
   "cell_type": "code",
   "execution_count": 31,
   "metadata": {
    "colab": {
     "base_uri": "https://localhost:8080/",
     "height": 586
    },
    "executionInfo": {
     "elapsed": 1427,
     "status": "ok",
     "timestamp": 1726454629824,
     "user": {
      "displayName": "Jiliar Silgado Cardona",
      "userId": "03196006654862566865"
     },
     "user_tz": 300
    },
    "id": "qt42c3B8RL0E",
    "outputId": "5a9093cd-baee-41fa-ca35-b49a17e45f6f"
   },
   "outputs": [
    {
     "data": {
      "image/png": "[encoded data removed]",
      "text/plain": [
       "<Figure size 900x600 with 1 Axes>"
      ]
     },
     "metadata": {},
     "output_type": "display_data"
    }
   ],
   "source": [
    "# Configurar la gráfica\n",
    "plt.figure(figsize=(9, 6))\n",
    "\n",
    "# Ajustar la apariencia de las cuadrículas\n",
    "plt.grid(True, linestyle='--', linewidth=0.4, alpha=0.4, color='gray')\n",
    "\n",
    "# Crear el histograma\n",
    "n, bins, patches = plt.hist(df1['fare'].dropna(), bins=30, edgecolor='black', color='skyblue')\n",
    "\n",
    "# Añadir los valores de las barras del histograma\n",
    "for count, bin_edge in zip(n, bins):\n",
    "    # Anotar el valor en el centro de cada barra\n",
    "    plt.text(bin_edge + (bins[1] - bins[0]) / 2, count, f'{int(count)}',\n",
    "             ha='center', va='bottom', color='gray', fontsize=6)\n",
    "\n",
    "# Añadir título y etiquetas\n",
    "plt.title('Distribución de la Tarifa de los Pasajeros a Bordo del Titanic', fontsize=12)\n",
    "plt.xlabel('Tarifa del Tiquete', fontsize=12)\n",
    "plt.ylabel('Número de Pasajeros', fontsize=12)\n",
    "\n",
    "# Añadir fuente de los datos\n",
    "plt.figtext(0.5, 0.01, 'Fuente (Titanic Dataset): https://www.kaggle.com/datasets/yasserh/titanic-dataset',\n",
    "            ha='center', va='center', fontsize=8, color='gray')\n",
    "\n",
    "# Mostrar la gráfica\n",
    "plt.show()"
   ]
  },
  {
   "cell_type": "markdown",
   "metadata": {
    "id": "lsGZSnuAM2Bt"
   },
   "source": [
    "## **✅ 2. Analisis de Grafico: Histograma**"
   ]
  },
  {
   "cell_type": "markdown",
   "metadata": {
    "id": "JGDT7CT3Olvn"
   },
   "source": [
    "### **⭕️Forma del Histograma**\n",
    "\n",
    "- **Concentración en el Rango de 0 a 100:**\n",
    "\n",
    "**Observación:** La mayoría de las barras del histograma son muy altas en el rango de tarifa de 0 a 100.\n",
    "\n",
    "**Comentario:** Esto indica que la mayoría de los pasajeros pagaron tarifas relativamente bajas. La alta concentración en este rango sugiere que el precio de los tiquetes más comúnmente adquirido era asequible para la mayoría de los pasajeros.\n",
    "\n",
    "- **Barras Bajas en el Rango de 100 a 300:**\n",
    "\n",
    "**Observación:** Las barras en el rango de tarifa de 100 a 300 son mucho más bajas.\n",
    "\n",
    "**Comentario:** Esto muestra que menos pasajeros pagaron tarifas en este rango. A medida que las tarifas aumentan, se observa una menor cantidad de pasajeros, lo que podría reflejar una menor oferta de tiquetes en este rango de precio o una menor demanda.\n",
    "\n",
    "- **Tarifas Altas (Más de 300):**\n",
    "\n",
    "**Observación:** Las barras para tarifas superiores a 300 son muy bajas y dispersas.\n",
    "\n",
    "**Comentario:** Este patrón indica que hay muy pocos pasajeros que pagaron tarifas extremadamente altas. Las tarifas más altas parecen ser excepcionales y no representan la mayoría de los datos, lo que sugiere que los tiquetes de lujo eran relativamente poco usuales.\n",
    "\n",
    "### **⭕️Dispersión de los Datos**\n",
    "\n",
    "- **Dispersión General:**\n",
    "\n",
    "**Observación:** La dispersión de los datos es mayor en los rangos de tarifas más bajas, donde las barras son más altas y más densas. En contraste, en los rangos de tarifas más altas, la dispersión es menor, con barras mucho más bajas y menos concentradas.\n",
    "\n",
    "**Comentario:** La mayoría de los pasajeros tiene tarifas de tiquete que caen en el rango bajo, mientras que las tarifas más altas tienen una distribución más dispersa y menos frecuente. Esto podría reflejar el hecho de que los tiquetes más caros eran menos comunes y más accesibles solo para una minoría de pasajeros.\n",
    "\n",
    "### **⭕️Existencia de Datos Atípicos**\n",
    "\n",
    "- **Datos Atípicos:**\n",
    "\n",
    "**Observación:** Aunque hay un pequeño número de pasajeros con tarifas extremadamente altas (por encima de 500), estos casos son muy aislados y aparecen como barras casi invisibles en el histograma.\n",
    "\n",
    "**Comentario:** Estos datos atípicos representan tarifas de tiquetes excepcionalmente altas y podrían ser indicativos de cabinas de lujo o reservas especiales. Dado su bajo número en comparación con las tarifas más comunes, no tienen un impacto significativo en la distribución general, pero son importantes para entender la gama completa de precios de los tiquetes."
   ]
  },
  {
   "cell_type": "markdown",
   "metadata": {
    "id": "U3BOdd3JQJ_D"
   },
   "source": [
    "## **⚛️3. Proporción de sobrevivientes**\n",
    "---\n",
    "\n",
    "1. Represente gráficamente la variable *survived* de la base de datos por medio de un **diagrama de sectores**.\n",
    "2. Realice un análisis del diagrama de sectores señalando la propoción de pasajeros que sobrevivieron y los que no lo hicieron."
   ]
  },
  {
   "cell_type": "markdown",
   "metadata": {
    "id": "8kjeXd4mRAG4"
   },
   "source": [
    "## **✅ 1. Representación grafica (Diagrama de Sectores)**"
   ]
  },
  {
   "cell_type": "code",
   "execution_count": 33,
   "metadata": {
    "colab": {
     "base_uri": "https://localhost:8080/",
     "height": 414
    },
    "executionInfo": {
     "elapsed": 702,
     "status": "ok",
     "timestamp": 1726454323263,
     "user": {
      "displayName": "Jiliar Silgado Cardona",
      "userId": "03196006654862566865"
     },
     "user_tz": 300
    },
    "id": "59xMbVCxRAIW",
    "outputId": "849e6691-fe4a-474e-dcb2-40b03818afd0"
   },
   "outputs": [
    {
     "data": {
      "image/png": "[encoded data removed]",
      "text/plain": [
       "<Figure size 800x400 with 1 Axes>"
      ]
     },
     "metadata": {},
     "output_type": "display_data"
    }
   ],
   "source": [
    "# Contar la cantidad de sobrevivientes y no sobrevivientes\n",
    "df1['survived'] = df1['survived'].replace({1: 'sobrevivientes', 0: 'decesos'})\n",
    "survived_counts = df1['survived'].value_counts()\n",
    "\n",
    "# Configurar el diagrama de sectores\n",
    "plt.figure(figsize=(8, 4))\n",
    "plt.pie(survived_counts, labels=survived_counts.index, autopct='%1.1f%%', colors=['skyblue', 'salmon'], startangle=140)\n",
    "\n",
    "# Añadir título y fuente de los datos\n",
    "plt.title('Distribución de Supervivencia de los Pasajeros del Titanic', fontsize=14)\n",
    "# Añadir la fuente de los datos en la gráfica\n",
    "plt.figtext(0.5, 0.01, 'Fuente (Titanic Dataset): https://www.kaggle.com/datasets/yasserh/titanic-dataset',\n",
    "            ha='center', va='center', fontsize=8, color='gray')\n",
    "\n",
    "# Mostrar la gráfica\n",
    "plt.show()"
   ]
  },
  {
   "cell_type": "markdown",
   "metadata": {
    "id": "Kn7_X-XaRDHJ"
   },
   "source": [
    "## **✅ 2. Analisis de Grafico: Diagrama de Sectores**"
   ]
  },
  {
   "cell_type": "markdown",
   "metadata": {
    "id": "By524RccSnGF"
   },
   "source": [
    "#### ⭕️**Proporción de Pasajeros que Sobrevivieron**\n",
    "**Proporción:** 38.4%\n",
    "\n",
    "**Análisis:** Aproximadamente el 38.4% de los pasajeros a bordo del Titanic sobrevivieron al desastre. Esta proporción indica que, a pesar de los esfuerzos de rescate y las medidas de seguridad disponibles, menos de la mitad de los pasajeros lograron sobrevivir. Esto resalta la magnitud de la tragedia y la dificultad de la situación en la que se encontraron los pasajeros durante el hundimiento.\n",
    "\n",
    "#### ⭕️**Proporción de Pasajeros que No Sobrevivieron**\n",
    "**Proporción:** 61.6%\n",
    "\n",
    "**Análisis:** El 61.6% restante de los pasajeros no sobrevivió al hundimiento del Titanic. Esta mayor proporción de decesos refleja la severidad del incidente y la gran cantidad de víctimas que resultaron de la tragedia. La alta tasa de mortalidad sugiere que las circunstancias en el momento del hundimiento fueron extremadamente adversas y que muchas personas no tuvieron la oportunidad de sobrevivir.\n",
    "\n",
    "#### ⭕️**Conclusión**\n",
    "La mayoría de los pasajeros, con un 61.6%, no sobrevivió, mientras que un 38.4% logró sobrevivir. Estos porcentajes destacan la naturaleza devastadora del evento y proporcionan una visión significativa de los resultados del desastre del Titanic."
   ]
  },
  {
   "cell_type": "markdown",
   "metadata": {
    "id": "5pvnSxuVZl6B"
   },
   "source": [
    "## **⚛️4. Distribución de pasajeros y tripulación**\n",
    "---\n",
    "Realice una exploración la distribución de los pasajeros y tripulación, distinguiendo por género y edad, y analizando la relación que estas variables tuvieron con su supervivencia.  \n",
    "\n",
    "1. Explorar la distribución de edades para mujeres y hombres en dos gráficas. Se deberá representar mediante dos **histogramas** la edad de los pasajeros en dos gráficas en la misma figura, usando para discriminar las distribuciones la variable categórica sexo (**`sex`**)\n",
    "\n",
    "> * Los diagramas pueden ser construidos como un **`FacetGrid`** de la librería *Seaborn*."
   ]
  },
  {
   "cell_type": "markdown",
   "metadata": {
    "id": "aZ21RrhxTtlQ"
   },
   "source": [
    "## **✅ 1. Representación grafica (Histogramas)**"
   ]
  },
  {
   "cell_type": "code",
   "execution_count": 34,
   "metadata": {
    "colab": {
     "base_uri": "https://localhost:8080/",
     "height": 561
    },
    "executionInfo": {
     "elapsed": 3344,
     "status": "ok",
     "timestamp": 1726454597869,
     "user": {
      "displayName": "Jiliar Silgado Cardona",
      "userId": "03196006654862566865"
     },
     "user_tz": 300
    },
    "id": "JQzvCxkSTv6r",
    "outputId": "b99bd410-6e90-4cdc-9031-8b744dda6c07"
   },
   "outputs": [
    {
     "data": {
      "image/png": "[encoded data removed]",
      "text/plain": [
       "<Figure size 1500x500 with 2 Axes>"
      ]
     },
     "metadata": {},
     "output_type": "display_data"
    }
   ],
   "source": [
    "# Reemplazar valores en la columna 'sex'\n",
    "df1['sex'] = df1['sex'].replace({'male': 'Masculino', 'female': 'Femenino'})\n",
    "\n",
    "# Configurar el FacetGrid\n",
    "g = sns.FacetGrid(df1, col=\"sex\", col_wrap=2, height=5, aspect=1.5, sharex=True, sharey=True)\n",
    "g.map(sns.histplot, 'age', bins=30, kde=True)\n",
    "\n",
    "# Añadir valores numéricos a las barras\n",
    "def add_values(ax):\n",
    "    for patch in ax.patches:\n",
    "        height = patch.get_height()\n",
    "        if height > 0:  # Solo mostrar valores si la altura es mayor que 0\n",
    "            ax.annotate(f'{int(height)}',\n",
    "                        xy=(patch.get_x() + patch.get_width() / 2, height),\n",
    "                        xytext=(0, 3),  # Desplazamiento del texto\n",
    "                        textcoords=\"offset points\",\n",
    "                        ha='center', va='bottom',\n",
    "                        color='gray',  # Color gris claro\n",
    "                        fontsize=7)  # Tamaño de fuente 8\n",
    "\n",
    "# Aplicar la función para añadir valores a cada subgráfico\n",
    "for ax in g.axes.flat:\n",
    "    add_values(ax)\n",
    "    ax.grid(True, linestyle='--', color='lightgray')  # Configurar la cuadrícula con gris suave\n",
    "\n",
    "# Añadir títulos y etiquetas\n",
    "g.set_axis_labels('Edad', 'Número de Pasajeros')\n",
    "g.set_titles('Distribución de Edad - {col_name}')\n",
    "g.fig.suptitle('Distribución de Edad por Género', y=1.05)\n",
    "\n",
    "# Añadir la fuente de los datos en la gráfica\n",
    "plt.figtext(0.5, 0.01, 'Fuente (Titanic Dataset): https://www.kaggle.com/datasets/yasserh/titanic-dataset',\n",
    "            ha='center', va='center', fontsize=8, color='gray')\n",
    "\n",
    "# Mostrar la gráfica\n",
    "plt.show()\n"
   ]
  },
  {
   "cell_type": "markdown",
   "metadata": {
    "id": "4znDR7aBVRnE"
   },
   "source": [
    "## **✅ 2. Analisis de Grafico: Histogramas**"
   ]
  },
  {
   "cell_type": "markdown",
   "metadata": {
    "id": "GY5COfgPYL3j"
   },
   "source": [
    "### **⭕️Distribución Edad - Masculino**\n",
    "\n",
    "**✔️Comportamiento General:** La línea KDE para los hombres muestra que la mayor concentración de edades se encuentra en el rango de 20 a 30 años. En este rango, la altura de la línea KDE es la más alta, indicando que la mayoría de los pasajeros masculinos están en este grupo etario. La altura de la línea KDE en este rango es considerablemente alta, pero no supera los 40 pasajeros en promedio, sugiriendo una densidad relativamente alta de hombres jóvenes a bordo.\n",
    "\n",
    "**✔️Comportamiento en Edades Avanzadas:** La línea KDE presenta una menor altura en el rango de edades de 70 a 80 años, indicando que hay una menor densidad de pasajeros masculinos en este grupo etario. Esto sugiere que los hombres mayores eran menos numerosos a bordo en comparación con los jóvenes.\n",
    "\n",
    "**✔️Conclusión:** La distribución de edades para los hombres muestra una concentración significativa en la juventud (20-30 años) con una disminución notable en edades avanzadas. Esta tendencia podría reflejar la composición demográfica y las características de los pasajeros masculinos a bordo del Titanic.\n",
    "\n",
    "### **⭕️Distribución Edad - Femenino**\n",
    "\n",
    "**✔️Comportamiento General:** La línea KDE para las mujeres muestra que la mayor concentración de edades también se encuentra en el rango de 20 a 30 años, similar a los hombres. Sin embargo, la altura de la línea KDE en este rango es menor en comparación con la de los hombres, alcanzando en promedio entre 10 y 20 pasajeros. Esto sugiere que, aunque las mujeres también están predominantemente en el rango de 20 a 30 años, su densidad a bordo es menor en comparación con los hombres en el mismo rango de edad.\n",
    "\n",
    "**✔️Comportamiento en Edades Avanzadas:** La línea KDE muestra una disminución en la altura para las mujeres en el rango de edades de 50 a 70 años, con una menor densidad en comparación con el rango de 20 a 30 años. Este descenso en la densidad de pasajeros femeninos en edades avanzadas es notable, y puede reflejar una menor representación de mujeres en este grupo etario a bordo.\n",
    "\n",
    "**✔️Conclusión:** La distribución de edades para las mujeres muestra una concentración en el rango de 20 a 30 años, aunque con una densidad menor comparada con los hombres en el mismo rango. La menor representación en edades avanzadas también es evidente, lo que puede indicar diferencias en la composición etaria de las mujeres a bordo en comparación con los hombres.\n",
    "\n",
    "### **⭕️Conclusión General:**\n",
    "\n",
    "En resumen, tanto para hombres como para mujeres, la mayor densidad de pasajeros se encuentra en el rango de 20 a 30 años. Sin embargo, la densidad es mayor para los hombres en comparación con las mujeres en este rango etario. Las edades avanzadas tienen una representación menor en ambas categorías"
   ]
  },
  {
   "cell_type": "markdown",
   "metadata": {
    "id": "tE2fevXEbus5"
   },
   "source": [
    "## **⚛️5. Primera, segunda y tercera clase**\n",
    "---\n",
    "Cuando ocurre la tragedia, la evacuación se realizó dando prioridad a al registro de clase de los pasajeros. Vamos a explorar la distribución de personas, por edad, que correspondían a cada clase para conocer cómo influyó esto en su supervivencia.\n",
    "\n",
    "1. Debe representar gráficamente la distribución y medidas de posición de las edades de los pasajeros a bordo del *Titanic* en cada clase utilizando una **diagramas de cajas**.\n",
    "**`Nota:`** Dado que se tiene tres clases, se espera que una única gráfica que contenga tres diagramas de caja, esto permitirá la respectiva comparación y análisis."
   ]
  },
  {
   "cell_type": "markdown",
   "metadata": {
    "id": "Li2yEkX_ab2c"
   },
   "source": [
    "## **✅ 1. Representación grafica (Diagrama de Cajas)**"
   ]
  },
  {
   "cell_type": "code",
   "execution_count": 35,
   "metadata": {
    "colab": {
     "base_uri": "https://localhost:8080/",
     "height": 588
    },
    "executionInfo": {
     "elapsed": 938,
     "status": "ok",
     "timestamp": 1726454659906,
     "user": {
      "displayName": "Jiliar Silgado Cardona",
      "userId": "03196006654862566865"
     },
     "user_tz": 300
    },
    "id": "oqzBe9-faqck",
    "outputId": "945ba0e3-8060-47f4-8e66-2557c0fac7c4"
   },
   "outputs": [
    {
     "data": {
      "image/png": "[encoded data removed]",
      "text/plain": [
       "<Figure size 1000x600 with 1 Axes>"
      ]
     },
     "metadata": {},
     "output_type": "display_data"
    }
   ],
   "source": [
    "# Calcular las medianas y mínimos de las clases (silenciando la advertencia)\n",
    "medianas = df1.groupby('class', observed=False)['age'].median()\n",
    "minimos = df1.groupby('class', observed=False)['age'].min()\n",
    "maximos = df1.groupby('class', observed=False)['age'].max()\n",
    "\n",
    "# Configurar la columna 'class' como categórica para asegurar el orden correcto en el gráfico\n",
    "df1['class'] = df1['class'].replace({'First': 'Primera', 'Second': 'Segunda', 'Third': 'Tercera'})\n",
    "df1['class'] = df1['class'].astype('category')\n",
    "\n",
    "# Configurar la gráfica\n",
    "plt.figure(figsize=(10, 6))\n",
    "\n",
    "# Crear el diagrama de caja\n",
    "boxplot = sns.boxplot(\n",
    "    data=df1,\n",
    "    x='class',\n",
    "    y='age',\n",
    "    boxprops=dict(facecolor='lightgrey'),   # Color de las cajas\n",
    "    medianprops=dict(color='red'),          # Color de la línea de la mediana\n",
    "    flierprops=dict(markerfacecolor='pink', marker='o')  # Color de los círculos (valores atípicos)\n",
    ")\n",
    "\n",
    "# Añadir los valores de la mediana en la gráfica\n",
    "for i, median in enumerate(medianas):\n",
    "    boxplot.text(i, median + 2, f'median: {median:.1f}',\n",
    "                 ha='center', va='center', color='gray', fontsize=8)\n",
    "\n",
    "# Añadir los valores de las bases (mínimos) para las clases 1 y 2\n",
    "for i, minimo in enumerate(minimos):\n",
    "        boxplot.text(i, minimo - 2, f'min: {minimo:.1f}',\n",
    "                     ha='center', va='center', color='gray', fontsize=8)\n",
    "\n",
    "# Añadir los valores de las bases (mínimos) para las clases 1 y 2\n",
    "for i, maximo in enumerate(maximos):\n",
    "        boxplot.text(i, maximo + 2, f'max: {maximo:.1f}',\n",
    "                     ha='center', va='center', color='gray', fontsize=8)\n",
    "\n",
    "\n",
    "# Añadir cuadrícula de color gris suave\n",
    "plt.grid(True, linestyle='--', color='lightgrey', axis='y')\n",
    "\n",
    "# Añadir título y etiquetas\n",
    "plt.title('Distribución de Edades por Clase en el Titanic')\n",
    "plt.xlabel('Clase')\n",
    "plt.ylabel('Edad')\n",
    "\n",
    "# Añadir la fuente de los datos en la gráfica\n",
    "plt.figtext(0.5, 0.01, 'Fuente (Titanic Dataset): https://www.kaggle.com/datasets/yasserh/titanic-dataset',\n",
    "            ha='center', va='center', fontsize=10, color='gray')\n",
    "\n",
    "# Mostrar la gráfica\n",
    "plt.show()"
   ]
  },
  {
   "cell_type": "markdown",
   "metadata": {
    "id": "P1bg27jtabl0"
   },
   "source": [
    "## **✅ 2. Analisis de Grafico: Diagrama de Cajas**"
   ]
  },
  {
   "cell_type": "markdown",
   "metadata": {
    "id": "dSMuHVw_pTdv"
   },
   "source": [
    "### **⭕️ Analisis Medianas por Clase:**\n",
    "\n",
    "* **Primera Clase:** La mediana es de 37 años. Esto sugiere que la edad central de los pasajeros en primera clase es relativamente alta en comparación con las otras clases. La mediana ligeramente inclinada hacia abajo indica que la distribución tiene una cola menor hacia valores menores.\n",
    "\n",
    "* **Segunda Clase:** La mediana es de 29 años. La ligera inclinación hacia abajo indica una distribución con una cola menor hacia valores menores en comparación con la primera clase, pero no tan pronunciada como en la primera clase.\n",
    "\n",
    "* **Tercera Clase:** La mediana es de 24 años, que es la más baja entre las tres clases. También muestra una ligera inclinación hacia abajo, indicando que la mayoría de los valores se concentran hacia edades más jóvenes.\n",
    "\n",
    "### **⭕️ Intercuartil (Caja) por Clase:**\n",
    "\n",
    "* **Primera Clase:** El rango intercuartil (IQR) es de aproximadamente 27 a 49 años. Esto indica que la mitad central de los datos está concentrada en un rango de 22 años, mostrando una dispersión moderada.\n",
    "\n",
    "* **Segunda Clase:** El IQR está entre 23 y 36 años. Esto es un rango de 13 años, sugiriendo una menor dispersión en comparación con la primera clase.\n",
    "\n",
    "* **Tercera Clase:** El IQR se encuentra entre 19 y 31 años, con un rango de 12 años, que es un rango ligeramente menor comparado con la segunda clase, pero aún indica cierta dispersión en los datos.\n",
    "\n",
    "### **⭕️ Valores Extremos y Líneas que Salen de la Caja (Bigotes):**\n",
    "\n",
    "* **Primera Clase:** Los bigotes se extienden desde 0.9 hasta 80 años. Esto muestra una gran dispersión de edades, pero la caja central muestra la mayoría de los datos concentrados.\n",
    "\n",
    "* **Segunda Clase:** Los bigotes se extienden desde 0.7 hasta 70 años. Similar a la primera clase, pero se logran ver valores extremos hacia arriba y abajo de los Bigotes. La presencia de valores extremos arriba y abajo indican presencia de valores atipicos, porque hay datos alejados de la mayoria de elementos del conjunto de datos.\n",
    "\n",
    "* **Tercera Clase:** Los bigotes van desde 0.4 hasta 74 años. Los valores extremos están presentes, especialmente hacia los valores altos.\n",
    "\n",
    "### **⭕️ Relación entre Medianas:**\n",
    "\n",
    "* La mediana de la segunda clase (29 años) está incluida en el rango intercuartil de la primera clase (27 a 49 años). Esto sugiere que la mayoría de los pasajeros de la segunda clase tienen edades que están bien representadas dentro de la distribución de la primera clase.\n",
    "\n",
    "* La mediana de la tercera clase (24 años) también está incluida en el rango intercuartil de la segunda clase (23 a 36 años), mostrando que las edades de los pasajeros de tercera clase están completamente dentro del rango de la segunda clase.\n",
    "\n",
    "* De forma similar, la mediana de la segunda clase (29 años) está incluida en el rango intercuartil de la tercera clase (19 a 31 años), confirmando que la distribución de edades se solapa a través de las clases.\n",
    "\n",
    "### **⭕️ Conclusión General:**\n",
    "\n",
    "El análisis del diagrama de cajas revela una clara relación entre las edades de los pasajeros y la clase en la que viajaban. Los pasajeros de la primera clase tienden a ser mayores que los de la segunda y tercera clase, con una mayor dispersión en sus edades. Los pasajeros de la segunda clase tienen una distribución de edades más concentrada, pero sus edades están bien representadas dentro de la primera clase."
   ]
  },
  {
   "cell_type": "markdown",
   "metadata": {
    "id": "wD8JhrFnXlaL"
   },
   "source": [
    "## **⚛️6. Medidas de tendencia central**\n",
    "---\n",
    "1. Calcular el promedio de edad de los pasajeros del Titanic\n",
    "2. Calcular la mediana de la edad de los pasajeros del Titanic.\n",
    "3. Calcular el promedio del costo del tiquete de los pasajeros del Titanic\n",
    "4. Calcular la mediana del costo de los tiquetes de los padajeros del Titanic.\n",
    "5. Conformar un **diccionario** con los resultados de los puntos 1, 2, 3 y 4.\n",
    "6. Comparar la media y mediana de cada una de las variables ¿ Tiene sesgo la distribución de estas variables?"
   ]
  },
  {
   "cell_type": "markdown",
   "metadata": {
    "id": "GziqVBP9ivZf"
   },
   "source": [
    "## **✅ Calculos de Promedio y Mediana (Edad, Costo de los tiquetes)**"
   ]
  },
  {
   "cell_type": "code",
   "execution_count": 36,
   "metadata": {
    "id": "kCZITdrLWFrA"
   },
   "outputs": [],
   "source": [
    "# Código para calcular las medidas de tendencia central solicitadas\n",
    "\n",
    "# Calcular el promedio y la mediana de la edad de los pasajeros\n",
    "mean_age = df1['age'].mean()\n",
    "median_age = df1['age'].median()\n",
    "\n",
    "# Calcular el promedio y la mediana del costo del tiquete\n",
    "mean_fare = df1['fare'].mean()\n",
    "median_fare = df1['fare'].median()"
   ]
  },
  {
   "cell_type": "markdown",
   "metadata": {
    "id": "1LLCSEZ3i2cW"
   },
   "source": [
    "## **✅ Creación de Diccionario de datos**"
   ]
  },
  {
   "cell_type": "code",
   "execution_count": 37,
   "metadata": {
    "colab": {
     "base_uri": "https://localhost:8080/"
    },
    "executionInfo": {
     "elapsed": 383,
     "status": "ok",
     "timestamp": 1726450270726,
     "user": {
      "displayName": "Jiliar Silgado Cardona",
      "userId": "03196006654862566865"
     },
     "user_tz": 300
    },
    "id": "ugq_dS5TWRz-",
    "outputId": "e6d55861-bcfb-4ec0-fe81-e3d4887c693a"
   },
   "outputs": [
    {
     "name": "stdout",
     "output_type": "stream",
     "text": [
      "{\n",
      "    \"Promedio de Edad\": 29.69911764705882,\n",
      "    \"Mediana de Edad\": 28.0,\n",
      "    \"Promedio de Costo de Tiquete\": 32.204207968574636,\n",
      "    \"Mediana de Costo de Tiquete\": 14.4542\n",
      "}\n"
     ]
    }
   ],
   "source": [
    "# Escriba aquí el código para construir el diccionario solicitado\n",
    "resultados = {\n",
    "    'Promedio de Edad': mean_age,\n",
    "    'Mediana de Edad': median_age,\n",
    "    'Promedio de Costo de Tiquete': mean_fare,\n",
    "    'Mediana de Costo de Tiquete': median_fare\n",
    "}\n",
    "print(json.dumps(resultados, indent=4))"
   ]
  },
  {
   "cell_type": "markdown",
   "metadata": {
    "id": "ynSYIAXLi9tz"
   },
   "source": [
    "## **✅ Arbol de decisiones ( `Media` vs `Mediana` )**"
   ]
  },
  {
   "cell_type": "code",
   "execution_count": 38,
   "metadata": {
    "colab": {
     "base_uri": "https://localhost:8080/"
    },
    "executionInfo": {
     "elapsed": 295,
     "status": "ok",
     "timestamp": 1726450605072,
     "user": {
      "displayName": "Jiliar Silgado Cardona",
      "userId": "03196006654862566865"
     },
     "user_tz": 300
    },
    "id": "wqi63e3PdRO9",
    "outputId": "89ae8086-955f-4ebd-e0d9-33d774eafb8f"
   },
   "outputs": [
    {
     "name": "stdout",
     "output_type": "stream",
     "text": [
      "Análisis de sesgo:\n",
      "Media de Edad: 29.69911764705882 > Mediana de Edad: 28.0 = La distribución de la edad tiene sesgo positivo (asimetría a la derecha).\n",
      "Media de Costo Tiquete: 32.204207968574636 > Mediana de Costo Tiquete: 14.4542 = La distribución del costo del tiquete tiene sesgo positivo (asimetría a la derecha).\n"
     ]
    }
   ],
   "source": [
    "# Análisis de sesgo\n",
    "print(\"Análisis de sesgo:\")\n",
    "\n",
    "# Analisis de Edad:\n",
    "if mean_age > median_age:\n",
    "    print(f\"Media de Edad: {mean_age} > Mediana de Edad: {median_age} = La distribución de la edad tiene sesgo positivo (asimetría a la derecha).\")\n",
    "elif mean_age < median_age:\n",
    "    print(f\"Media de Edad: {mean_age} < Mediana de Edad: {median_age} = La distribución de la edad tiene sesgo negativo (asimetría a la izquierda).\")\n",
    "else:\n",
    "    print(f\"Media de Edad: {mean_age} = Mediana de Edad: {median_age} = La distribución de la edad no tiene sesgo.\")\n",
    "\n",
    "# Analisis de Costo de Tiquete\n",
    "if mean_fare > median_fare:\n",
    "    print(f\"Media de Costo Tiquete: {mean_fare} > Mediana de Costo Tiquete: {median_fare} = La distribución del costo del tiquete tiene sesgo positivo (asimetría a la derecha).\")\n",
    "elif mean_fare < median_fare:\n",
    "    print(f\"Media de Costo Tiquete: {mean_fare} < Mediana de Costo Tiquete: {median_fare} = La distribución del costo del tiquete tiene sesgo negativo (asimetría a la izquierda).\")\n",
    "else:\n",
    "    print(f\"Media de Costo Tiquete: {mean_fare} = Mediana de Costo Tiquete: {median_fare} = La distribución del costo del tiquete no tiene sesgo.\")"
   ]
  },
  {
   "cell_type": "markdown",
   "metadata": {
    "id": "bff1hDr7ioAI"
   },
   "source": [
    "## **✅ Analisis de Sesgo**"
   ]
  },
  {
   "cell_type": "markdown",
   "metadata": {
    "id": "uvrdztfkeexL"
   },
   "source": [
    "| Variable                | Media          | Mediana       | Análisis de Sesgo                                                    |\n",
    "|-------------------------|----------------|---------------|---------------------------------------------------------------------|\n",
    "| Edad                    | 29.70          | 28.0          | La distribución de la edad tiene sesgo positivo (asimetría a la derecha). |\n",
    "| Costo del Tiquete        | 32.20          | 14.4542       | La distribución del costo del tiquete tiene sesgo positivo (asimetría a la derecha). |\n"
   ]
  },
  {
   "cell_type": "markdown",
   "metadata": {
    "id": "YuEKVXxDWch1"
   },
   "source": [
    "## **⚛️7. Medidas de dispersión**\n",
    "---\n",
    "1. Para cada una de las categorías de la variable **pclass** calcule la media y desviación estándar de la variable precio del tiquete (fare).\n",
    "2. Utilizar los datos hallados en la parte 1 para calcular el coeficiente de variación de la variable precio del tiquete (fare) en cada una de las categorías de la variable **pclass**. Comparar y analizar los resultados."
   ]
  },
  {
   "cell_type": "markdown",
   "metadata": {
    "id": "mHJ252nngBH-"
   },
   "source": [
    "## **✅ 1. Calculo de media y desviación estándar [`pclass` v.s `fare`]**"
   ]
  },
  {
   "cell_type": "code",
   "execution_count": 39,
   "metadata": {
    "colab": {
     "base_uri": "https://localhost:8080/"
    },
    "executionInfo": {
     "elapsed": 427,
     "status": "ok",
     "timestamp": 1726451007581,
     "user": {
      "displayName": "Jiliar Silgado Cardona",
      "userId": "03196006654862566865"
     },
     "user_tz": 300
    },
    "id": "qE5ZDR1TWlad",
    "outputId": "d344c6c2-cc5e-4551-d7b6-73663cb9b689"
   },
   "outputs": [
    {
     "name": "stdout",
     "output_type": "stream",
     "text": [
      "   pclass       mean        std  coef_variacion\n",
      "0       1  84.154687  78.380373       93.138451\n",
      "1       2  20.662183  13.417399       64.936985\n",
      "2       3  13.675550  11.778142       86.125542\n"
     ]
    }
   ],
   "source": [
    "# Agrupar por 'pclass' y calcular la media y desviación estándar del precio del tiquete ('fare')\n",
    "fare_stats = df1.groupby('pclass')['fare'].agg(['mean', 'std']).reset_index()\n",
    "\n",
    "# Calcular el coeficiente de variación (CV = (desviación estándar / media) * 100)\n",
    "fare_stats['coef_variacion'] = (fare_stats['std'] / fare_stats['mean']) * 100\n",
    "\n",
    "# Mostrar resultados\n",
    "print(fare_stats)"
   ]
  },
  {
   "cell_type": "markdown",
   "metadata": {
    "id": "ZPL-HGfxgUMV"
   },
   "source": [
    "## **✅ 2. Analisis de datos**"
   ]
  },
  {
   "cell_type": "markdown",
   "metadata": {
    "id": "uD_6TIF0ggci"
   },
   "source": [
    "| pclass |      Media     |       Desv. Estandar      | Coef. Variacion |\n",
    "|--------|---------------|----------------|----------------|\n",
    "|   1    |  84.154687    |  78.380373     |   93.138451    |\n",
    "|   2    |  20.662183    |  13.417399     |   64.936985    |\n",
    "|   3    |  13.675550    |  11.778142     |   86.125542    |\n"
   ]
  },
  {
   "cell_type": "markdown",
   "metadata": {
    "id": "SNEJfUtNg86y"
   },
   "source": [
    "### **⭕️Analisis Primera Clase: ( `pclass = 1` )**\n",
    "\n",
    "En la primera clase, la media del precio es considerablemente alta en comparación con las demás clases (84.15), lo que es de esperar dado el estatus de los pasajeros de primera clase. Sin embargo, el coeficiente de variación es también elevado (93.14%), lo que indica una gran dispersión en los precios. Esto sugiere que los precios de los tiquetes en esta clase eran muy variables, probablemente reflejando diferentes niveles de lujo o servicios adicionales."
   ]
  },
  {
   "cell_type": "markdown",
   "metadata": {
    "id": "1CrIhog6gaPc"
   },
   "source": [
    "### **⭕️Analisis Segunda Clase: ( `pclass = 2` )**\n",
    "\n",
    "En la segunda clase, el precio del tiquete es mucho menor que en la primera clase, con una media de 20.66. La desviación estándar también es menor (13.42), y el coeficiente de variación (64.94%) sugiere una menor dispersión en los precios en comparación con la primera clase. Los precios en esta clase son más consistentes, lo que podría indicar una menor variabilidad en el tipo de servicios o la ubicación de los camarotes."
   ]
  },
  {
   "cell_type": "markdown",
   "metadata": {
    "id": "RFlRD15ahiR5"
   },
   "source": [
    "### **⭕️Analisis Tercera Clase: ( `pclass = 3` )**\n",
    "\n",
    "En la tercera clase, la media del precio es la más baja (13.68), reflejando el acceso a los camarotes más económicos. Sin embargo, el coeficiente de variación es considerablemente alto (86.13%), lo que indica una dispersión notable en los precios. A pesar de ser la clase con los tiquetes más baratos, existía variabilidad en los precios, posiblemente debido a factores como la ubicación de los camarotes dentro del barco o diferentes tarifas para pasajeros de diferentes orígenes."
   ]
  },
  {
   "cell_type": "markdown",
   "metadata": {
    "id": "4luKKP58V-Qs"
   },
   "source": [
    "**¡Felicitaciones!** ¡Muy buen trabajo!\n",
    "\n",
    "## **Entrega**\n",
    "\n",
    "Para entregar el notebook por favor haga lo siguiente:\n",
    "1. Descargue el notebook (`Archivo` -> `Descargar .ipynb`).\n",
    "2. Importelo como archivo HTML.\n",
    "3. Realice el envío del archivo en la tarea dispuesta en el aula virtual. No olvide escribir los nombres de los integrantes del grupo en el momento de hacer la entrega.\n"
   ]
  },
  {
   "cell_type": "markdown",
   "metadata": {
    "id": "y505PavsC9KQ"
   },
   "source": [
    "## **Recursos adicionales**\n",
    "---\n",
    "\n",
    "Para complemetar sobre el uso de funciones en Python, puede consultar  la [documentación oficial](https://pandas.pydata.org/pandas-docs/stable/reference/index.html), y en especial la [Guía de usuario](https://pandas.pydata.org/pandas-docs/stable/user_guide/index.html) de *pandas*.\n",
    "\n",
    "Además, a continuación se presenta una lista de recursos adicionales que le podrán ser de utilidad:\n",
    "\n",
    "\n",
    "*  [Data vedas - Exploración y preparación de los datos](https://www.datavedas.com/data-exploration-and-preparation/)\n",
    "*  [Kaggle - Pandas](https://www.kaggle.com/learn/pandas)\n",
    "*  [CodeCademy - Learn Data Analysis with Pandas](https://www.codecademy.com/learn/data-processing-pandas)\n",
    "\n",
    "* [*Matplotlib*: Visualization with Python](http://www.matplotlib.org)\n",
    "* [Matplotlib Gallery - (Ejemplos)](http://matplotlib.org/gallery.html) - Se recomienda revisar la galería y ajustar el código de las visualizaciones requeridas.\n",
    "* [Nicolas P. Rougier - *Matplotlib* tutorial](http://www.labri.fr/perso/nrougier/teaching/matplotlib/)\n",
    "* [IBM (Coursera) - Data Visualization with *Python*](https://www.coursera.org/learn/python-for-data-visualization)\n",
    "* [DataCamp - Introduction to Data Visualization with *Matplotlib*](https://www.datacamp.com/courses/introduction-to-matplotlib)"
   ]
  }
 ],
 "metadata": {
  "colab": {
   "provenance": []
  },
  "kernelspec": {
   "display_name": "Python 3 (ipykernel)",
   "language": "python",
   "name": "python3"
  },
  "language_info": {
   "codemirror_mode": {
    "name": "ipython",
    "version": 3
   },
   "file_extension": ".py",
   "mimetype": "text/x-python",
   "name": "python",
   "nbconvert_exporter": "python",
   "pygments_lexer": "ipython3",
   "version": "3.12.4"
  }
 },
 "nbformat": 4,
 "nbformat_minor": 4
}
