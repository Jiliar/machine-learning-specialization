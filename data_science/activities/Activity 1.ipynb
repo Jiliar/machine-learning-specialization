{
 "cells": [
  {
   "cell_type": "markdown",
   "id": "17eaab79-19f0-40d8-bbe3-85730ec95337",
   "metadata": {},
   "source": [
    "## ⚛️ Data Science - Training Activities ⚙️ (Activity N° 1)"
   ]
  },
  {
   "cell_type": "markdown",
   "id": "f86d7bf1-ac89-4f98-bfc1-6aebca329c10",
   "metadata": {},
   "source": [
    "#### *By: Jiliar Silgado Cardona*"
   ]
  },
  {
   "cell_type": "markdown",
   "id": "62b3b527-e770-466e-9055-2042818331f9",
   "metadata": {},
   "source": [
    "✅ [***LinkedIn***](https://www.linkedin.com/in/jiliar-silgado-cardona-4b970b286/)"
   ]
  },
  {
   "cell_type": "markdown",
   "id": "127cb0c6-a372-4ea1-bab6-94a46ab10071",
   "metadata": {},
   "source": [
    "✅ [***GitHub***](https://github.com/Jiliar)"
   ]
  },
  {
   "cell_type": "markdown",
   "id": "6b60aab3-ccf4-4a95-8afa-ffac6feaa70e",
   "metadata": {},
   "source": [
    "### 💡Introduction to the Activity Report: Functions, Variable Types, and Data Cleaning"
   ]
  },
  {
   "cell_type": "markdown",
   "id": "26a12bbf-fe35-47fc-b9d4-bd4b608be8ca",
   "metadata": {},
   "source": [
    "This report presents the results of two key activities focused on data analysis and manipulation. Both activities involved using Jupyter Notebook to work with a given dataset, applying specific functions to explore and clean the variables it contains."
   ]
  },
  {
   "cell_type": "markdown",
   "id": "ca0d0533-be85-4b06-ba34-a214c8e9aee0",
   "metadata": {},
   "source": [
    "For the development of the following activities, functions in Python language are stipulated for reading and processing information."
   ]
  },
  {
   "cell_type": "markdown",
   "id": "6f181862-739e-4adf-b0aa-781ee62f95ca",
   "metadata": {},
   "source": [
    "#### General Resources for Solutions:"
   ]
  },
  {
   "cell_type": "markdown",
   "id": "1d6428d1-a207-4b6c-9d78-772b6baf052f",
   "metadata": {},
   "source": [
    "##### Functions"
   ]
  },
  {
   "cell_type": "code",
   "execution_count": 1,
   "id": "bc3dcd28-e313-4b1a-8a9b-ef64bd05d3a8",
   "metadata": {},
   "outputs": [],
   "source": [
    "# Pandas Importing\n",
    "import pandas as pd \n",
    "\n",
    "def get_file_details(file, index):\n",
    "\n",
    "    # Reading the CSV file into a DataFrame, with the specified column set as the index.\n",
    "    df = pd.read_csv(file, index_col = index)  \n",
    "\n",
    "    # Stripping leading and trailing spaces from the column headers.\n",
    "    df.columns = df.columns.str.strip()\n",
    "\n",
    "    # Returning the cleaned DataFrame.\n",
    "    return df "
   ]
  },
  {
   "cell_type": "markdown",
   "id": "e6ac9cb8-4a72-4b51-a6d5-e612c4cfad00",
   "metadata": {},
   "source": [
    "### Activity 1: Functions and Variable Types"
   ]
  },
  {
   "cell_type": "markdown",
   "id": "10b1a174-777e-4bbe-b49a-4a2fc9076397",
   "metadata": {},
   "source": [
    "#### ✍️ Statement"
   ]
  },
  {
   "cell_type": "markdown",
   "id": "b4745c17-97c4-49de-ba7f-5fdbc4ecd2f9",
   "metadata": {},
   "source": [
    "Write in a Jupyter HTML file code blocks and Markdown where the variables from a given dataset are described as follows:\n",
    "\n",
    "+ The type of each variable.\n",
    "+ Apply the corresponding functions based on the type of each variable to determine:\n",
    "+ The total number of values.\n",
    "+ The distinct values.\n",
    "+ The null values."
   ]
  },
  {
   "cell_type": "markdown",
   "id": "c41667d8-9d6f-4753-88a8-600a5562a7fa",
   "metadata": {},
   "source": [
    "#### 💡Introduction"
   ]
  },
  {
   "cell_type": "markdown",
   "id": "7f63603a-18cd-4834-807f-fbf0745818bf",
   "metadata": {},
   "source": [
    "In the first activity, the variables in the dataset were identified and classified according to their type (numerical, categorical, etc.). For each type of variable, specific functions were applied to determine the total number of values, distinct values, and the presence of null values. The output of this activity is an HTML file that includes both the code used and Markdown descriptions of the results obtained."
   ]
  },
  {
   "cell_type": "markdown",
   "id": "d8bb7356-19a4-4aa1-b568-9f7b2733ce24",
   "metadata": {},
   "source": [
    "#### 📥 Input:"
   ]
  },
  {
   "cell_type": "markdown",
   "id": "bcf4f1e7-4107-4c16-9f30-8b0ca79d6b89",
   "metadata": {},
   "source": [
    "***Download Page:*** [Census Income](https://archive.ics.uci.edu/dataset/20/census+income)"
   ]
  },
  {
   "cell_type": "markdown",
   "id": "c0738578-61eb-44a4-8411-ad4f471ffec6",
   "metadata": {},
   "source": [
    "#### Data:"
   ]
  },
  {
   "cell_type": "code",
   "execution_count": 2,
   "id": "57968f81-6150-44af-b1da-7b1be8ba47e9",
   "metadata": {},
   "outputs": [
    {
     "data": {
      "text/html": [
       "<div>\n",
       "<style scoped>\n",
       "    .dataframe tbody tr th:only-of-type {\n",
       "        vertical-align: middle;\n",
       "    }\n",
       "\n",
       "    .dataframe tbody tr th {\n",
       "        vertical-align: top;\n",
       "    }\n",
       "\n",
       "    .dataframe thead th {\n",
       "        text-align: right;\n",
       "    }\n",
       "</style>\n",
       "<table border=\"1\" class=\"dataframe\">\n",
       "  <thead>\n",
       "    <tr style=\"text-align: right;\">\n",
       "      <th></th>\n",
       "      <th>age</th>\n",
       "      <th>workclass</th>\n",
       "      <th>fnlwgt</th>\n",
       "      <th>education</th>\n",
       "      <th>education-num</th>\n",
       "      <th>marital-status</th>\n",
       "      <th>occupation</th>\n",
       "      <th>relationship</th>\n",
       "      <th>race</th>\n",
       "      <th>sex</th>\n",
       "      <th>capital-gain</th>\n",
       "      <th>capital-loss</th>\n",
       "      <th>hours-per-week</th>\n",
       "      <th>native-country</th>\n",
       "      <th>income</th>\n",
       "    </tr>\n",
       "  </thead>\n",
       "  <tbody>\n",
       "    <tr>\n",
       "      <th>0</th>\n",
       "      <td>39</td>\n",
       "      <td>State-gov</td>\n",
       "      <td>77516</td>\n",
       "      <td>Bachelors</td>\n",
       "      <td>13</td>\n",
       "      <td>Never-married</td>\n",
       "      <td>Adm-clerical</td>\n",
       "      <td>Not-in-family</td>\n",
       "      <td>White</td>\n",
       "      <td>Male</td>\n",
       "      <td>2174</td>\n",
       "      <td>0</td>\n",
       "      <td>40</td>\n",
       "      <td>United-States</td>\n",
       "      <td>&lt;=50K</td>\n",
       "    </tr>\n",
       "    <tr>\n",
       "      <th>1</th>\n",
       "      <td>50</td>\n",
       "      <td>Self-emp-not-inc</td>\n",
       "      <td>83311</td>\n",
       "      <td>Bachelors</td>\n",
       "      <td>13</td>\n",
       "      <td>Married-civ-spouse</td>\n",
       "      <td>Exec-managerial</td>\n",
       "      <td>Husband</td>\n",
       "      <td>White</td>\n",
       "      <td>Male</td>\n",
       "      <td>0</td>\n",
       "      <td>0</td>\n",
       "      <td>13</td>\n",
       "      <td>United-States</td>\n",
       "      <td>&lt;=50K</td>\n",
       "    </tr>\n",
       "    <tr>\n",
       "      <th>2</th>\n",
       "      <td>38</td>\n",
       "      <td>Private</td>\n",
       "      <td>215646</td>\n",
       "      <td>HS-grad</td>\n",
       "      <td>9</td>\n",
       "      <td>Divorced</td>\n",
       "      <td>Handlers-cleaners</td>\n",
       "      <td>Not-in-family</td>\n",
       "      <td>White</td>\n",
       "      <td>Male</td>\n",
       "      <td>0</td>\n",
       "      <td>0</td>\n",
       "      <td>40</td>\n",
       "      <td>United-States</td>\n",
       "      <td>&lt;=50K</td>\n",
       "    </tr>\n",
       "    <tr>\n",
       "      <th>3</th>\n",
       "      <td>53</td>\n",
       "      <td>Private</td>\n",
       "      <td>234721</td>\n",
       "      <td>11th</td>\n",
       "      <td>7</td>\n",
       "      <td>Married-civ-spouse</td>\n",
       "      <td>Handlers-cleaners</td>\n",
       "      <td>Husband</td>\n",
       "      <td>Black</td>\n",
       "      <td>Male</td>\n",
       "      <td>0</td>\n",
       "      <td>0</td>\n",
       "      <td>40</td>\n",
       "      <td>United-States</td>\n",
       "      <td>&lt;=50K</td>\n",
       "    </tr>\n",
       "    <tr>\n",
       "      <th>4</th>\n",
       "      <td>28</td>\n",
       "      <td>Private</td>\n",
       "      <td>338409</td>\n",
       "      <td>Bachelors</td>\n",
       "      <td>13</td>\n",
       "      <td>Married-civ-spouse</td>\n",
       "      <td>Prof-specialty</td>\n",
       "      <td>Wife</td>\n",
       "      <td>Black</td>\n",
       "      <td>Female</td>\n",
       "      <td>0</td>\n",
       "      <td>0</td>\n",
       "      <td>40</td>\n",
       "      <td>Cuba</td>\n",
       "      <td>&lt;=50K</td>\n",
       "    </tr>\n",
       "  </tbody>\n",
       "</table>\n",
       "</div>"
      ],
      "text/plain": [
       "   age         workclass  fnlwgt  education  education-num  \\\n",
       "0   39         State-gov   77516  Bachelors             13   \n",
       "1   50  Self-emp-not-inc   83311  Bachelors             13   \n",
       "2   38           Private  215646    HS-grad              9   \n",
       "3   53           Private  234721       11th              7   \n",
       "4   28           Private  338409  Bachelors             13   \n",
       "\n",
       "       marital-status         occupation   relationship   race     sex  \\\n",
       "0       Never-married       Adm-clerical  Not-in-family  White    Male   \n",
       "1  Married-civ-spouse    Exec-managerial        Husband  White    Male   \n",
       "2            Divorced  Handlers-cleaners  Not-in-family  White    Male   \n",
       "3  Married-civ-spouse  Handlers-cleaners        Husband  Black    Male   \n",
       "4  Married-civ-spouse     Prof-specialty           Wife  Black  Female   \n",
       "\n",
       "   capital-gain  capital-loss  hours-per-week native-country income  \n",
       "0          2174             0              40  United-States  <=50K  \n",
       "1             0             0              13  United-States  <=50K  \n",
       "2             0             0              40  United-States  <=50K  \n",
       "3             0             0              40  United-States  <=50K  \n",
       "4             0             0              40           Cuba  <=50K  "
      ]
     },
     "execution_count": 2,
     "metadata": {},
     "output_type": "execute_result"
    }
   ],
   "source": [
    "input1 = \"../../data/csv/census_income-1.csv\" # Specify the path to the CSV file.\n",
    "\n",
    "# Call the get_file_details function, passing in the file path and setting the first column (index 0) as the index.\n",
    "# Use the .head() method to display the first 5 rows of the DataFrame.\n",
    "get_file_details(input1, 0).head()"
   ]
  },
  {
   "cell_type": "markdown",
   "id": "41b7b8fa-c372-4584-8f92-db030ba3e2f5",
   "metadata": {},
   "source": [
    "### ⚙️ Data Processing:"
   ]
  },
  {
   "cell_type": "markdown",
   "id": "68fc7b86-2127-4d49-8449-97cfe203c07c",
   "metadata": {},
   "source": [
    "### 📝 1. Types Variables:"
   ]
  },
  {
   "cell_type": "code",
   "execution_count": 3,
   "id": "bf189b1e-6896-427d-a712-affc7ee05b4d",
   "metadata": {},
   "outputs": [
    {
     "name": "stdout",
     "output_type": "stream",
     "text": [
      "Unnamed: 0                 int64\n",
      "age                        int64\n",
      "workclass         string[python]\n",
      "fnlwgt                     int64\n",
      "education         string[python]\n",
      "education-num              int64\n",
      "marital-status    string[python]\n",
      "occupation        string[python]\n",
      "relationship      string[python]\n",
      "race              string[python]\n",
      "sex               string[python]\n",
      "capital-gain               int64\n",
      "capital-loss               int64\n",
      "hours-per-week             int64\n",
      "native-country    string[python]\n",
      "dtype: object\n"
     ]
    }
   ],
   "source": [
    "# Load the CSV file, specifying that the last column (index -1) should be set as the index.\n",
    "df = get_file_details(input1, -1)\n",
    "\n",
    "# Convert all columns with data type 'object' to 'string' type. because all objects are strings in this file.\n",
    "df = df.astype({col: 'string' for col in df.select_dtypes(include='object').columns})\n",
    "\n",
    "# Print the data types of each column in the DataFrame to verify the conversion.\n",
    "print(df.dtypes)"
   ]
  },
  {
   "cell_type": "markdown",
   "id": "4e2bfdc3-937d-42ed-a961-3035369c4109",
   "metadata": {},
   "source": [
    "### 📝 2. The amount of values ​​there are"
   ]
  },
  {
   "cell_type": "markdown",
   "id": "51b7b1e0-ed3b-46fb-8ccf-524f60127314",
   "metadata": {},
   "source": [
    "##### ✏️ 2.1. The number of values ​​for each variable are (without blanks):"
   ]
  },
  {
   "cell_type": "code",
   "execution_count": 4,
   "id": "090c4468-91eb-4b83-aec9-e24e614783b3",
   "metadata": {},
   "outputs": [
    {
     "name": "stdout",
     "output_type": "stream",
     "text": [
      "Unnamed: 0        48842\n",
      "age               48842\n",
      "workclass         47879\n",
      "fnlwgt            48842\n",
      "education         48842\n",
      "education-num     48842\n",
      "marital-status    48842\n",
      "occupation        47876\n",
      "relationship      48842\n",
      "race              48842\n",
      "sex               48842\n",
      "capital-gain      48842\n",
      "capital-loss      48842\n",
      "hours-per-week    48842\n",
      "native-country    48568\n",
      "dtype: int64\n"
     ]
    }
   ],
   "source": [
    "# Calculate the total number of non-null values in each column of the DataFrame.\n",
    "total_values_per_column = df.count()\n",
    "\n",
    "# Print the result, which shows the count of non-null values for each column.\n",
    "print(total_values_per_column)"
   ]
  },
  {
   "cell_type": "markdown",
   "id": "ca5e0589-d756-444f-b7cc-4574dc324b17",
   "metadata": {},
   "source": [
    "##### ✏️ 2.2. Total number of values is:"
   ]
  },
  {
   "cell_type": "code",
   "execution_count": 5,
   "id": "cdb83a52-faf1-43d8-bf58-22735e838fb0",
   "metadata": {},
   "outputs": [
    {
     "name": "stdout",
     "output_type": "stream",
     "text": [
      "730427\n"
     ]
    }
   ],
   "source": [
    "# Calculate the total number of non-null values across all columns in the DataFrame.\n",
    "# Print the result, which shows the total count of non-null values in the entire DataFrame.\n",
    "\n",
    "print(df.count().sum())"
   ]
  },
  {
   "cell_type": "markdown",
   "id": "1a347a05-7c2f-4bd9-94a2-3c1e0136f37f",
   "metadata": {},
   "source": [
    "### 📝 3. Distinct values"
   ]
  },
  {
   "cell_type": "markdown",
   "id": "9afcd37d-ad27-4eb2-9963-dedf1a73bc12",
   "metadata": {},
   "source": [
    "##### ✏️ 3.1. Distinct values by each variable are:"
   ]
  },
  {
   "cell_type": "code",
   "execution_count": 6,
   "id": "d443389a-af7c-4f66-a43a-094515bf3417",
   "metadata": {},
   "outputs": [
    {
     "name": "stdout",
     "output_type": "stream",
     "text": [
      "77875\n"
     ]
    }
   ],
   "source": [
    "# Calculate and print the total number of unique values across all columns in the DataFrame.\n",
    "\n",
    "print(df.nunique().sum())"
   ]
  },
  {
   "cell_type": "markdown",
   "id": "a6ff8bc6-01ca-4960-aedb-12be75238300",
   "metadata": {},
   "source": [
    "#### ✏️ 3.2. Total distinct values are:"
   ]
  },
  {
   "cell_type": "code",
   "execution_count": 7,
   "id": "ccbb1d6b-304e-4d6e-acd7-af4bfdb7a8e9",
   "metadata": {},
   "outputs": [
    {
     "name": "stdout",
     "output_type": "stream",
     "text": [
      "Unnamed: 0        48842\n",
      "age                  74\n",
      "workclass             9\n",
      "fnlwgt            28523\n",
      "education            16\n",
      "education-num        16\n",
      "marital-status        7\n",
      "occupation           15\n",
      "relationship          6\n",
      "race                  5\n",
      "sex                   2\n",
      "capital-gain        123\n",
      "capital-loss         99\n",
      "hours-per-week       96\n",
      "native-country       42\n",
      "dtype: int64\n"
     ]
    }
   ],
   "source": [
    "# Calculate and print the number of unique values for each column in the DataFrame.\n",
    "\n",
    "print(df.nunique())"
   ]
  },
  {
   "cell_type": "markdown",
   "id": "2fc2b7f3-e6ca-464e-ac64-3e351dda8977",
   "metadata": {},
   "source": [
    "### 📝 4. Null values"
   ]
  },
  {
   "cell_type": "markdown",
   "id": "64fb2682-3941-4d90-bd73-1c1b5b50384f",
   "metadata": {},
   "source": [
    "##### ✏️ 4.1. Null values by each variable are:"
   ]
  },
  {
   "cell_type": "code",
   "execution_count": 8,
   "id": "0986225e-9831-4f52-8afe-c58844e341bd",
   "metadata": {},
   "outputs": [
    {
     "name": "stdout",
     "output_type": "stream",
     "text": [
      "Unnamed: 0          0\n",
      "age                 0\n",
      "workclass         963\n",
      "fnlwgt              0\n",
      "education           0\n",
      "education-num       0\n",
      "marital-status      0\n",
      "occupation        966\n",
      "relationship        0\n",
      "race                0\n",
      "sex                 0\n",
      "capital-gain        0\n",
      "capital-loss        0\n",
      "hours-per-week      0\n",
      "native-country    274\n",
      "dtype: int64\n"
     ]
    }
   ],
   "source": [
    "# Calculate and print the number of missing (NaN) values for each column in the DataFrame.\n",
    "\n",
    "print(df.isnull().sum())"
   ]
  },
  {
   "cell_type": "markdown",
   "id": "25d609ff-d6a7-40d7-bce7-8161ed6cae42",
   "metadata": {},
   "source": [
    "##### ✏️ 4.2. Total null values are:"
   ]
  },
  {
   "cell_type": "code",
   "execution_count": 9,
   "id": "177b24b0-e886-4201-b3b1-e44615ec79e0",
   "metadata": {},
   "outputs": [
    {
     "name": "stdout",
     "output_type": "stream",
     "text": [
      "2203\n"
     ]
    }
   ],
   "source": [
    "# Calculate and print the total number of missing (NaN) values across the entire DataFrame.\n",
    "\n",
    "print(df.isnull().sum().sum())"
   ]
  },
  {
   "cell_type": "markdown",
   "id": "666b6b01-fa30-4ec5-a0bc-d8df3ede642e",
   "metadata": {},
   "source": [
    "### ✅ Activity 2: IF Statements for Data Cleaning"
   ]
  },
  {
   "cell_type": "markdown",
   "id": "ffe8ce38-470f-4edd-b271-1bbd22e2b99d",
   "metadata": {},
   "source": [
    "#### ✍️ Statement:"
   ]
  },
  {
   "cell_type": "markdown",
   "id": "aa80b53a-135c-4889-97a1-7895f32c3c8b",
   "metadata": {},
   "source": [
    "Write in a Jupyter file code blocks and Markdown where the variables from a given dataset are described as follows:\n",
    "\n",
    "+ Initial variables.\n",
    "+ Apply the corresponding functions to clean these variables."
   ]
  },
  {
   "cell_type": "markdown",
   "id": "a09aa45e-a56b-4529-ac57-88a845bf8fca",
   "metadata": {},
   "source": [
    "#### 💡Introduction"
   ]
  },
  {
   "cell_type": "markdown",
   "id": "c94deb35-c60a-4306-80fb-8c54c8163b6b",
   "metadata": {},
   "source": [
    "The second activity focused on cleaning the variables previously explored. Using code blocks with conditional structures (IF statements), various functions were applied to improve data quality by removing additional characters and handling low-quality variables. As with the first activity, the final results were documented and submitted in an HTML file."
   ]
  },
  {
   "cell_type": "markdown",
   "id": "2479df13-3995-4ff0-b69e-cf52e9a07f63",
   "metadata": {},
   "source": [
    "#### 📥 Input:"
   ]
  },
  {
   "cell_type": "markdown",
   "id": "45998888-f60b-4a23-b8c9-45391bcb4af0",
   "metadata": {},
   "source": [
    "***Download Page:*** [A Titanic Probability](https://web.stanford.edu/class/archive/cs/cs109/cs109.1166/problem12.html)"
   ]
  },
  {
   "cell_type": "code",
   "execution_count": 10,
   "id": "ec2b0c7a-71ae-45ef-baac-0b15dda9a337",
   "metadata": {},
   "outputs": [
    {
     "data": {
      "text/html": [
       "<div>\n",
       "<style scoped>\n",
       "    .dataframe tbody tr th:only-of-type {\n",
       "        vertical-align: middle;\n",
       "    }\n",
       "\n",
       "    .dataframe tbody tr th {\n",
       "        vertical-align: top;\n",
       "    }\n",
       "\n",
       "    .dataframe thead th {\n",
       "        text-align: right;\n",
       "    }\n",
       "</style>\n",
       "<table border=\"1\" class=\"dataframe\">\n",
       "  <thead>\n",
       "    <tr style=\"text-align: right;\">\n",
       "      <th></th>\n",
       "      <th>Pclass</th>\n",
       "      <th>Name</th>\n",
       "      <th>Sex</th>\n",
       "      <th>Age</th>\n",
       "      <th>Siblings/Spouses Aboard</th>\n",
       "      <th>Parents/Children Aboard</th>\n",
       "      <th>Fare</th>\n",
       "    </tr>\n",
       "    <tr>\n",
       "      <th>Survived</th>\n",
       "      <th></th>\n",
       "      <th></th>\n",
       "      <th></th>\n",
       "      <th></th>\n",
       "      <th></th>\n",
       "      <th></th>\n",
       "      <th></th>\n",
       "    </tr>\n",
       "  </thead>\n",
       "  <tbody>\n",
       "    <tr>\n",
       "      <th>0</th>\n",
       "      <td>3</td>\n",
       "      <td>Mr. Owen Harris Braund</td>\n",
       "      <td>male</td>\n",
       "      <td>22.0</td>\n",
       "      <td>1</td>\n",
       "      <td>0</td>\n",
       "      <td>7.2500</td>\n",
       "    </tr>\n",
       "    <tr>\n",
       "      <th>1</th>\n",
       "      <td>1</td>\n",
       "      <td>Mrs. John Bradley (Florence Briggs Thayer) Cum...</td>\n",
       "      <td>female</td>\n",
       "      <td>38.0</td>\n",
       "      <td>1</td>\n",
       "      <td>0</td>\n",
       "      <td>71.2833</td>\n",
       "    </tr>\n",
       "    <tr>\n",
       "      <th>1</th>\n",
       "      <td>3</td>\n",
       "      <td>Miss. Laina Heikkinen</td>\n",
       "      <td>female</td>\n",
       "      <td>26.0</td>\n",
       "      <td>0</td>\n",
       "      <td>0</td>\n",
       "      <td>7.9250</td>\n",
       "    </tr>\n",
       "    <tr>\n",
       "      <th>1</th>\n",
       "      <td>1</td>\n",
       "      <td>Mrs. Jacques Heath (Lily May Peel) Futrelle</td>\n",
       "      <td>female</td>\n",
       "      <td>35.0</td>\n",
       "      <td>1</td>\n",
       "      <td>0</td>\n",
       "      <td>53.1000</td>\n",
       "    </tr>\n",
       "    <tr>\n",
       "      <th>0</th>\n",
       "      <td>3</td>\n",
       "      <td>Mr. William Henry Allen</td>\n",
       "      <td>male</td>\n",
       "      <td>35.0</td>\n",
       "      <td>0</td>\n",
       "      <td>0</td>\n",
       "      <td>8.0500</td>\n",
       "    </tr>\n",
       "  </tbody>\n",
       "</table>\n",
       "</div>"
      ],
      "text/plain": [
       "          Pclass                                               Name     Sex  \\\n",
       "Survived                                                                      \n",
       "0              3                             Mr. Owen Harris Braund    male   \n",
       "1              1  Mrs. John Bradley (Florence Briggs Thayer) Cum...  female   \n",
       "1              3                              Miss. Laina Heikkinen  female   \n",
       "1              1        Mrs. Jacques Heath (Lily May Peel) Futrelle  female   \n",
       "0              3                            Mr. William Henry Allen    male   \n",
       "\n",
       "           Age  Siblings/Spouses Aboard  Parents/Children Aboard     Fare  \n",
       "Survived                                                                   \n",
       "0         22.0                        1                        0   7.2500  \n",
       "1         38.0                        1                        0  71.2833  \n",
       "1         26.0                        0                        0   7.9250  \n",
       "1         35.0                        1                        0  53.1000  \n",
       "0         35.0                        0                        0   8.0500  "
      ]
     },
     "execution_count": 10,
     "metadata": {},
     "output_type": "execute_result"
    }
   ],
   "source": [
    "# Specify the path to the CSV file.\n",
    "input2 = \"../../data/csv/titanic-1.csv\"\n",
    "\n",
    "# Call the get_file_details function, passing in the file path and setting the first column (index 0) as the index.\n",
    "# Use the .head() method to display the first 5 rows of the DataFrame.\n",
    "get_file_details(input2, 0).head()"
   ]
  },
  {
   "cell_type": "markdown",
   "id": "5198859a-7712-4eb2-a504-dab26c4b63c8",
   "metadata": {},
   "source": [
    "### ⚙️ Data Processing:"
   ]
  },
  {
   "cell_type": "markdown",
   "id": "dbc06ea1-4983-4c96-8b38-cdfb8a531111",
   "metadata": {},
   "source": [
    "### 1. Initial variables."
   ]
  },
  {
   "cell_type": "code",
   "execution_count": 11,
   "id": "c960966f-742e-4179-a4e9-1dd2254d60aa",
   "metadata": {},
   "outputs": [
    {
     "name": "stdout",
     "output_type": "stream",
     "text": [
      "Survived                     int64\n",
      "Pclass                       int64\n",
      "Name                        object\n",
      "Sex                         object\n",
      "Age                        float64\n",
      "Siblings/Spouses Aboard      int64\n",
      "Parents/Children Aboard      int64\n",
      "dtype: object\n"
     ]
    }
   ],
   "source": [
    "# Load the CSV file, specifying that the last column (index -1) should be set as the index.\n",
    "df = get_file_details(input2, -1)\n",
    "\n",
    "# Print the data types of each column in the DataFrame to verify the data types of the loaded data.\n",
    "print(df.dtypes)"
   ]
  },
  {
   "cell_type": "markdown",
   "id": "b690bd38-3e23-46bb-8193-0cf185e112aa",
   "metadata": {},
   "source": [
    "### 2. Apply the corresponding functions to clean these variables."
   ]
  },
  {
   "cell_type": "markdown",
   "id": "588c7ef0-18a2-4308-91de-cb6074b01587",
   "metadata": {},
   "source": [
    "#### ✏️ 2.1. Convert columns of type object to string"
   ]
  },
  {
   "cell_type": "code",
   "execution_count": 12,
   "id": "05e80fed-a6dc-4503-8575-e1a0f3d181ab",
   "metadata": {},
   "outputs": [
    {
     "name": "stdout",
     "output_type": "stream",
     "text": [
      "Survived                            int64\n",
      "Pclass                              int64\n",
      "Name                       string[python]\n",
      "Sex                        string[python]\n",
      "Age                               float64\n",
      "Siblings/Spouses Aboard             int64\n",
      "Parents/Children Aboard             int64\n",
      "dtype: object\n"
     ]
    }
   ],
   "source": [
    "# Load the CSV file, specifying that the last column (index -1) should be set as the index.\n",
    "df = get_file_details(input2, -1)\n",
    "\n",
    "# Convert all columns with data type 'object' to 'string' type.\n",
    "df = df.astype({col: 'string' for col in df.select_dtypes(include='object').columns})\n",
    "\n",
    "# Print the data types of each column in the DataFrame to verify the conversion.\n",
    "print(df.dtypes)"
   ]
  },
  {
   "cell_type": "markdown",
   "id": "bb998a3a-e020-417b-a1df-8a17797c38c6",
   "metadata": {},
   "source": [
    "#### ✏️ 2.2. Function to delete rows where all values ​​are NaN"
   ]
  },
  {
   "cell_type": "code",
   "execution_count": 13,
   "id": "639a0f96-e6cb-4e69-bf86-504831be4bd6",
   "metadata": {},
   "outputs": [
    {
     "name": "stdout",
     "output_type": "stream",
     "text": [
      "num_rows (before) 887\n",
      "There are no rows to remove.\n",
      "num_rows (after) 887\n"
     ]
    }
   ],
   "source": [
    "# Calculate the maximum number of non-null values across all columns to determine the number of rows.\n",
    "num_rows = df.count().max()\n",
    "# Print the number of rows before removing any rows with all null values.\n",
    "print('num_rows (before)', num_rows)\n",
    "\n",
    "# Define a function to remove rows that contain all null values.\n",
    "def remove_null_rows(df):\n",
    "    # Check if there are any rows where all values are null.\n",
    "    if df.isnull().all(axis=1).sum() > 0:\n",
    "        # Drop rows where all values are null.\n",
    "        df.dropna(how='all', inplace=True)\n",
    "        # Print a message indicating that rows with all null values have been removed.\n",
    "        print(\"Rows with all null values removed.\")\n",
    "    else:\n",
    "        # Print a message if no rows with all null values are found.\n",
    "        print(\"There are no rows to remove.\")\n",
    "    # Return the updated DataFrame.\n",
    "    return df\n",
    "\n",
    "# Call the remove_null_rows function to clean the DataFrame.\n",
    "df = remove_null_rows(df)\n",
    "\n",
    "# Recalculate the maximum number of non-null values across all columns to determine the number of rows after cleanup.\n",
    "num_rows = df.count().max()\n",
    "# Print the number of rows after removing rows with all null values.\n",
    "print('num_rows (after)', num_rows)\n"
   ]
  },
  {
   "cell_type": "markdown",
   "id": "ed3b4fd1-1daf-4fe8-8252-f5fec7e0c771",
   "metadata": {},
   "source": [
    "#### ✏️ 2.3. Function to remove duplicate rows"
   ]
  },
  {
   "cell_type": "code",
   "execution_count": 14,
   "id": "743ecfe1-b262-4595-b640-df9a8ba37445",
   "metadata": {},
   "outputs": [
    {
     "name": "stdout",
     "output_type": "stream",
     "text": [
      "num_rows (before) 887\n",
      "There are no duplicates to remove.\n",
      "num_rows (after) 887\n"
     ]
    }
   ],
   "source": [
    "# Calculate the maximum number of non-null values across all columns to determine the number of rows.\n",
    "num_rows = df.count().max()\n",
    "# Print the number of rows before removing any duplicate rows.\n",
    "print('num_rows (before)', num_rows)\n",
    "\n",
    "# Define a function to remove duplicate rows from the DataFrame.\n",
    "def delete_duplicates(df):\n",
    "    # Check if there are any duplicate rows in the DataFrame.\n",
    "    if df.duplicated().any():\n",
    "        # Drop duplicate rows, keeping only the first occurrence.\n",
    "        df.drop_duplicates(inplace=True)\n",
    "        # Print a message indicating that duplicate rows have been removed.\n",
    "        print(\"Duplicate rows removed.\")\n",
    "    else:\n",
    "        # Print a message if no duplicate rows are found.\n",
    "        print(\"There are no duplicates to remove.\")\n",
    "    # Return the updated DataFrame.\n",
    "    return df\n",
    "\n",
    "# Call the delete_duplicates function to remove duplicate rows from the DataFrame.\n",
    "df = delete_duplicates(df)\n",
    "\n",
    "# Recalculate the maximum number of non-null values across all columns to determine the number of rows after cleanup.\n",
    "num_rows = df.count().max()\n",
    "# Print the number of rows after removing duplicate rows.\n",
    "print('num_rows (after)', num_rows)"
   ]
  },
  {
   "cell_type": "markdown",
   "id": "271e9eb5-fa26-4ce8-8253-3b63a4492528",
   "metadata": {},
   "source": [
    "#### ✏️ 2.4. Function to clean whitespace in text columns"
   ]
  },
  {
   "cell_type": "code",
   "execution_count": 15,
   "id": "83d49c42-51a3-4327-a5b5-c09e6ef6289a",
   "metadata": {},
   "outputs": [
    {
     "name": "stdout",
     "output_type": "stream",
     "text": [
      "Blank spaces removed from column 'Name'.\n",
      "No Blank spaces in column 'Sex'.\n"
     ]
    }
   ],
   "source": [
    "# Define a function to remove leading and trailing white spaces from string columns in the DataFrame.\n",
    "def clear_white_spaces(df):\n",
    "    # Iterate over each column in the DataFrame that has data type 'string' or 'object'.\n",
    "    for col in df.select_dtypes(include=['string', 'object']):\n",
    "        # Check if the column contains any white spaces.\n",
    "        if df[col].str.contains(' ').any():\n",
    "            # Remove leading and trailing white spaces from each value in the column.\n",
    "            df[col] = df[col].str.strip()\n",
    "            # Print a message indicating that white spaces have been removed from the column.\n",
    "            print(f\"Blank spaces removed from column '{col}'.\")\n",
    "        else:\n",
    "            # Print a message if no white spaces are found in the column.\n",
    "            print(f\"No Blank spaces in column '{col}'.\")\n",
    "    # Return the updated DataFrame with white spaces removed.\n",
    "    return df\n",
    "\n",
    "# Call the clear_white_spaces function to clean white spaces from string columns in the DataFrame.\n",
    "df = clear_white_spaces(df)"
   ]
  },
  {
   "cell_type": "markdown",
   "id": "9de87a4a-9e00-4a73-9d8c-51ac153dec7a",
   "metadata": {},
   "source": [
    "#### ✏️ 2.5. Function to replace negative values with Zero (0)"
   ]
  },
  {
   "cell_type": "code",
   "execution_count": 16,
   "id": "46018697-8897-489a-8b36-73f2f914c332",
   "metadata": {},
   "outputs": [
    {
     "name": "stdout",
     "output_type": "stream",
     "text": [
      "There are no values less than zero in column 'Survived'\n",
      "There are no values less than zero in column 'Pclass'\n",
      "There are no values less than zero in column 'Age'\n",
      "There are no values less than zero in column 'Siblings/Spouses Aboard'\n",
      "There are no values less than zero in column 'Parents/Children Aboard'\n"
     ]
    }
   ],
   "source": [
    "# Define a function to replace negative values in a specified column of the DataFrame with zero.\n",
    "def replace_negative_values(df, column):\n",
    "    # Check if there are any negative values in the specified column.\n",
    "    if (df[column] < 0).any():\n",
    "        # Replace negative values with zero in the specified column.\n",
    "        df.loc[df[column] < 0, column] = 0\n",
    "        # Print a message indicating that negative values have been replaced.\n",
    "        print(f\"Negative values in the column '{column}' replaced.\")\n",
    "    else:\n",
    "        # Print a message if there are no negative values in the column.\n",
    "        print(f\"There are no values less than zero in column '{column}'\")\n",
    "    # Return the updated DataFrame.\n",
    "    return df\n",
    "\n",
    "# Call the replace_negative_values function to replace negative values with zero in the 'Survived' column.\n",
    "df = replace_negative_values(df, 'Survived')\n",
    "\n",
    "# Call the replace_negative_values function to replace negative values with zero in the 'Pclass' column.\n",
    "df = replace_negative_values(df, 'Pclass')\n",
    "\n",
    "# Call the replace_negative_values function to replace negative values with zero in the 'Age' column.\n",
    "df = replace_negative_values(df, 'Age')\n",
    "\n",
    "# Call the replace_negative_values function to replace negative values with zero in the 'Siblings/Spouses Aboard' column.\n",
    "df = replace_negative_values(df, 'Siblings/Spouses Aboard')\n",
    "\n",
    "# Call the replace_negative_values function to replace negative values with zero in the 'Parents/Children Aboard' column.\n",
    "df = replace_negative_values(df, 'Parents/Children Aboard')"
   ]
  }
 ],
 "metadata": {
  "kernelspec": {
   "display_name": "Python 3 (ipykernel)",
   "language": "python",
   "name": "python3"
  },
  "language_info": {
   "codemirror_mode": {
    "name": "ipython",
    "version": 3
   },
   "file_extension": ".py",
   "mimetype": "text/x-python",
   "name": "python",
   "nbconvert_exporter": "python",
   "pygments_lexer": "ipython3",
   "version": "3.12.4"
  }
 },
 "nbformat": 4,
 "nbformat_minor": 5
}
