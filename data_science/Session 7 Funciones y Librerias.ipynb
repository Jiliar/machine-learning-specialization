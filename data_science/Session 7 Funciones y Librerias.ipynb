{
 "cells": [
  {
   "cell_type": "markdown",
   "id": "61e123f8-067d-4ac6-9742-ce177abcdaaf",
   "metadata": {},
   "source": [
    "## Sessión 7"
   ]
  },
  {
   "cell_type": "markdown",
   "id": "7fb2bc75-9bc7-4807-8108-097fe695c9aa",
   "metadata": {},
   "source": [
    "### Librerias"
   ]
  },
  {
   "cell_type": "markdown",
   "id": "12d4de6d-c5de-4fa9-b2e6-25da79eb0a7b",
   "metadata": {},
   "source": [
    "Para generar una libreria en pyhon:\n",
    "+ Se debe generar un directorio\n",
    "+ Se debe crear un archivo llamado ```__init__.py```\n",
    "+ Se debe crear un archivo .py con las funciones que hacen parte de la libreria.\n",
    "\n",
    "Ejemplo: [arithmetic_lib](http://localhost:8891/lab/tree/Documents/machine-learning-specialization/sessions/arithmetic_lib)"
   ]
  },
  {
   "cell_type": "code",
   "execution_count": 35,
   "id": "2b699129-b575-4262-9d1e-5cfeec528d26",
   "metadata": {},
   "outputs": [
    {
     "name": "stdout",
     "output_type": "stream",
     "text": [
      "Suma: 3\n"
     ]
    }
   ],
   "source": [
    "from arithmetic_lib import arithmetics_functions\n",
    "result = arithmetics_functions.suma(1,2)\n",
    "print(f'Suma: {result}')"
   ]
  },
  {
   "cell_type": "code",
   "execution_count": 37,
   "id": "a5c7da4d-53e2-4c4e-86d9-59ff78969be5",
   "metadata": {},
   "outputs": [
    {
     "name": "stdout",
     "output_type": "stream",
     "text": [
      "Resta: -1\n"
     ]
    }
   ],
   "source": [
    "from arithmetic_lib import arithmetics_functions\n",
    "result =  arithmetics_functions.resta(1,2)\n",
    "print(f'Resta: {result}')"
   ]
  },
  {
   "cell_type": "code",
   "execution_count": 39,
   "id": "a6c88495-3e7c-4740-9920-88d7782e1c9d",
   "metadata": {},
   "outputs": [
    {
     "name": "stdout",
     "output_type": "stream",
     "text": [
      "Multiplicación: 2\n"
     ]
    }
   ],
   "source": [
    "from arithmetic_lib import arithmetics_functions\n",
    "result =  arithmetics_functions.multiplicacion(1,2)\n",
    "print(f'Multiplicación: {result}')"
   ]
  },
  {
   "cell_type": "code",
   "execution_count": 41,
   "id": "c3cf5b4e-ed8f-4b55-a740-58b7246960f7",
   "metadata": {},
   "outputs": [
    {
     "name": "stdout",
     "output_type": "stream",
     "text": [
      "División: 2.0\n"
     ]
    }
   ],
   "source": [
    "from arithmetic_lib import arithmetics_functions\n",
    "result =  arithmetics_functions.division(4,2)\n",
    "print(f'División: {result}')"
   ]
  }
 ],
 "metadata": {
  "kernelspec": {
   "display_name": "Python 3 (ipykernel)",
   "language": "python",
   "name": "python3"
  },
  "language_info": {
   "codemirror_mode": {
    "name": "ipython",
    "version": 3
   },
   "file_extension": ".py",
   "mimetype": "text/x-python",
   "name": "python",
   "nbconvert_exporter": "python",
   "pygments_lexer": "ipython3",
   "version": "3.12.4"
  }
 },
 "nbformat": 4,
 "nbformat_minor": 5
}
