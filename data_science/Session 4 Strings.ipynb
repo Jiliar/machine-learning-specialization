{
 "cells": [
  {
   "cell_type": "markdown",
   "id": "918fe89e-e338-4d21-89e7-6b15b2e8a6e2",
   "metadata": {},
   "source": [
    "## Sessión 4"
   ]
  },
  {
   "cell_type": "markdown",
   "id": "f9ad3fb7-0e40-4123-a655-14656cfd4329",
   "metadata": {},
   "source": [
    "Los Strings o cadenas de caracteres son definidos como objetos iterables en Python."
   ]
  },
  {
   "cell_type": "code",
   "execution_count": 12,
   "id": "4cca9f79-2a5f-4dc4-8796-e4a900e39995",
   "metadata": {},
   "outputs": [
    {
     "name": "stdout",
     "output_type": "stream",
     "text": [
      "<class 'str'>\n",
      "<class 'str'>\n",
      "¡Hola Mundo!\n",
      "¡Hello World!\n"
     ]
    }
   ],
   "source": [
    "a = '¡Hola Mundo!'\n",
    "b = \"¡Hello World!\"\n",
    "print(type(a))\n",
    "print(type(b))\n",
    "print(a)\n",
    "print(b)"
   ]
  },
  {
   "cell_type": "markdown",
   "id": "df24204b-644d-49b6-9c1e-0a4bf2a03d1b",
   "metadata": {},
   "source": [
    "Es posible acceder a los elementos de un String mediante el índice la posición del caracter requerido."
   ]
  },
  {
   "cell_type": "code",
   "execution_count": 23,
   "id": "628922b7-c4ce-4bdc-8904-f91bdd157b1e",
   "metadata": {},
   "outputs": [
    {
     "name": "stdout",
     "output_type": "stream",
     "text": [
      "Segunda posición de la variable a: H\n",
      "Primera y ultima posición de la variable a: ¡ !\n",
      "Segmento de la cadena alojada en la variable a: Hola Mundo\n"
     ]
    }
   ],
   "source": [
    "#Accediendo a un caracter de la cadena\n",
    "print(f'Segunda posición de la variable a: {a[1]}')\n",
    "print(f'Primera y ultima posición de la variable a: {a[0]}', a[-1])\n",
    "print(f'Segmento de la cadena alojada en la variable a: {a[1:-1]}')"
   ]
  },
  {
   "cell_type": "markdown",
   "id": "95af111d-5982-45b8-a639-8282e977cd69",
   "metadata": {},
   "source": [
    "Las cadenas pueden ser iteradas:"
   ]
  },
  {
   "cell_type": "code",
   "execution_count": 34,
   "id": "a334448b-ae14-46e9-ae6e-da00d9794f9f",
   "metadata": {},
   "outputs": [
    {
     "name": "stdout",
     "output_type": "stream",
     "text": [
      "¡-H-e-l-l-o- -W-o-r-l-d-!-"
     ]
    }
   ],
   "source": [
    "for char in b:\n",
    "    print(char, end='-')"
   ]
  },
  {
   "cell_type": "markdown",
   "id": "0e94f707-4115-4b5d-9fcd-31b2f46f6041",
   "metadata": {},
   "source": [
    "### Concatenación de cadenas"
   ]
  },
  {
   "cell_type": "code",
   "execution_count": 38,
   "id": "1712e253-e135-48ea-96ae-734669efc0d9",
   "metadata": {},
   "outputs": [
    {
     "name": "stdout",
     "output_type": "stream",
     "text": [
      "¡Hola Mundo! ¡Hello World!\n"
     ]
    }
   ],
   "source": [
    "nueva_cadena = a+' '+b\n",
    "print(nueva_cadena)"
   ]
  },
  {
   "cell_type": "markdown",
   "id": "bf20aeaf-01e5-4881-94df-257573143501",
   "metadata": {},
   "source": [
    "### Manipulación de cadenas"
   ]
  },
  {
   "cell_type": "markdown",
   "id": "36be456e-e13b-4327-8900-fcdbe7a54799",
   "metadata": {},
   "source": [
    "| Función                  | Descripción                                                                 | Ejemplo                                        |\n",
    "|--------------------------|-----------------------------------------------------------------------------|------------------------------------------------|\n",
    "| ```len(s)```             | Retorna la longitud de la cadena ```s```.                                   | ```len(\"Hola\")``` -> ```4```                   |\n",
    "| ```s.lower()```          | Convierte todos los caracteres de la cadena ```s``` a minúsculas.           | ```\"Hola\".lower()``` -> ```\"hola\"```           |\n",
    "| ```s.upper()```          | Convierte todos los caracteres de la cadena ```s``` a mayúsculas.           | ```\"Hola\".upper()``` -> ```\"HOLA\"```           |\n",
    "| ```s.capitalize()```     | Capitaliza la primera letra de la cadena ```s```.                           | ```\"hola\".capitalize()``` -> ```\"Hola\"```      |\n",
    "| ```s.title()```          | Capitaliza la primera letra de cada palabra en la cadena ```s```.           | ```\"hola mundo\".title()``` -> ```\"Hola Mundo\"```|\n",
    "| ```s.strip()```          | Elimina los espacios en blanco al principio y al final de la cadena ```s```. | ```\"  Hola  \".strip()``` -> ```\"Hola\"```        |\n",
    "| ```s.replace(a, b)```    | Reemplaza todas las ocurrencias de ```a``` en la cadena ```s``` con ```b```. | ```\"Hola Mundo\".replace(\"Hola\", \"Adiós\")``` -> ```\"Adiós Mundo\"``` |\n",
    "| ```s.find(sub)```        | Retorna el índice de la primera aparición de ```sub``` en ```s```, o ```-1``` si no se encuentra. | ```\"Hola Mundo\".find(\"Mundo\")``` -> ```5``` |\n",
    "| ```s.split(sep)```       | Divide la cadena ```s``` en una lista usando ```sep``` como delimitador.     | ```\"a,b,c\".split(\",\")``` -> ```['a', 'b', 'c']```|\n",
    "| ```s.join(iterable)```   | Une los elementos de ```iterable``` en una sola cadena, separándolos con ```s```. | ```\",\".join(['a', 'b', 'c'])``` -> ```\"a,b,c\"```|\n",
    "| ```s.startswith(prefix)```| Retorna ```True``` si ```s``` comienza con el prefijo ```prefix```.          | ```\"Hola\".startswith(\"Ho\")``` -> ```True```     |\n",
    "| ```s.endswith(suffix)``` | Retorna ```True``` si ```s``` termina con el sufijo ```suffix```.            | ```\"Hola\".endswith(\"la\")``` -> ```True```       |\n",
    "| ```s.isdigit()```        | Retorna ```True``` si todos los caracteres de ```s``` son dígitos.          | ```\"1234\".isdigit()``` -> ```True```            |\n",
    "| ```s.isalpha()```        | Retorna ```True``` si todos los caracteres de ```s``` son letras.           | ```\"Hola\".isalpha()``` -> ```True```            |\n",
    "| ```s.isalnum()```        | Retorna ```True``` si todos los caracteres de ```s``` son alfanuméricos.    | ```\"Hola123\".isalnum()``` -> ```True```         |\n",
    "| ```s.islower()```        | Retorna ```True``` si todos los caracteres de ```s``` están en minúsculas.  | ```\"hola\".islower()``` -> ```True```            |\n",
    "| ```s.isupper()```        | Retorna ```True``` si todos los caracteres de ```s``` están en mayúsculas.  | ```\"HOLA\".isupper()``` -> ```True```            |\n",
    "| ```s.count(sub)```       | Retorna el número de veces que ```sub``` aparece en la cadena ```s```.      | ```\"Hola Hola\".count(\"Hola\")``` -> ```2```      |\n",
    "| ```s.zfill(width)```     | Rellena la cadena ```s``` con ceros a la izquierda hasta alcanzar el ancho ```width```. | ```\"42\".zfill(5)``` -> ```\"00042\"``` |\n",
    "| ```s.center(width)```    | Centra la cadena ```s``` en un campo de ancho ```width```, rellenando con espacios. | ```\"Hola\".center(10)``` -> ```\"   Hola   \"``` |\n",
    "| ```s.ljust(width)```     | Justifica la cadena ```s``` a la izquierda en un campo de ancho ```width```, rellenando con espacios. | ```\"Hola\".ljust(10)``` -> ```\"Hola      \"``` |\n",
    "| ```s.rjust(width)```     | Justifica la cadena ```s``` a la derecha en un campo de ancho ```width```, rellenando con espacios. | ```\"Hola\".rjust(10)``` -> ```\"      Hola\"``` |\n"
   ]
  },
  {
   "cell_type": "markdown",
   "id": "c1b4600d-19af-4dd6-a09c-ca66d1db77d1",
   "metadata": {},
   "source": [
    "#### Expresiones Regulares"
   ]
  },
  {
   "cell_type": "code",
   "execution_count": 61,
   "id": "56b104d0-a8ff-448c-ad0e-afdb81a9f671",
   "metadata": {},
   "outputs": [
    {
     "name": "stdout",
     "output_type": "stream",
     "text": [
      "['17', '3124']\n"
     ]
    }
   ],
   "source": [
    "#Obtener segmentos de cadena con 2 a 4 caracters tipo numericos.\n",
    "import re\n",
    "string = 'La vaca lola vive en la vereda 17 y su número es 3124'\n",
    "match = re.findall(r'\\d{2,4}', string)\n",
    "print(match)"
   ]
  },
  {
   "cell_type": "code",
   "execution_count": 63,
   "id": "11b9ea1e-0042-4548-bf6c-14a996d86bf6",
   "metadata": {},
   "outputs": [
    {
     "name": "stdout",
     "output_type": "stream",
     "text": [
      "['vaca ', 'vive ', 'vered']\n"
     ]
    }
   ],
   "source": [
    "#Obtener segmentos de cadena de 4 caracteres que comienzan con V o v\n",
    "match = re.findall(r'[Vv].{4}', string)\n",
    "print(match)"
   ]
  },
  {
   "cell_type": "code",
   "execution_count": null,
   "id": "8faca339-c4cc-4afc-bfbc-c1e266ed5dc7",
   "metadata": {},
   "outputs": [],
   "source": []
  }
 ],
 "metadata": {
  "kernelspec": {
   "display_name": "Python 3 (ipykernel)",
   "language": "python",
   "name": "python3"
  },
  "language_info": {
   "codemirror_mode": {
    "name": "ipython",
    "version": 3
   },
   "file_extension": ".py",
   "mimetype": "text/x-python",
   "name": "python",
   "nbconvert_exporter": "python",
   "pygments_lexer": "ipython3",
   "version": "3.12.4"
  }
 },
 "nbformat": 4,
 "nbformat_minor": 5
}
