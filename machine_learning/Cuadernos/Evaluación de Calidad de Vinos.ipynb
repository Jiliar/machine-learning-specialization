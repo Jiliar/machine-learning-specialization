{
 "cells": [
  {
   "cell_type": "markdown",
   "id": "1bef9006-423d-4a26-a062-3435efa037c3",
   "metadata": {},
   "source": [
    "<img src = \"https://universidadean.edu.co/sites/default/files/noticias/galeria/Logo-Universidad-Ean-fondo-negro-Galeria_1.jpg\" alt = \"Encabezado MLDS\" width = \"30%\">  </img>"
   ]
  },
  {
   "cell_type": "markdown",
   "id": "ffc1f9fc-eef4-4141-9d1b-20f93f3f7dcd",
   "metadata": {},
   "source": [
    "### **⚛️ A. Titulo: Proyecto 2 – Modelos de clasificación supervisada para evaluar la calidad de vinos**"
   ]
  },
  {
   "cell_type": "markdown",
   "id": "a82ced56-3e8f-4397-b5bd-6fd9b40e8d1c",
   "metadata": {},
   "source": [
    "### **⚛️ B. Integrantes**\n",
    "Jiliar Antonio Silgado Cardona"
   ]
  },
  {
   "cell_type": "markdown",
   "id": "7388f304-444c-4c66-9905-9a921b5372d5",
   "metadata": {},
   "source": [
    "#### **⭕️ Introducción** "
   ]
  },
  {
   "cell_type": "markdown",
   "id": "3e00a88c-e3c5-4ec0-86b8-05ab40fd58a2",
   "metadata": {},
   "source": [
    "En la industria vinícola, evaluar la calidad de un vino de manera precisa y consistente es crucial tanto para los productores como para los consumidores. Con una gran cantidad de características químicas y sensoriales, el análisis individual de cada vino resulta complejo y poco práctico. Gracias al uso de modelos de machine learning y al análisis de datos, es posible identificar patrones en las características químicas de los vinos que afectan su calidad. Este enfoque permite desarrollar modelos de clasificación supervisada que predicen la calidad de un vino a partir de sus propiedades, optimizando el proceso de evaluación y apoyando decisiones basadas en datos. Variables como la acidez fija, el contenido de azúcar residual, la densidad y el nivel de alcohol, entre otras, se utilizan para crear modelos que puedan clasificar de forma confiable la calidad del producto, mejorando así la eficiencia y precisión en la industria."
   ]
  },
  {
   "cell_type": "markdown",
   "id": "35d17784-324f-42bf-9e7f-f7255862d490",
   "metadata": {},
   "source": [
    "#### **⭕️ Núcleo Problémico**"
   ]
  },
  {
   "cell_type": "markdown",
   "id": "5e6be9b6-4dd2-46b8-b685-b9a4b9955109",
   "metadata": {},
   "source": [
    "Dado el crecimiento en la producción y demanda de vinos de alta calidad, las bodegas enfrentan el reto de clasificar sus productos de manera eficiente y precisa entre las categorías de vino \"blanco\" y \"tinto\". Sin una herramienta confiable para evaluar la calidad del vino a partir de sus propiedades químicas, la clasificación y diferenciación de productos puede volverse inconsistente y subjetiva, afectando la percepción del consumidor y la competitividad en el mercado. En particular, se necesita analizar si existe una relación significativa entre características como la acidez, el contenido de azúcar residual, el nivel de alcohol y otros componentes químicos, y la variable objetivo de clasificación del vino (\"class\"), que distingue entre vinos \"blancos\" y \"tintos\". La ausencia de un modelo predictivo basado en datos dificulta la toma de decisiones informadas sobre el proceso de producción y calidad, limitando la capacidad de la bodega para optimizar sus productos y mejorar su posicionamiento en el mercado. Sin claridad en estas relaciones, la clasificación de los vinos podría depender de criterios poco objetivos, lo cual afectaría la reputación de la marca y la satisfacción del cliente."
   ]
  },
  {
   "cell_type": "markdown",
   "id": "ed8c99f8-4db7-4872-910e-f5e483e44630",
   "metadata": {},
   "source": [
    "#### **⭕️ Pregunta Problemica** "
   ]
  },
  {
   "cell_type": "markdown",
   "id": "b7ef5046-f233-40c4-a666-926201c8af62",
   "metadata": {},
   "source": [
    "¿Puede un modelo predictivo basado en estas variables mejorar la clasificación de los vinos, proporcionando una evaluación más objetiva y confiable que beneficie la satisfacción del cliente y el posicionamiento en el mercado?"
   ]
  },
  {
   "cell_type": "markdown",
   "id": "934fa6d3-4c57-4c9b-9e64-9f1773ecee89",
   "metadata": {},
   "source": [
    "### **🔍 1. Exploración de los datos**\n",
    "#### **⭕️ Introducción a la Fase de Exploración de Datos**\n",
    "\n",
    "En esta fase inicial del análisis de datos, se realiza una exploración preliminar del conjunto de datos para comprender su estructura y características básicas. Esta etapa es crucial para identificar los aspectos fundamentales del dataset y preparar el terreno para un análisis más profundo.\n",
    "\n",
    "Durante la exploración, se utilizan diversas instrucciones para obtener una visión general del conjunto de datos:\n",
    "\n",
    "- **`df.info()`**: Proporciona un resumen conciso de la información del DataFrame, incluyendo el número de entradas no nulas y los tipos de datos de cada columna.\n",
    "- **`print(df.shape)`**: Muestra las dimensiones del DataFrame, es decir, el número de filas y columnas.\n",
    "- **`print(df.head())`**: Muestra las primeras filas del DataFrame, facilitando una vista rápida de los datos.\n",
    "- **`print(df.tail())`**: Muestra las últimas filas del DataFrame, útil para verificar el final del dataset.\n",
    "- **`print(total_size)`**: Indica el tamaño total del DataFrame en términos de número de filas.\n",
    "- **`print(df.shape)`**: Indica la dimensión del Dataframe (filas, columnas).\n",
    "- **`print(df.memory_usage(deep=True))`**: Proporciona el uso de memoria por columna, permitiendo identificar el consumo de recursos.\n",
    "- **`print(df.columns)`**: Lista los nombres de todas las columnas e\n",
    "- **`df.describe()`**: Ver generalidades estadisticas del grupo de datos.n el DataFrame.\n",
    "\n",
    "Estas instrucciones ofrecen una visión general del conjunto de datos, ayudando a detectar posibles problemas como datos faltantes, tipos de datos incorrectos o inconsistencias. Esta exploración es un primer paso esencial para un análiquipos tecnológicos."
   ]
  },
  {
   "cell_type": "markdown",
   "id": "ac1316f5-5b29-47b7-acdc-63bf410d9f9b",
   "metadata": {},
   "source": [
    "### **⭕️ Entendimiento de los datos**\n",
    "\n",
    "Las bases de datos a utilizar se denominan **`winequality-red.csv`** y **`winequality-white.csv`**. estas contienen información sobre la calidad de vinos tintos y blancos, respectivamente. Ambas bases incluyen diversas características químicas, como acidez fija, acidez volátil, azúcar residual, dióxido de azufre, densidad, pH, sulfatos y contenido de alcohol, además de una variable de calidad que evalúa la percepción del vino en una escala del 0 al 10. Estas bases son fundamentales para analizar y modelar la relación entre las propiedades químicas de los vinos y su calidad."
   ]
  },
  {
   "cell_type": "markdown",
   "id": "6bd083d2-255e-4fb8-83a3-80205a0fba5f",
   "metadata": {},
   "source": [
    "| Variable                     | Definición                                  | Descripción                                           | Valores                                   | Tipo de Variable         |\r\n",
    "|------------------------------|--------------------------------------------|------------------------------------------------------|-------------------------------------------|--------------------------|\r\n",
    "| fixed acidity                | Acidez fija                                | Medida de la acidez que no se evapora               | g/dm³                                    | Continua                  |\r\n",
    "| volatile acidity             | Acidez volátil                             | Acidez que puede influir en el sabor                 | g/dm³                                    | Continua                  |\r\n",
    "| citric acid                  | Ácido cítrico                              | Contribuye a la frescura del vino                    | g/dm³                                    | Continua                  |\r\n",
    "| residual sugar               | Azúcar residual                            | Cantidad de azúcar que queda tras la fermentación    | g/dm³                                    | Continua                  |\r\n",
    "| chlorides                    | Cloruros                                   | Compuestos que pueden afectar el sabor               | g/dm³                                    | Continua                  |\r\n",
    "| free sulfur dioxide          | Dióxido de azufre libre                   | Conservante que ayuda a mantener la calidad          | mg/dm³                                   | Continua                  |\r\n",
    "| total sulfur dioxide         | Dióxido de azufre total                   | Total de dióxido de azufre presente                  | mg/dm³                                   | Continua                  |\r\n",
    "| density                      | Densidad                                   | Relación entre masa y volumen                         | g/cm³                                    | Continua                  |\r\n",
    "| pH                           | Acidez                                     | Medida de la acidez del vino                          | Valor numérico (0-14)                    | Continua                  |\r\n",
    "| sulphates                    | Sulfatos                                   | Compuestos que pueden influir en el sabor            | g/dm³                                    | Continua                  |\r\n",
    "| alcohol                      | Contenido de alcohol                       | Porcentaje de alcohol en el vino                      | % vol.                                   | Continua                  |\r\n",
    "| quality                      | Calidad del vino                           | Puntuación de calidad asignada por catadores         | Escala del 0 al 10                        | Discreta                 |\r\n",
    "| class                        | Clasificación del vino                     | Tipo de vino, puede ser blanco o tinto               | Blanco, Tinto                            | Cualitativa (nominal)    |\r\n"
   ]
  },
  {
   "cell_type": "code",
   "execution_count": 10,
   "id": "946032c1-961f-468d-a1ee-44b37f390281",
   "metadata": {},
   "outputs": [
    {
     "name": "stdout",
     "output_type": "stream",
     "text": [
      "Forma de Dataframe Vino Rojo(1599, 13)\n",
      "Forma de Dataframe Vino Rojo(4898, 13)\n"
     ]
    }
   ],
   "source": [
    "# Cargar librerías necesarias para análisis y visualización de datos\n",
    "import seaborn as sns  # Para visualización de datos\n",
    "import pandas as pd     # Para manipulación de datos en estructuras tipo DataFrame\n",
    "import numpy as np      # Para operaciones numéricas y manejo de arreglos\n",
    "import matplotlib.pyplot as plt  # Para crear gráficos en 2D\n",
    "\n",
    "# Lectura de origen de datos:\n",
    "# Cargar el archivo CSV para vino tinto y especificar el delimitador\n",
    "df_red = pd.read_csv('../Datos/winequality-red.csv', delimiter=';')\n",
    "\n",
    "# Agregar una nueva columna 'class' al DataFrame df_red y asignarle el valor 'red'\n",
    "df_red['class'] = 'red'\n",
    "\n",
    "# Cargar el archivo CSV para vino blanco y especificar el delimitador\n",
    "df_white = pd.read_csv('../Datos/winequality-white.csv', delimiter=';')\n",
    "\n",
    "# Agregar una nueva columna 'class' al DataFrame df_white y asignarle el valor 'white'\n",
    "df_white['class'] = 'white'\n",
    "\n",
    "# Unir ambos DataFrames (df_red y df_white) verticalmente en un nuevo DataFrame df\n",
    "# La opción ignore_index=True reinicia los índices en el DataFrame combinado\n",
    "df = pd.concat([df_red, df_white], ignore_index=True)\n",
    "\n",
    "print(f'Forma de Dataframe Vino Rojo{df_red.shape}')\n",
    "print(f'Forma de Dataframe Vino Rojo{df_white.shape}')"
   ]
  },
  {
   "cell_type": "code",
   "execution_count": 8,
   "id": "824e73b1-d70d-4c4c-9f24-41a096c70b2b",
   "metadata": {},
   "outputs": [
    {
     "name": "stdout",
     "output_type": "stream",
     "text": [
      "Información general del DataFrame:\n",
      "\n",
      "<class 'pandas.core.frame.DataFrame'>\n",
      "RangeIndex: 6497 entries, 0 to 6496\n",
      "Data columns (total 13 columns):\n",
      " #   Column                Non-Null Count  Dtype  \n",
      "---  ------                --------------  -----  \n",
      " 0   fixed acidity         6497 non-null   float64\n",
      " 1   volatile acidity      6497 non-null   float64\n",
      " 2   citric acid           6497 non-null   float64\n",
      " 3   residual sugar        6497 non-null   float64\n",
      " 4   chlorides             6497 non-null   float64\n",
      " 5   free sulfur dioxide   6497 non-null   float64\n",
      " 6   total sulfur dioxide  6497 non-null   float64\n",
      " 7   density               6497 non-null   float64\n",
      " 8   pH                    6497 non-null   float64\n",
      " 9   sulphates             6497 non-null   float64\n",
      " 10  alcohol               6497 non-null   float64\n",
      " 11  quality               6497 non-null   int64  \n",
      " 12  class                 6497 non-null   object \n",
      "dtypes: float64(11), int64(1), object(1)\n",
      "memory usage: 660.0+ KB\n"
     ]
    }
   ],
   "source": [
    "print(\"Información general del DataFrame:\\n\")\n",
    "df.info()"
   ]
  },
  {
   "cell_type": "markdown",
   "id": "9b5f8d57-56df-4d10-be3f-b899ce2f0edc",
   "metadata": {},
   "source": [
    "### **⭕️ Diccionario de datos**\n",
    "\n",
    "Este diccionario de datos proporciona una descripción detallada de las columnas del dataframe obtenido de los archivos **`winequality-red.csv`** y **`winequality-white.csv`**. Cada columna está detallada con su tipo de dato (`Dtype`), una breve descripción del tipo de dato (`Descripción Dtype`), el tamaño en bytes ocupado por el tipo de dato (`Tamaño en Bytes`), y una descripción de los datos representados en esa columna.\n",
    "\n",
    "El propósito de este diccionario es facilitar la comprensión de la estructura del conjunto de datos y ayudar en el análisis y la manipulación de la información.\n",
    "\n",
    "**Descripción de las Columnas**"
   ]
  },
  {
   "cell_type": "markdown",
   "id": "0c72feba-efe1-4b0c-80ee-00e57539b872",
   "metadata": {},
   "source": [
    "| Column                   | Dtype    | Description Dtype | Tamaño en Bytes | Tamaño en MB | Descripción                                              |\r\n",
    "|--------------------------|----------|-------------------|------------------|--------------|---------------------------------------------------------|\r\n",
    "| fixed acidity            | float64  | Decimal number     | 51976            | 0.0496       | Medida de acidez que no se evapora                      |\r\n",
    "| volatile acidity         | float64  | Decimal number     | 51976            | 0.0496       | Acidez que puede influir en el sabor                    |\r\n",
    "| citric acid              | float64  | Decimal number     | 51976            | 0.0496       | Contribuye a la frescura del vino                       |\r\n",
    "| residual sugar           | float64  | Decimal number     | 51976            | 0.0496       | Cantidad de azúcar que queda tras la fermentación       |\r\n",
    "| chlorides                | float64  | Decimal number     | 51976            | 0.0496       | Compuestos que pueden afectar el sabor                   |\r\n",
    "| free sulfur dioxide      | float64  | Decimal number     | 51976            | 0.0496       | Conservante que ayuda a mantener la calidad             |\r\n",
    "| total sulfur dioxide     | float64  | Decimal number     | 51976            | 0.0496       | Total de dióxido de azufre presente                     |\r\n",
    "| density                  | float64  | Decimal number     | 51976            | 0.0496       | Relación entre masa y volumen                            |\r\n",
    "| pH                       | float64  | Decimal number     | 51976            | 0.0496       | Medida de la acidez del vino                             |\r\n",
    "| sulphates                | float64  | Decimal number     | 51976            | 0.0496       | Compuestos que pueden influir en el sabor               |\r\n",
    "| alcohol                  | float64  | Decimal number     | 51976            | 0.0496       | Porcentaje de alcohol en el vino                         |\r\n",
    "| quality                  | int64    | Integer number      | 51976            | 0.0496       | Puntuación de calidad asignada por catadores            |\r\n",
    "| class                    | object   | Categorical         | 347640           | 0.3311       | Clasificación del vino (blanco o tinto)                |\r\n",
    "            |\r\n"
   ]
  },
  {
   "cell_type": "markdown",
   "id": "210d4659-3744-4046-bf7a-43ff017dcbff",
   "metadata": {},
   "source": [
    "### **⭕️ Dimensiones del Dataframe (Filas x Columnas)**"
   ]
  },
  {
   "cell_type": "code",
   "execution_count": 11,
   "id": "f9b4072c-0b97-4706-88ec-8a437d3dacf8",
   "metadata": {},
   "outputs": [
    {
     "name": "stdout",
     "output_type": "stream",
     "text": [
      "Forma de Dataframe Consolidado de Vinos: (6497, 13)\n"
     ]
    }
   ],
   "source": [
    "#Forma del dataframe\n",
    "print(f'Forma de Dataframe Consolidado de Vinos: {df.shape}')"
   ]
  },
  {
   "cell_type": "markdown",
   "id": "510df990-9ebf-416a-aeff-3e9fbe92c04b",
   "metadata": {},
   "source": [
    "#### **⭕️ Primeras filas del DataFrame**"
   ]
  },
  {
   "cell_type": "code",
   "execution_count": 12,
   "id": "9dae48d3-2e47-4c72-bff6-a89825e0fe5c",
   "metadata": {},
   "outputs": [
    {
     "data": {
      "text/html": [
       "<div>\n",
       "<style scoped>\n",
       "    .dataframe tbody tr th:only-of-type {\n",
       "        vertical-align: middle;\n",
       "    }\n",
       "\n",
       "    .dataframe tbody tr th {\n",
       "        vertical-align: top;\n",
       "    }\n",
       "\n",
       "    .dataframe thead th {\n",
       "        text-align: right;\n",
       "    }\n",
       "</style>\n",
       "<table border=\"1\" class=\"dataframe\">\n",
       "  <thead>\n",
       "    <tr style=\"text-align: right;\">\n",
       "      <th></th>\n",
       "      <th>fixed acidity</th>\n",
       "      <th>volatile acidity</th>\n",
       "      <th>citric acid</th>\n",
       "      <th>residual sugar</th>\n",
       "      <th>chlorides</th>\n",
       "      <th>free sulfur dioxide</th>\n",
       "      <th>total sulfur dioxide</th>\n",
       "      <th>density</th>\n",
       "      <th>pH</th>\n",
       "      <th>sulphates</th>\n",
       "      <th>alcohol</th>\n",
       "      <th>quality</th>\n",
       "      <th>class</th>\n",
       "    </tr>\n",
       "  </thead>\n",
       "  <tbody>\n",
       "    <tr>\n",
       "      <th>0</th>\n",
       "      <td>7.4</td>\n",
       "      <td>0.70</td>\n",
       "      <td>0.00</td>\n",
       "      <td>1.9</td>\n",
       "      <td>0.076</td>\n",
       "      <td>11.0</td>\n",
       "      <td>34.0</td>\n",
       "      <td>0.9978</td>\n",
       "      <td>3.51</td>\n",
       "      <td>0.56</td>\n",
       "      <td>9.4</td>\n",
       "      <td>5</td>\n",
       "      <td>red</td>\n",
       "    </tr>\n",
       "    <tr>\n",
       "      <th>1</th>\n",
       "      <td>7.8</td>\n",
       "      <td>0.88</td>\n",
       "      <td>0.00</td>\n",
       "      <td>2.6</td>\n",
       "      <td>0.098</td>\n",
       "      <td>25.0</td>\n",
       "      <td>67.0</td>\n",
       "      <td>0.9968</td>\n",
       "      <td>3.20</td>\n",
       "      <td>0.68</td>\n",
       "      <td>9.8</td>\n",
       "      <td>5</td>\n",
       "      <td>red</td>\n",
       "    </tr>\n",
       "    <tr>\n",
       "      <th>2</th>\n",
       "      <td>7.8</td>\n",
       "      <td>0.76</td>\n",
       "      <td>0.04</td>\n",
       "      <td>2.3</td>\n",
       "      <td>0.092</td>\n",
       "      <td>15.0</td>\n",
       "      <td>54.0</td>\n",
       "      <td>0.9970</td>\n",
       "      <td>3.26</td>\n",
       "      <td>0.65</td>\n",
       "      <td>9.8</td>\n",
       "      <td>5</td>\n",
       "      <td>red</td>\n",
       "    </tr>\n",
       "    <tr>\n",
       "      <th>3</th>\n",
       "      <td>11.2</td>\n",
       "      <td>0.28</td>\n",
       "      <td>0.56</td>\n",
       "      <td>1.9</td>\n",
       "      <td>0.075</td>\n",
       "      <td>17.0</td>\n",
       "      <td>60.0</td>\n",
       "      <td>0.9980</td>\n",
       "      <td>3.16</td>\n",
       "      <td>0.58</td>\n",
       "      <td>9.8</td>\n",
       "      <td>6</td>\n",
       "      <td>red</td>\n",
       "    </tr>\n",
       "    <tr>\n",
       "      <th>4</th>\n",
       "      <td>7.4</td>\n",
       "      <td>0.70</td>\n",
       "      <td>0.00</td>\n",
       "      <td>1.9</td>\n",
       "      <td>0.076</td>\n",
       "      <td>11.0</td>\n",
       "      <td>34.0</td>\n",
       "      <td>0.9978</td>\n",
       "      <td>3.51</td>\n",
       "      <td>0.56</td>\n",
       "      <td>9.4</td>\n",
       "      <td>5</td>\n",
       "      <td>red</td>\n",
       "    </tr>\n",
       "  </tbody>\n",
       "</table>\n",
       "</div>"
      ],
      "text/plain": [
       "   fixed acidity  volatile acidity  citric acid  residual sugar  chlorides  \\\n",
       "0            7.4              0.70         0.00             1.9      0.076   \n",
       "1            7.8              0.88         0.00             2.6      0.098   \n",
       "2            7.8              0.76         0.04             2.3      0.092   \n",
       "3           11.2              0.28         0.56             1.9      0.075   \n",
       "4            7.4              0.70         0.00             1.9      0.076   \n",
       "\n",
       "   free sulfur dioxide  total sulfur dioxide  density    pH  sulphates  \\\n",
       "0                 11.0                  34.0   0.9978  3.51       0.56   \n",
       "1                 25.0                  67.0   0.9968  3.20       0.68   \n",
       "2                 15.0                  54.0   0.9970  3.26       0.65   \n",
       "3                 17.0                  60.0   0.9980  3.16       0.58   \n",
       "4                 11.0                  34.0   0.9978  3.51       0.56   \n",
       "\n",
       "   alcohol  quality class  \n",
       "0      9.4        5   red  \n",
       "1      9.8        5   red  \n",
       "2      9.8        5   red  \n",
       "3      9.8        6   red  \n",
       "4      9.4        5   red  "
      ]
     },
     "execution_count": 12,
     "metadata": {},
     "output_type": "execute_result"
    }
   ],
   "source": [
    "df.head()"
   ]
  },
  {
   "cell_type": "markdown",
   "id": "a8d115ac-d4c8-47a6-bf05-c4944813ae46",
   "metadata": {},
   "source": [
    "#### **⭕️ Últimas filas del DataFrame**"
   ]
  },
  {
   "cell_type": "code",
   "execution_count": 14,
   "id": "4ba1fee1-1a46-4b52-99b5-68ad3add4ba3",
   "metadata": {},
   "outputs": [
    {
     "data": {
      "text/html": [
       "<div>\n",
       "<style scoped>\n",
       "    .dataframe tbody tr th:only-of-type {\n",
       "        vertical-align: middle;\n",
       "    }\n",
       "\n",
       "    .dataframe tbody tr th {\n",
       "        vertical-align: top;\n",
       "    }\n",
       "\n",
       "    .dataframe thead th {\n",
       "        text-align: right;\n",
       "    }\n",
       "</style>\n",
       "<table border=\"1\" class=\"dataframe\">\n",
       "  <thead>\n",
       "    <tr style=\"text-align: right;\">\n",
       "      <th></th>\n",
       "      <th>fixed acidity</th>\n",
       "      <th>volatile acidity</th>\n",
       "      <th>citric acid</th>\n",
       "      <th>residual sugar</th>\n",
       "      <th>chlorides</th>\n",
       "      <th>free sulfur dioxide</th>\n",
       "      <th>total sulfur dioxide</th>\n",
       "      <th>density</th>\n",
       "      <th>pH</th>\n",
       "      <th>sulphates</th>\n",
       "      <th>alcohol</th>\n",
       "      <th>quality</th>\n",
       "      <th>class</th>\n",
       "    </tr>\n",
       "  </thead>\n",
       "  <tbody>\n",
       "    <tr>\n",
       "      <th>6492</th>\n",
       "      <td>6.2</td>\n",
       "      <td>0.21</td>\n",
       "      <td>0.29</td>\n",
       "      <td>1.6</td>\n",
       "      <td>0.039</td>\n",
       "      <td>24.0</td>\n",
       "      <td>92.0</td>\n",
       "      <td>0.99114</td>\n",
       "      <td>3.27</td>\n",
       "      <td>0.50</td>\n",
       "      <td>11.2</td>\n",
       "      <td>6</td>\n",
       "      <td>white</td>\n",
       "    </tr>\n",
       "    <tr>\n",
       "      <th>6493</th>\n",
       "      <td>6.6</td>\n",
       "      <td>0.32</td>\n",
       "      <td>0.36</td>\n",
       "      <td>8.0</td>\n",
       "      <td>0.047</td>\n",
       "      <td>57.0</td>\n",
       "      <td>168.0</td>\n",
       "      <td>0.99490</td>\n",
       "      <td>3.15</td>\n",
       "      <td>0.46</td>\n",
       "      <td>9.6</td>\n",
       "      <td>5</td>\n",
       "      <td>white</td>\n",
       "    </tr>\n",
       "    <tr>\n",
       "      <th>6494</th>\n",
       "      <td>6.5</td>\n",
       "      <td>0.24</td>\n",
       "      <td>0.19</td>\n",
       "      <td>1.2</td>\n",
       "      <td>0.041</td>\n",
       "      <td>30.0</td>\n",
       "      <td>111.0</td>\n",
       "      <td>0.99254</td>\n",
       "      <td>2.99</td>\n",
       "      <td>0.46</td>\n",
       "      <td>9.4</td>\n",
       "      <td>6</td>\n",
       "      <td>white</td>\n",
       "    </tr>\n",
       "    <tr>\n",
       "      <th>6495</th>\n",
       "      <td>5.5</td>\n",
       "      <td>0.29</td>\n",
       "      <td>0.30</td>\n",
       "      <td>1.1</td>\n",
       "      <td>0.022</td>\n",
       "      <td>20.0</td>\n",
       "      <td>110.0</td>\n",
       "      <td>0.98869</td>\n",
       "      <td>3.34</td>\n",
       "      <td>0.38</td>\n",
       "      <td>12.8</td>\n",
       "      <td>7</td>\n",
       "      <td>white</td>\n",
       "    </tr>\n",
       "    <tr>\n",
       "      <th>6496</th>\n",
       "      <td>6.0</td>\n",
       "      <td>0.21</td>\n",
       "      <td>0.38</td>\n",
       "      <td>0.8</td>\n",
       "      <td>0.020</td>\n",
       "      <td>22.0</td>\n",
       "      <td>98.0</td>\n",
       "      <td>0.98941</td>\n",
       "      <td>3.26</td>\n",
       "      <td>0.32</td>\n",
       "      <td>11.8</td>\n",
       "      <td>6</td>\n",
       "      <td>white</td>\n",
       "    </tr>\n",
       "  </tbody>\n",
       "</table>\n",
       "</div>"
      ],
      "text/plain": [
       "      fixed acidity  volatile acidity  citric acid  residual sugar  chlorides  \\\n",
       "6492            6.2              0.21         0.29             1.6      0.039   \n",
       "6493            6.6              0.32         0.36             8.0      0.047   \n",
       "6494            6.5              0.24         0.19             1.2      0.041   \n",
       "6495            5.5              0.29         0.30             1.1      0.022   \n",
       "6496            6.0              0.21         0.38             0.8      0.020   \n",
       "\n",
       "      free sulfur dioxide  total sulfur dioxide  density    pH  sulphates  \\\n",
       "6492                 24.0                  92.0  0.99114  3.27       0.50   \n",
       "6493                 57.0                 168.0  0.99490  3.15       0.46   \n",
       "6494                 30.0                 111.0  0.99254  2.99       0.46   \n",
       "6495                 20.0                 110.0  0.98869  3.34       0.38   \n",
       "6496                 22.0                  98.0  0.98941  3.26       0.32   \n",
       "\n",
       "      alcohol  quality  class  \n",
       "6492     11.2        6  white  \n",
       "6493      9.6        5  white  \n",
       "6494      9.4        6  white  \n",
       "6495     12.8        7  white  \n",
       "6496     11.8        6  white  "
      ]
     },
     "execution_count": 14,
     "metadata": {},
     "output_type": "execute_result"
    }
   ],
   "source": [
    "# ultimos registros\n",
    "df.tail()"
   ]
  },
  {
   "cell_type": "markdown",
   "id": "f023fbef-9851-40a6-a68d-df184dc82813",
   "metadata": {},
   "source": [
    "#### **⭕️ Tamaño total del DataFrame en términos de número de filas**"
   ]
  },
  {
   "cell_type": "code",
   "execution_count": 15,
   "id": "409f008a-fa5e-45b3-94ec-c093c4acf5ce",
   "metadata": {},
   "outputs": [
    {
     "name": "stdout",
     "output_type": "stream",
     "text": [
      "Tamaño (Número de Filas): 6497\n"
     ]
    }
   ],
   "source": [
    "# total de registros\n",
    "total_size = len(df)\n",
    "print(f'Tamaño (Número de Filas): {total_size}')"
   ]
  },
  {
   "cell_type": "markdown",
   "id": "6391b15c-4ddf-4532-9775-462667b68fc3",
   "metadata": {},
   "source": [
    "#### **⭕️ Uso de memoria por columna**"
   ]
  },
  {
   "cell_type": "code",
   "execution_count": 16,
   "id": "d21dbe78-6e87-40c6-949e-57e05cf81048",
   "metadata": {},
   "outputs": [
    {
     "name": "stdout",
     "output_type": "stream",
     "text": [
      "Memoria utilizada por el DataFrame (bytes):\n",
      "\n",
      "Index                      132\n",
      "fixed acidity            51976\n",
      "volatile acidity         51976\n",
      "citric acid              51976\n",
      "residual sugar           51976\n",
      "chlorides                51976\n",
      "free sulfur dioxide      51976\n",
      "total sulfur dioxide     51976\n",
      "density                  51976\n",
      "pH                       51976\n",
      "sulphates                51976\n",
      "alcohol                  51976\n",
      "quality                  51976\n",
      "class                   347640\n",
      "dtype: int64\n"
     ]
    }
   ],
   "source": [
    "# mostrar el tamaño de la memoria utilizada por el DataFrame\n",
    "print(\"Memoria utilizada por el DataFrame (bytes):\\n\")\n",
    "print(df.memory_usage(deep=True))"
   ]
  },
  {
   "cell_type": "markdown",
   "id": "1f3769ae-390f-416f-96b7-2a427b02c560",
   "metadata": {},
   "source": [
    "#### **⭕️ Columnas (Variables) en Dataframe**"
   ]
  },
  {
   "cell_type": "code",
   "execution_count": 17,
   "id": "45759da8-e295-4f8f-bbf2-08f54b8ddf5a",
   "metadata": {},
   "outputs": [
    {
     "name": "stdout",
     "output_type": "stream",
     "text": [
      "\n",
      "Nombres de las columnas:\n",
      "Index(['fixed acidity', 'volatile acidity', 'citric acid', 'residual sugar',\n",
      "       'chlorides', 'free sulfur dioxide', 'total sulfur dioxide', 'density',\n",
      "       'pH', 'sulphates', 'alcohol', 'quality', 'class'],\n",
      "      dtype='object')\n"
     ]
    }
   ],
   "source": [
    "# nombres de las columnas\n",
    "print(\"\\nNombres de las columnas:\")\n",
    "print(df.columns)"
   ]
  },
  {
   "cell_type": "markdown",
   "id": "7c459731-4335-4fbc-9ae4-b07d703ac39b",
   "metadata": {},
   "source": [
    "#### **⭕️ Número Total de Variables**"
   ]
  },
  {
   "cell_type": "code",
   "execution_count": 18,
   "id": "de56b7cd-ed68-4802-8f1a-bd9b40cd350e",
   "metadata": {},
   "outputs": [
    {
     "name": "stdout",
     "output_type": "stream",
     "text": [
      "Número de variables (columnas): 13\n"
     ]
    }
   ],
   "source": [
    "# Número total de variables que contiene la base de datos.\n",
    "num_columnas = df.shape[1]\n",
    "print(f'Número de variables (columnas): {num_columnas}')"
   ]
  },
  {
   "cell_type": "markdown",
   "id": "61d99b81-0a65-4d4f-a900-8ca0d0b13f1f",
   "metadata": {},
   "source": [
    "#### **⭕️ Variables con datos faltantes, Porcentaje total de valores faltantes en la base de datos.**"
   ]
  },
  {
   "cell_type": "code",
   "execution_count": 35,
   "id": "a3949fd2-64ca-4ba8-bbf1-507e73cdec7e",
   "metadata": {},
   "outputs": [
    {
     "name": "stdout",
     "output_type": "stream",
     "text": [
      "\n",
      "Cant. valores faltantes por columna:\n",
      "{}\n",
      "\n",
      "% valores faltantes por columna:\n",
      "{}\n",
      "\n",
      "Porcentaje total de valores faltantes en la base de datos: 0.00%\n",
      "Porcentaje total de valores en la base de datos: 100.00%\n"
     ]
    }
   ],
   "source": [
    "import json\n",
    "\n",
    "def valores_faltantes_por_columna(df):\n",
    "    # Escribir las variables que tienen datos faltantes, además, proporcionar el porcentaje total de valores faltantes en la base de datos.\n",
    "    # Paso 1: Encontrar columnas con valores faltantes\n",
    "    faltantes_por_columna = df.isnull().sum()\n",
    "    \n",
    "    # Paso 2: Filtrar columnas que tienen valores faltantes\n",
    "    data1 = faltantes_por_columna[faltantes_por_columna > 0]\n",
    "    variables_con_faltantes = data1.to_dict()\n",
    "    \n",
    "    print('\\nCant. valores faltantes por columna:',\n",
    "          json.dumps(variables_con_faltantes, indent=4),\n",
    "          sep=\"\\n\")\n",
    "    \n",
    "    # Paso 3: Calcular el porcentaje de valores faltantes por columna\n",
    "    data = (data1 / len(df)) * 100\n",
    "    data = data.to_dict()\n",
    "    porcentaje_faltantes_por_columna = {key: f'{value:.2f}%' for key, value in data.items()}\n",
    "    \n",
    "    # Paso 4: Calcular el porcentaje total de valores faltantes en el DataFrame\n",
    "    porcentaje_total_faltantes = (df.isnull().sum().sum() / df.size) * 100\n",
    "    porcentaje_total_no_faltantes = (df.notnull().sum().sum() / df.size) * 100\n",
    "    \n",
    "    # Resultados\n",
    "    print('\\n% valores faltantes por columna:', f'{json.dumps(porcentaje_faltantes_por_columna, indent=4)}', sep=\"\\n\")\n",
    "    \n",
    "    print(f\"\\nPorcentaje total de valores faltantes en la base de datos: {porcentaje_total_faltantes:.2f}%\")\n",
    "    print(f\"Porcentaje total de valores en la base de datos: {porcentaje_total_no_faltantes:.2f}%\")\n",
    "\n",
    "valores_faltantes_por_columna(df)"
   ]
  },
  {
   "cell_type": "markdown",
   "id": "1a2ecc7b-f07d-4cfd-96ed-eab612a8ddda",
   "metadata": {},
   "source": [
    "#### **⭕️ Clasificación de la calidad del vino (`quality`)**"
   ]
  },
  {
   "cell_type": "markdown",
   "id": "acda13ef-1335-40a1-9180-6876fde508c7",
   "metadata": {},
   "source": [
    "| Calidad                             | Valor Numérico | Descripción                                                                                                                    |\r\n",
    "|-------------------------------------|----------------|--------------------------------------------------------------------------------------------------------------------------------|\r\n",
    "| Extremadamente baja                 | 1              | Indica una calidad extremadamente baja, reflejando defectos significativos en el sabor, aroma o apariencia.                  |\r\n",
    "| Inferior                            | 2 a 3          | Denotan vinos que tienen múltiples imperfecciones o características indeseables. Pueden ser consumidos, pero no recomendados. |\r\n",
    "| Media                               | 4 a 5          | Representan vinos de calidad media, que pueden presentar algunas características agradables, pero también deficiencias.        |\r\n",
    "| Buena                               | 6 a 7          | Corresponden a vinos de buena calidad, bien equilibrados en sabor y aroma, disfrutables en reuniones sociales.                 |\r\n",
    "| Superior                            | 8 a 9          | Reflejan vinos de calidad superior, con un perfil de sabor complejo y atractivo; altamente recomendados para ocasiones especiales. |\r\n",
    "| Máxima                              | 10             | Representa la máxima calidad, indicando un vino excepcional que sobresale en todos los aspectos: aroma, sabor y presentación.   |\r\n"
   ]
  },
  {
   "cell_type": "code",
   "execution_count": 32,
   "id": "3855e813-1654-4035-a3e8-54873b6327a4",
   "metadata": {},
   "outputs": [
    {
     "data": {
      "text/html": [
       "<div>\n",
       "<style scoped>\n",
       "    .dataframe tbody tr th:only-of-type {\n",
       "        vertical-align: middle;\n",
       "    }\n",
       "\n",
       "    .dataframe tbody tr th {\n",
       "        vertical-align: top;\n",
       "    }\n",
       "\n",
       "    .dataframe thead th {\n",
       "        text-align: right;\n",
       "    }\n",
       "</style>\n",
       "<table border=\"1\" class=\"dataframe\">\n",
       "  <thead>\n",
       "    <tr style=\"text-align: right;\">\n",
       "      <th></th>\n",
       "      <th>fixed acidity</th>\n",
       "      <th>volatile acidity</th>\n",
       "      <th>citric acid</th>\n",
       "      <th>residual sugar</th>\n",
       "      <th>chlorides</th>\n",
       "      <th>free sulfur dioxide</th>\n",
       "      <th>total sulfur dioxide</th>\n",
       "      <th>density</th>\n",
       "      <th>pH</th>\n",
       "      <th>sulphates</th>\n",
       "      <th>alcohol</th>\n",
       "      <th>quality</th>\n",
       "      <th>class</th>\n",
       "      <th>quality_desc</th>\n",
       "    </tr>\n",
       "  </thead>\n",
       "  <tbody>\n",
       "    <tr>\n",
       "      <th>0</th>\n",
       "      <td>7.4</td>\n",
       "      <td>0.70</td>\n",
       "      <td>0.00</td>\n",
       "      <td>1.9</td>\n",
       "      <td>0.076</td>\n",
       "      <td>11.0</td>\n",
       "      <td>34.0</td>\n",
       "      <td>0.9978</td>\n",
       "      <td>3.51</td>\n",
       "      <td>0.56</td>\n",
       "      <td>9.4</td>\n",
       "      <td>5</td>\n",
       "      <td>red</td>\n",
       "      <td>Media</td>\n",
       "    </tr>\n",
       "    <tr>\n",
       "      <th>1</th>\n",
       "      <td>7.8</td>\n",
       "      <td>0.88</td>\n",
       "      <td>0.00</td>\n",
       "      <td>2.6</td>\n",
       "      <td>0.098</td>\n",
       "      <td>25.0</td>\n",
       "      <td>67.0</td>\n",
       "      <td>0.9968</td>\n",
       "      <td>3.20</td>\n",
       "      <td>0.68</td>\n",
       "      <td>9.8</td>\n",
       "      <td>5</td>\n",
       "      <td>red</td>\n",
       "      <td>Media</td>\n",
       "    </tr>\n",
       "    <tr>\n",
       "      <th>2</th>\n",
       "      <td>7.8</td>\n",
       "      <td>0.76</td>\n",
       "      <td>0.04</td>\n",
       "      <td>2.3</td>\n",
       "      <td>0.092</td>\n",
       "      <td>15.0</td>\n",
       "      <td>54.0</td>\n",
       "      <td>0.9970</td>\n",
       "      <td>3.26</td>\n",
       "      <td>0.65</td>\n",
       "      <td>9.8</td>\n",
       "      <td>5</td>\n",
       "      <td>red</td>\n",
       "      <td>Media</td>\n",
       "    </tr>\n",
       "    <tr>\n",
       "      <th>3</th>\n",
       "      <td>11.2</td>\n",
       "      <td>0.28</td>\n",
       "      <td>0.56</td>\n",
       "      <td>1.9</td>\n",
       "      <td>0.075</td>\n",
       "      <td>17.0</td>\n",
       "      <td>60.0</td>\n",
       "      <td>0.9980</td>\n",
       "      <td>3.16</td>\n",
       "      <td>0.58</td>\n",
       "      <td>9.8</td>\n",
       "      <td>6</td>\n",
       "      <td>red</td>\n",
       "      <td>Buena</td>\n",
       "    </tr>\n",
       "    <tr>\n",
       "      <th>4</th>\n",
       "      <td>7.4</td>\n",
       "      <td>0.70</td>\n",
       "      <td>0.00</td>\n",
       "      <td>1.9</td>\n",
       "      <td>0.076</td>\n",
       "      <td>11.0</td>\n",
       "      <td>34.0</td>\n",
       "      <td>0.9978</td>\n",
       "      <td>3.51</td>\n",
       "      <td>0.56</td>\n",
       "      <td>9.4</td>\n",
       "      <td>5</td>\n",
       "      <td>red</td>\n",
       "      <td>Media</td>\n",
       "    </tr>\n",
       "  </tbody>\n",
       "</table>\n",
       "</div>"
      ],
      "text/plain": [
       "   fixed acidity  volatile acidity  citric acid  residual sugar  chlorides  \\\n",
       "0            7.4              0.70         0.00             1.9      0.076   \n",
       "1            7.8              0.88         0.00             2.6      0.098   \n",
       "2            7.8              0.76         0.04             2.3      0.092   \n",
       "3           11.2              0.28         0.56             1.9      0.075   \n",
       "4            7.4              0.70         0.00             1.9      0.076   \n",
       "\n",
       "   free sulfur dioxide  total sulfur dioxide  density    pH  sulphates  \\\n",
       "0                 11.0                  34.0   0.9978  3.51       0.56   \n",
       "1                 25.0                  67.0   0.9968  3.20       0.68   \n",
       "2                 15.0                  54.0   0.9970  3.26       0.65   \n",
       "3                 17.0                  60.0   0.9980  3.16       0.58   \n",
       "4                 11.0                  34.0   0.9978  3.51       0.56   \n",
       "\n",
       "   alcohol quality class quality_desc  \n",
       "0      9.4       5   red        Media  \n",
       "1      9.8       5   red        Media  \n",
       "2      9.8       5   red        Media  \n",
       "3      9.8       6   red        Buena  \n",
       "4      9.4       5   red        Media  "
      ]
     },
     "execution_count": 32,
     "metadata": {},
     "output_type": "execute_result"
    }
   ],
   "source": [
    "# Definir una función que asigne descripciones basadas en el valor de quality\n",
    "def asignar_calidad_desc(valor):\n",
    "    if valor == 1:\n",
    "        return \"Extremadamente baja\"\n",
    "    elif valor in [2, 3]:\n",
    "        return \"Inferior\"\n",
    "    elif valor in [4, 5]:\n",
    "        return \"Media\"\n",
    "    elif valor in [6, 7]:\n",
    "        return \"Buena\"\n",
    "    elif valor in [8, 9]:\n",
    "        return \"Superior\"\n",
    "    elif valor == 10:\n",
    "        return \"Máxima\"\n",
    "    else:\n",
    "        return \"No definida\"\n",
    "\n",
    "# Aplicar la función para crear la nueva columna quality_desc\n",
    "df['quality_desc'] = df['quality'].apply(asignar_calidad_desc)\n",
    "\n",
    "df.head()"
   ]
  },
  {
   "cell_type": "markdown",
   "id": "c5f29be0-d701-40ae-aae9-011feb7c8d66",
   "metadata": {},
   "source": [
    "#### **⭕️ Clasificación de variables en cualitativas y numéricas.**"
   ]
  },
  {
   "cell_type": "code",
   "execution_count": 33,
   "id": "147f4c4f-3e44-4fb6-b86e-faf8049dc128",
   "metadata": {},
   "outputs": [
    {
     "name": "stdout",
     "output_type": "stream",
     "text": [
      "Variables numéricas:\n",
      "['fixed acidity', 'volatile acidity', 'citric acid', 'residual sugar', 'chlorides', 'free sulfur dioxide', 'total sulfur dioxide', 'density', 'pH', 'sulphates', 'alcohol']\n",
      "Variables cualitativas:\n",
      "['quality', 'class', 'quality_desc']\n"
     ]
    }
   ],
   "source": [
    "# Convertir la columna 'quality' del DataFrame df de tipo numérico a tipo objeto (string o categórico)\n",
    "df['quality'] = df['quality'].astype(object)\n",
    "\n",
    "# Clasificar las variables numéricas y cualitativas en el DataFrame df\n",
    "# Seleccionar las columnas que son de tipo numérico (int64 y float64)\n",
    "variables_numericas = df.select_dtypes(include=['int64', 'float64']).columns.tolist()\n",
    "\n",
    "# Seleccionar las columnas que son de tipo cualitativo (object, category o boolean)\n",
    "variables_cualitativas = df.select_dtypes(include=['object', 'category', 'bool']).columns.tolist()\n",
    "\n",
    "# Imprimir las variables numéricas encontradas en el DataFrame\n",
    "print(\"Variables numéricas:\", variables_numericas, sep=\"\\n\")\n",
    "\n",
    "# Imprimir las variables cualitativas encontradas en el DataFrame\n",
    "print(\"Variables cualitativas:\", variables_cualitativas, sep=\"\\n\")"
   ]
  },
  {
   "cell_type": "markdown",
   "id": "b45d87b4-714d-4b9c-9cda-a77466606f11",
   "metadata": {},
   "source": [
    "#### **⭕️ Generalidades estadisticas**"
   ]
  },
  {
   "cell_type": "code",
   "execution_count": 34,
   "id": "b934c9b1-bc73-4dd5-ba4f-5caeddc9e2df",
   "metadata": {},
   "outputs": [
    {
     "data": {
      "text/html": [
       "<div>\n",
       "<style scoped>\n",
       "    .dataframe tbody tr th:only-of-type {\n",
       "        vertical-align: middle;\n",
       "    }\n",
       "\n",
       "    .dataframe tbody tr th {\n",
       "        vertical-align: top;\n",
       "    }\n",
       "\n",
       "    .dataframe thead th {\n",
       "        text-align: right;\n",
       "    }\n",
       "</style>\n",
       "<table border=\"1\" class=\"dataframe\">\n",
       "  <thead>\n",
       "    <tr style=\"text-align: right;\">\n",
       "      <th></th>\n",
       "      <th>fixed acidity</th>\n",
       "      <th>volatile acidity</th>\n",
       "      <th>citric acid</th>\n",
       "      <th>residual sugar</th>\n",
       "      <th>chlorides</th>\n",
       "      <th>free sulfur dioxide</th>\n",
       "      <th>total sulfur dioxide</th>\n",
       "      <th>density</th>\n",
       "      <th>pH</th>\n",
       "      <th>sulphates</th>\n",
       "      <th>alcohol</th>\n",
       "    </tr>\n",
       "  </thead>\n",
       "  <tbody>\n",
       "    <tr>\n",
       "      <th>count</th>\n",
       "      <td>6497.000000</td>\n",
       "      <td>6497.000000</td>\n",
       "      <td>6497.000000</td>\n",
       "      <td>6497.000000</td>\n",
       "      <td>6497.000000</td>\n",
       "      <td>6497.000000</td>\n",
       "      <td>6497.000000</td>\n",
       "      <td>6497.000000</td>\n",
       "      <td>6497.000000</td>\n",
       "      <td>6497.000000</td>\n",
       "      <td>6497.000000</td>\n",
       "    </tr>\n",
       "    <tr>\n",
       "      <th>mean</th>\n",
       "      <td>7.215307</td>\n",
       "      <td>0.339666</td>\n",
       "      <td>0.318633</td>\n",
       "      <td>5.443235</td>\n",
       "      <td>0.056034</td>\n",
       "      <td>30.525319</td>\n",
       "      <td>115.744574</td>\n",
       "      <td>0.994697</td>\n",
       "      <td>3.218501</td>\n",
       "      <td>0.531268</td>\n",
       "      <td>10.491801</td>\n",
       "    </tr>\n",
       "    <tr>\n",
       "      <th>std</th>\n",
       "      <td>1.296434</td>\n",
       "      <td>0.164636</td>\n",
       "      <td>0.145318</td>\n",
       "      <td>4.757804</td>\n",
       "      <td>0.035034</td>\n",
       "      <td>17.749400</td>\n",
       "      <td>56.521855</td>\n",
       "      <td>0.002999</td>\n",
       "      <td>0.160787</td>\n",
       "      <td>0.148806</td>\n",
       "      <td>1.192712</td>\n",
       "    </tr>\n",
       "    <tr>\n",
       "      <th>min</th>\n",
       "      <td>3.800000</td>\n",
       "      <td>0.080000</td>\n",
       "      <td>0.000000</td>\n",
       "      <td>0.600000</td>\n",
       "      <td>0.009000</td>\n",
       "      <td>1.000000</td>\n",
       "      <td>6.000000</td>\n",
       "      <td>0.987110</td>\n",
       "      <td>2.720000</td>\n",
       "      <td>0.220000</td>\n",
       "      <td>8.000000</td>\n",
       "    </tr>\n",
       "    <tr>\n",
       "      <th>25%</th>\n",
       "      <td>6.400000</td>\n",
       "      <td>0.230000</td>\n",
       "      <td>0.250000</td>\n",
       "      <td>1.800000</td>\n",
       "      <td>0.038000</td>\n",
       "      <td>17.000000</td>\n",
       "      <td>77.000000</td>\n",
       "      <td>0.992340</td>\n",
       "      <td>3.110000</td>\n",
       "      <td>0.430000</td>\n",
       "      <td>9.500000</td>\n",
       "    </tr>\n",
       "    <tr>\n",
       "      <th>50%</th>\n",
       "      <td>7.000000</td>\n",
       "      <td>0.290000</td>\n",
       "      <td>0.310000</td>\n",
       "      <td>3.000000</td>\n",
       "      <td>0.047000</td>\n",
       "      <td>29.000000</td>\n",
       "      <td>118.000000</td>\n",
       "      <td>0.994890</td>\n",
       "      <td>3.210000</td>\n",
       "      <td>0.510000</td>\n",
       "      <td>10.300000</td>\n",
       "    </tr>\n",
       "    <tr>\n",
       "      <th>75%</th>\n",
       "      <td>7.700000</td>\n",
       "      <td>0.400000</td>\n",
       "      <td>0.390000</td>\n",
       "      <td>8.100000</td>\n",
       "      <td>0.065000</td>\n",
       "      <td>41.000000</td>\n",
       "      <td>156.000000</td>\n",
       "      <td>0.996990</td>\n",
       "      <td>3.320000</td>\n",
       "      <td>0.600000</td>\n",
       "      <td>11.300000</td>\n",
       "    </tr>\n",
       "    <tr>\n",
       "      <th>max</th>\n",
       "      <td>15.900000</td>\n",
       "      <td>1.580000</td>\n",
       "      <td>1.660000</td>\n",
       "      <td>65.800000</td>\n",
       "      <td>0.611000</td>\n",
       "      <td>289.000000</td>\n",
       "      <td>440.000000</td>\n",
       "      <td>1.038980</td>\n",
       "      <td>4.010000</td>\n",
       "      <td>2.000000</td>\n",
       "      <td>14.900000</td>\n",
       "    </tr>\n",
       "  </tbody>\n",
       "</table>\n",
       "</div>"
      ],
      "text/plain": [
       "       fixed acidity  volatile acidity  citric acid  residual sugar  \\\n",
       "count    6497.000000       6497.000000  6497.000000     6497.000000   \n",
       "mean        7.215307          0.339666     0.318633        5.443235   \n",
       "std         1.296434          0.164636     0.145318        4.757804   \n",
       "min         3.800000          0.080000     0.000000        0.600000   \n",
       "25%         6.400000          0.230000     0.250000        1.800000   \n",
       "50%         7.000000          0.290000     0.310000        3.000000   \n",
       "75%         7.700000          0.400000     0.390000        8.100000   \n",
       "max        15.900000          1.580000     1.660000       65.800000   \n",
       "\n",
       "         chlorides  free sulfur dioxide  total sulfur dioxide      density  \\\n",
       "count  6497.000000          6497.000000           6497.000000  6497.000000   \n",
       "mean      0.056034            30.525319            115.744574     0.994697   \n",
       "std       0.035034            17.749400             56.521855     0.002999   \n",
       "min       0.009000             1.000000              6.000000     0.987110   \n",
       "25%       0.038000            17.000000             77.000000     0.992340   \n",
       "50%       0.047000            29.000000            118.000000     0.994890   \n",
       "75%       0.065000            41.000000            156.000000     0.996990   \n",
       "max       0.611000           289.000000            440.000000     1.038980   \n",
       "\n",
       "                pH    sulphates      alcohol  \n",
       "count  6497.000000  6497.000000  6497.000000  \n",
       "mean      3.218501     0.531268    10.491801  \n",
       "std       0.160787     0.148806     1.192712  \n",
       "min       2.720000     0.220000     8.000000  \n",
       "25%       3.110000     0.430000     9.500000  \n",
       "50%       3.210000     0.510000    10.300000  \n",
       "75%       3.320000     0.600000    11.300000  \n",
       "max       4.010000     2.000000    14.900000  "
      ]
     },
     "execution_count": 34,
     "metadata": {},
     "output_type": "execute_result"
    }
   ],
   "source": [
    "df.describe()"
   ]
  },
  {
   "cell_type": "code",
   "execution_count": null,
   "id": "ede281f9-0708-42e2-9a90-1fe9f29006bf",
   "metadata": {},
   "outputs": [],
   "source": []
  }
 ],
 "metadata": {
  "kernelspec": {
   "display_name": "Python 3 (ipykernel)",
   "language": "python",
   "name": "python3"
  },
  "language_info": {
   "codemirror_mode": {
    "name": "ipython",
    "version": 3
   },
   "file_extension": ".py",
   "mimetype": "text/x-python",
   "name": "python",
   "nbconvert_exporter": "python",
   "pygments_lexer": "ipython3",
   "version": "3.12.4"
  }
 },
 "nbformat": 4,
 "nbformat_minor": 5
}
