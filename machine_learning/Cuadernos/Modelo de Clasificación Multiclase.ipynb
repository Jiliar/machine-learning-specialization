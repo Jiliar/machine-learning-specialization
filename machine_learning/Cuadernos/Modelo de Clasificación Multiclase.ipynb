{
 "cells": [
  {
   "cell_type": "code",
   "execution_count": 4,
   "id": "a30d5c1b-87c7-4586-84fb-33ec047f90ad",
   "metadata": {},
   "outputs": [],
   "source": [
    "import pandas as pd\n",
    "import matplotlib.pyplot as plt \n",
    "from sklearn import datasets\n",
    "from sklearn.model_selection import train_test_split\n",
    "from sklearn.preprocessing import StandardScaler\n",
    "from sklearn.linear_model import LogisticRegression\n",
    "from sklearn.metrics import classification_report, precision_recall_curve"
   ]
  },
  {
   "cell_type": "code",
   "execution_count": 7,
   "id": "26285ab2-ef67-4d1b-a507-fa6f10297c5a",
   "metadata": {},
   "outputs": [
    {
     "data": {
      "text/html": [
       "<div>\n",
       "<style scoped>\n",
       "    .dataframe tbody tr th:only-of-type {\n",
       "        vertical-align: middle;\n",
       "    }\n",
       "\n",
       "    .dataframe tbody tr th {\n",
       "        vertical-align: top;\n",
       "    }\n",
       "\n",
       "    .dataframe thead th {\n",
       "        text-align: right;\n",
       "    }\n",
       "</style>\n",
       "<table border=\"1\" class=\"dataframe\">\n",
       "  <thead>\n",
       "    <tr style=\"text-align: right;\">\n",
       "      <th></th>\n",
       "      <th>sepal length (cm)</th>\n",
       "      <th>sepal width (cm)</th>\n",
       "      <th>petal length (cm)</th>\n",
       "      <th>petal width (cm)</th>\n",
       "    </tr>\n",
       "  </thead>\n",
       "  <tbody>\n",
       "    <tr>\n",
       "      <th>0</th>\n",
       "      <td>5.1</td>\n",
       "      <td>3.5</td>\n",
       "      <td>1.4</td>\n",
       "      <td>0.2</td>\n",
       "    </tr>\n",
       "    <tr>\n",
       "      <th>1</th>\n",
       "      <td>4.9</td>\n",
       "      <td>3.0</td>\n",
       "      <td>1.4</td>\n",
       "      <td>0.2</td>\n",
       "    </tr>\n",
       "    <tr>\n",
       "      <th>2</th>\n",
       "      <td>4.7</td>\n",
       "      <td>3.2</td>\n",
       "      <td>1.3</td>\n",
       "      <td>0.2</td>\n",
       "    </tr>\n",
       "    <tr>\n",
       "      <th>3</th>\n",
       "      <td>4.6</td>\n",
       "      <td>3.1</td>\n",
       "      <td>1.5</td>\n",
       "      <td>0.2</td>\n",
       "    </tr>\n",
       "    <tr>\n",
       "      <th>4</th>\n",
       "      <td>5.0</td>\n",
       "      <td>3.6</td>\n",
       "      <td>1.4</td>\n",
       "      <td>0.2</td>\n",
       "    </tr>\n",
       "  </tbody>\n",
       "</table>\n",
       "</div>"
      ],
      "text/plain": [
       "   sepal length (cm)  sepal width (cm)  petal length (cm)  petal width (cm)\n",
       "0                5.1               3.5                1.4               0.2\n",
       "1                4.9               3.0                1.4               0.2\n",
       "2                4.7               3.2                1.3               0.2\n",
       "3                4.6               3.1                1.5               0.2\n",
       "4                5.0               3.6                1.4               0.2"
      ]
     },
     "execution_count": 7,
     "metadata": {},
     "output_type": "execute_result"
    }
   ],
   "source": [
    "data = datasets.load_iris()\n",
    "df = pd.DataFrame(data.data, columns = data.feature_names)\n",
    "df.head(5)"
   ]
  },
  {
   "cell_type": "code",
   "execution_count": 9,
   "id": "cc49434d-b119-4b0f-a37b-1cacf70f4adb",
   "metadata": {},
   "outputs": [
    {
     "name": "stdout",
     "output_type": "stream",
     "text": [
      "              precision    recall  f1-score   support\n",
      "\n",
      "           0       1.00      1.00      1.00        16\n",
      "           1       0.85      0.96      0.90        23\n",
      "           2       0.94      0.81      0.87        21\n",
      "\n",
      "    accuracy                           0.92        60\n",
      "   macro avg       0.93      0.92      0.92        60\n",
      "weighted avg       0.92      0.92      0.92        60\n",
      "\n"
     ]
    }
   ],
   "source": [
    "X_train, X_test, Y_train, Y_test = train_test_split(data.data, data.target, test_size = 0.4, random_state = 0)\n",
    "model = LogisticRegression()\n",
    "model.fit(X_train, Y_train)\n",
    "Y_pred = model.predict(X_test)\n",
    "Y_pred_probability = model.predict_proba(X_test)\n",
    "print(classification_report(Y_test, Y_pred))"
   ]
  },
  {
   "cell_type": "code",
   "execution_count": 10,
   "id": "0d64a910-aff0-43c8-af69-f965f7876771",
   "metadata": {},
   "outputs": [
    {
     "data": {
      "text/plain": [
       "array([[-0.44744323,  0.66852964, -2.14742464, -0.93048837],\n",
       "       [ 0.34094558, -0.60676942, -0.09795659, -0.6335666 ],\n",
       "       [ 0.10649765, -0.06176022,  2.24538124,  1.56405497]])"
      ]
     },
     "execution_count": 10,
     "metadata": {},
     "output_type": "execute_result"
    }
   ],
   "source": [
    "model.coef_"
   ]
  },
  {
   "cell_type": "code",
   "execution_count": 11,
   "id": "7e3b0cab-2f13-4de2-8bef-ba7ac96c126d",
   "metadata": {},
   "outputs": [
    {
     "data": {
      "text/plain": [
       "array([  9.30654654,   3.05962179, -12.36616832])"
      ]
     },
     "execution_count": 11,
     "metadata": {},
     "output_type": "execute_result"
    }
   ],
   "source": [
    "model.intercept_"
   ]
  },
  {
   "cell_type": "code",
   "execution_count": 12,
   "id": "d486e055-4d6d-4dec-8ded-e5eef1ffb8e7",
   "metadata": {},
   "outputs": [
    {
     "data": {
      "text/plain": [
       "array([[3.29825430e-04, 1.22805343e-01, 8.76864832e-01],\n",
       "       [1.49261191e-02, 9.68411189e-01, 1.66626920e-02],\n",
       "       [9.87110645e-01, 1.28890666e-02, 2.88839779e-07],\n",
       "       [3.88052369e-06, 4.06203439e-02, 9.59375776e-01],\n",
       "       [9.70897321e-01, 2.91020794e-02, 5.99354210e-07],\n",
       "       [6.07111037e-06, 1.15459742e-02, 9.88447955e-01],\n",
       "       [9.82279008e-01, 1.77206914e-02, 3.00477117e-07],\n",
       "       [4.17764768e-03, 7.27405437e-01, 2.68416915e-01],\n",
       "       [2.31301535e-03, 7.61256930e-01, 2.36430055e-01],\n",
       "       [2.61003455e-02, 9.31902944e-01, 4.19967105e-02],\n",
       "       [2.52670782e-04, 3.18465164e-01, 6.81282165e-01],\n",
       "       [9.77397249e-03, 7.84870316e-01, 2.05355711e-01],\n",
       "       [5.75872163e-03, 8.37927086e-01, 1.56314192e-01],\n",
       "       [4.44887933e-03, 7.90252929e-01, 2.05298192e-01],\n",
       "       [5.60299177e-03, 7.61561343e-01, 2.32835665e-01],\n",
       "       [9.83307032e-01, 1.66927192e-02, 2.49227584e-07],\n",
       "       [9.27256800e-03, 7.96390845e-01, 1.94336587e-01],\n",
       "       [1.42245600e-02, 8.99979279e-01, 8.57961605e-02],\n",
       "       [9.65450667e-01, 3.45487425e-02, 5.90948316e-07],\n",
       "       [9.84934836e-01, 1.50648036e-02, 3.60317805e-07],\n",
       "       [1.80869571e-03, 3.39019690e-01, 6.59171614e-01],\n",
       "       [1.39343595e-02, 7.68547200e-01, 2.17518441e-01],\n",
       "       [9.45072449e-01, 5.49245245e-02, 3.02669882e-06],\n",
       "       [9.72015674e-01, 2.79839263e-02, 3.99615881e-07],\n",
       "       [2.32131854e-03, 5.36083368e-01, 4.61595313e-01],\n",
       "       [9.93955554e-01, 6.04439891e-03, 4.72421862e-08],\n",
       "       [9.55187525e-01, 4.48080328e-02, 4.44195061e-06],\n",
       "       [1.43270665e-02, 9.01067362e-01, 8.46055711e-02],\n",
       "       [1.38662647e-01, 8.57517662e-01, 3.81969117e-03],\n",
       "       [9.62422191e-01, 3.75762911e-02, 1.51819061e-06],\n",
       "       [2.15596006e-04, 1.66921066e-01, 8.32863338e-01],\n",
       "       [1.61076591e-02, 7.58817575e-01, 2.25074766e-01],\n",
       "       [9.70033266e-01, 2.99661117e-02, 6.21864110e-07],\n",
       "       [2.19183145e-03, 4.44940209e-01, 5.52867959e-01],\n",
       "       [4.58511289e-05, 7.19390896e-02, 9.28015059e-01],\n",
       "       [5.37257749e-02, 8.99553327e-01, 4.67208976e-02],\n",
       "       [9.53736296e-01, 4.62617023e-02, 2.00155055e-06],\n",
       "       [1.21093254e-03, 4.72885500e-01, 5.25903568e-01],\n",
       "       [2.28748623e-02, 8.64247427e-01, 1.12877711e-01],\n",
       "       [2.66399609e-02, 9.40624003e-01, 3.27360361e-02],\n",
       "       [8.14271615e-05, 1.07316841e-01, 8.92601732e-01],\n",
       "       [9.80135354e-01, 1.98643993e-02, 2.46321416e-07],\n",
       "       [2.74096800e-04, 1.60848693e-01, 8.38877210e-01],\n",
       "       [9.64809661e-01, 3.51880087e-02, 2.33001927e-06],\n",
       "       [9.72738059e-01, 2.72613392e-02, 6.01987252e-07],\n",
       "       [6.78302407e-02, 9.26569674e-01, 5.60008540e-03],\n",
       "       [1.87085984e-04, 1.78047761e-01, 8.21765153e-01],\n",
       "       [1.79183541e-05, 2.52578240e-02, 9.74724258e-01],\n",
       "       [1.11164477e-03, 6.49572057e-01, 3.49316299e-01],\n",
       "       [3.29950478e-05, 1.28638829e-01, 8.71328176e-01],\n",
       "       [3.48564058e-02, 9.44429653e-01, 2.07139407e-02],\n",
       "       [2.35608874e-06, 2.29127777e-02, 9.77084866e-01],\n",
       "       [6.27026266e-03, 6.35766122e-01, 3.57963615e-01],\n",
       "       [4.07080744e-02, 9.43423191e-01, 1.58687343e-02],\n",
       "       [1.42805000e-03, 4.97591668e-01, 5.00980282e-01],\n",
       "       [1.25755432e-03, 5.31618386e-01, 4.67124060e-01],\n",
       "       [1.11227949e-02, 7.09317044e-01, 2.79560161e-01],\n",
       "       [7.25695021e-04, 4.12626688e-01, 5.86647617e-01],\n",
       "       [4.09096704e-03, 7.71095027e-01, 2.24814006e-01],\n",
       "       [4.02620748e-04, 2.19866930e-01, 7.79730449e-01]])"
      ]
     },
     "execution_count": 12,
     "metadata": {},
     "output_type": "execute_result"
    }
   ],
   "source": [
    "Y_pred_probability"
   ]
  },
  {
   "cell_type": "code",
   "execution_count": 16,
   "id": "44565098-7276-45e3-90ae-70ae3ae19de7",
   "metadata": {},
   "outputs": [],
   "source": [
    "precision_0, recall_0, _ = precision_recall_curve(Y_test==0, Y_pred_probability[:,0])\n",
    "precision_1, recall_1, _ = precision_recall_curve(Y_test==1, Y_pred_probability[:,1])\n",
    "precision_2, recall_2, _ = precision_recall_curve(Y_test==2, Y_pred_probability[:,2])"
   ]
  },
  {
   "cell_type": "code",
   "execution_count": 17,
   "id": "16fa0df9-2575-46b2-8b6f-1deced357dae",
   "metadata": {},
   "outputs": [
    {
     "data": {
      "image/png": "[encoded data removed]",
      "text/plain": [
       "<Figure size 1500x500 with 3 Axes>"
      ]
     },
     "metadata": {},
     "output_type": "display_data"
    }
   ],
   "source": [
    "# Crear la figura y los subplots\n",
    "fig, axes = plt.subplots(1, 3, figsize=(15, 5))\n",
    "\n",
    "# Subplot para la clase 0\n",
    "axes[0].plot(recall_0, precision_0, color='blue', label='Clase 0')\n",
    "axes[0].set_title('Clase 0: Precisión vs Recall')\n",
    "axes[0].set_xlabel('Recall')\n",
    "axes[0].set_ylabel('Precisión')\n",
    "axes[0].legend()\n",
    "\n",
    "# Subplot para la clase 1\n",
    "axes[1].plot(recall_1, precision_1, color='green', label='Clase 1')\n",
    "axes[1].set_title('Clase 1: Precisión vs Recall')\n",
    "axes[1].set_xlabel('Recall')\n",
    "axes[1].set_ylabel('Precisión')\n",
    "axes[1].legend()\n",
    "\n",
    "# Subplot para la clase 2\n",
    "axes[2].plot(recall_2, precision_2, color='red', label='Clase 2')\n",
    "axes[2].set_title('Clase 2: Precisión vs Recall')\n",
    "axes[2].set_xlabel('Recall')\n",
    "axes[2].set_ylabel('Precisión')\n",
    "axes[2].legend()\n",
    "\n",
    "# Ajustar el espacio entre los subplots\n",
    "plt.tight_layout()\n",
    "plt.show()"
   ]
  },
  {
   "cell_type": "code",
   "execution_count": null,
   "id": "e8b5b709-69dc-45b5-8a88-8c363a506ade",
   "metadata": {},
   "outputs": [],
   "source": []
  }
 ],
 "metadata": {
  "kernelspec": {
   "display_name": "Python 3 (ipykernel)",
   "language": "python",
   "name": "python3"
  },
  "language_info": {
   "codemirror_mode": {
    "name": "ipython",
    "version": 3
   },
   "file_extension": ".py",
   "mimetype": "text/x-python",
   "name": "python",
   "nbconvert_exporter": "python",
   "pygments_lexer": "ipython3",
   "version": "3.12.4"
  }
 },
 "nbformat": 4,
 "nbformat_minor": 5
}
