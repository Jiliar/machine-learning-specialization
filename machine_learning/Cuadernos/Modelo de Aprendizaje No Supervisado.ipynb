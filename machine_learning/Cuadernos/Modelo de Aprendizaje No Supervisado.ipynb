{
 "cells": [
  {
   "cell_type": "code",
   "execution_count": 16,
   "id": "bec5b623-56a4-4c77-96bc-b53c833a6c21",
   "metadata": {},
   "outputs": [],
   "source": [
    "import numpy as np\n",
    "import pandas as pd\n",
    "import matplotlib.pyplot as plt\n",
    "\n",
    "from sklearn.decomposition import PCA\n",
    "from sklearn.preprocessing import StandardScaler"
   ]
  },
  {
   "cell_type": "code",
   "execution_count": 6,
   "id": "994943c8-1d96-4a52-a78f-044ab654017e",
   "metadata": {},
   "outputs": [
    {
     "data": {
      "text/plain": [
       "array([30.86792478, 52.82288789, 81.32114212, 69.36406935, 62.76292935,\n",
       "       99.29571594, 29.35367583, 90.84098191, 88.2853417 , 73.74124212,\n",
       "       89.29863297, 46.03327774, 42.6665388 , 40.52906143,  4.95776633,\n",
       "       13.5026989 , 86.94400179, 41.2427781 , 78.60260374,  4.23712568,\n",
       "       59.44398466, 13.43061226, 54.01708743, 85.74235168, 22.74265676,\n",
       "       83.69871675, 56.00525825, 73.74498424, 79.4270908 , 16.97595047,\n",
       "        4.15627098, 66.85332083, 39.48654712, 40.76803938, 13.28118021,\n",
       "       72.12784296, 82.75413413, 38.04788888, 85.04258877, 89.5446114 ,\n",
       "       68.91364935, 80.64846214, 64.22746201, 29.63425649, 87.59977344,\n",
       "       39.03229609, 87.55361082, 61.10756467, 40.08338293, 86.07717498])"
      ]
     },
     "execution_count": 6,
     "metadata": {},
     "output_type": "execute_result"
    }
   ],
   "source": [
    "x = 100 * np.random.random_sample(50)\n",
    "x"
   ]
  },
  {
   "cell_type": "code",
   "execution_count": 11,
   "id": "9dfe78c4-418e-487a-a49f-df42fbc51a67",
   "metadata": {},
   "outputs": [],
   "source": [
    "y = 2 * x + 200 + ((-1)**(np.random.randint(1, 10))) * 30 * np.random.random_sample(50)"
   ]
  },
  {
   "cell_type": "code",
   "execution_count": 13,
   "id": "eabfb1af-2840-4202-bbf4-5dbcfe306942",
   "metadata": {},
   "outputs": [],
   "source": [
    "x1 = np.arange(0, 100, 0.1)"
   ]
  },
  {
   "cell_type": "code",
   "execution_count": 15,
   "id": "7342e128-2f4e-4b73-8384-90d09a402e44",
   "metadata": {},
   "outputs": [],
   "source": [
    "y1 = 2 * x1 + 200"
   ]
  },
  {
   "cell_type": "code",
   "execution_count": 20,
   "id": "7dfa69d1-37ee-434d-94fc-1c890f769b02",
   "metadata": {},
   "outputs": [
    {
     "data": {
      "text/plain": [
       "Text(0, 0.5, 'y')"
      ]
     },
     "execution_count": 20,
     "metadata": {},
     "output_type": "execute_result"
    },
    {
     "data": {
      "image/png": "[encoded data removed]",
      "text/plain": [
       "<Figure size 640x480 with 1 Axes>"
      ]
     },
     "metadata": {},
     "output_type": "display_data"
    }
   ],
   "source": [
    "plt.scatter(x, y, s=10, c = 'red', alpha = 0)\n",
    "plt.title('Ejercicio 1')\n",
    "plt.xlabel('x')\n",
    "plt.ylabel('y')"
   ]
  },
  {
   "cell_type": "code",
   "execution_count": 19,
   "id": "26c42396-b016-4678-b5e7-449982fc9bee",
   "metadata": {},
   "outputs": [
    {
     "data": {
      "text/html": [
       "<div>\n",
       "<style scoped>\n",
       "    .dataframe tbody tr th:only-of-type {\n",
       "        vertical-align: middle;\n",
       "    }\n",
       "\n",
       "    .dataframe tbody tr th {\n",
       "        vertical-align: top;\n",
       "    }\n",
       "\n",
       "    .dataframe thead th {\n",
       "        text-align: right;\n",
       "    }\n",
       "</style>\n",
       "<table border=\"1\" class=\"dataframe\">\n",
       "  <thead>\n",
       "    <tr style=\"text-align: right;\">\n",
       "      <th></th>\n",
       "      <th>x</th>\n",
       "      <th>y</th>\n",
       "    </tr>\n",
       "  </thead>\n",
       "  <tbody>\n",
       "    <tr>\n",
       "      <th>count</th>\n",
       "      <td>50.000000</td>\n",
       "      <td>50.000000</td>\n",
       "    </tr>\n",
       "    <tr>\n",
       "      <th>mean</th>\n",
       "      <td>56.976783</td>\n",
       "      <td>297.045337</td>\n",
       "    </tr>\n",
       "    <tr>\n",
       "      <th>std</th>\n",
       "      <td>27.625401</td>\n",
       "      <td>55.885250</td>\n",
       "    </tr>\n",
       "    <tr>\n",
       "      <th>min</th>\n",
       "      <td>4.156271</td>\n",
       "      <td>188.173977</td>\n",
       "    </tr>\n",
       "    <tr>\n",
       "      <th>25%</th>\n",
       "      <td>39.145859</td>\n",
       "      <td>252.237280</td>\n",
       "    </tr>\n",
       "    <tr>\n",
       "      <th>50%</th>\n",
       "      <td>61.935247</td>\n",
       "      <td>313.426410</td>\n",
       "    </tr>\n",
       "    <tr>\n",
       "      <th>75%</th>\n",
       "      <td>82.395886</td>\n",
       "      <td>345.127260</td>\n",
       "    </tr>\n",
       "    <tr>\n",
       "      <th>max</th>\n",
       "      <td>99.295716</td>\n",
       "      <td>390.612948</td>\n",
       "    </tr>\n",
       "  </tbody>\n",
       "</table>\n",
       "</div>"
      ],
      "text/plain": [
       "               x           y\n",
       "count  50.000000   50.000000\n",
       "mean   56.976783  297.045337\n",
       "std    27.625401   55.885250\n",
       "min     4.156271  188.173977\n",
       "25%    39.145859  252.237280\n",
       "50%    61.935247  313.426410\n",
       "75%    82.395886  345.127260\n",
       "max    99.295716  390.612948"
      ]
     },
     "execution_count": 19,
     "metadata": {},
     "output_type": "execute_result"
    }
   ],
   "source": [
    "df = pd.DataFrame(np.transpose(np.array([x, y])), columns=['x', 'y'])\n",
    "df.describe()"
   ]
  },
  {
   "cell_type": "code",
   "execution_count": null,
   "id": "d5dcb9b8-8b85-4614-a512-37dea437b74e",
   "metadata": {},
   "outputs": [],
   "source": [
    "scaler = StandardScaler()\n"
   ]
  }
 ],
 "metadata": {
  "kernelspec": {
   "display_name": "Python 3 (ipykernel)",
   "language": "python",
   "name": "python3"
  },
  "language_info": {
   "codemirror_mode": {
    "name": "ipython",
    "version": 3
   },
   "file_extension": ".py",
   "mimetype": "text/x-python",
   "name": "python",
   "nbconvert_exporter": "python",
   "pygments_lexer": "ipython3",
   "version": "3.12.4"
  }
 },
 "nbformat": 4,
 "nbformat_minor": 5
}
